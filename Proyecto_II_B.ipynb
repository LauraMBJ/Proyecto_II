{
  "nbformat": 4,
  "nbformat_minor": 0,
  "metadata": {
    "colab": {
      "provenance": [],
      "mount_file_id": "164gWR8A55AAZHYmnxkBAgOhp4mKC8RR9",
      "authorship_tag": "ABX9TyNCJLZejovlYWI46SYAdTIv",
      "include_colab_link": true
    },
    "kernelspec": {
      "name": "python3",
      "display_name": "Python 3"
    },
    "language_info": {
      "name": "python"
    }
  },
  "cells": [
    {
      "cell_type": "markdown",
      "metadata": {
        "id": "view-in-github",
        "colab_type": "text"
      },
      "source": [
        "<a href=\"https://colab.research.google.com/github/LauraMBJ/Proyecto_II/blob/main/Proyecto_II_B.ipynb\" target=\"_parent\"><img src=\"https://colab.research.google.com/assets/colab-badge.svg\" alt=\"Open In Colab\"/></a>"
      ]
    },
    {
      "cell_type": "code",
      "execution_count": 140,
      "metadata": {
        "id": "OMCFuvLwcjcw"
      },
      "outputs": [],
      "source": [
        "import pandas as pd\n",
        "import numpy as np\n",
        "import matplotlib.pyplot as plt\n",
        "import seaborn as sns\n",
        "\n",
        "from sklearn.preprocessing import StandardScaler, OneHotEncoder\n",
        "\n",
        "from sklearn.pipeline import make_pipeline\n",
        "\n",
        "from sklearn.impute import SimpleImputer\n",
        "\n",
        "from sklearn.model_selection import train_test_split\n",
        "\n",
        "from sklearn.compose import make_column_selector, make_column_transformer\n",
        "\n",
        "# Regresion Lineal\n",
        "from sklearn.linear_model import LinearRegression\n",
        "from sklearn.tree import DecisionTreeRegressor\n",
        "from sklearn.linear_model import LogisticRegression\n",
        "\n",
        "# Import the bagging regressor\n",
        "from sklearn.ensemble import BaggingRegressor\n",
        "\n",
        "# Regresor de bosque aleatorio\n",
        "from sklearn.ensemble import RandomForestRegressor\n",
        "\n",
        "#Clasificacion\n",
        "from sklearn.tree import DecisionTreeClassifier\n",
        "from sklearn.ensemble import BaggingClassifier\n",
        "from sklearn.ensemble import RandomForestClassifier\n",
        "from sklearn.neighbors import KNeighborsClassifier\n",
        "from sklearn.linear_model import LogisticRegression\n",
        "\n",
        "from sklearn import set_config\n",
        "set_config(display='diagram')\n",
        "\n",
        "#métricas para evaluar modelos de regresión\n",
        "from sklearn.metrics import r2_score\n",
        "from sklearn.metrics import mean_absolute_error\n",
        "from sklearn.metrics import mean_squared_error\n",
        "from sklearn.metrics import roc_auc_score, RocCurveDisplay\n",
        "\n",
        "from sklearn.metrics import classification_report\n",
        "\n",
        "#Matriz de Confusion\n",
        "from sklearn.metrics import plot_confusion_matrix\n",
        "from sklearn.metrics import ConfusionMatrixDisplay\n",
        "from sklearn import metrics\n",
        "\n",
        "# Visualizando árbol de decisión\n",
        "from sklearn import tree\n",
        "\n",
        "#importar dataset de sklearn\n",
        "from sklearn.datasets import load_iris\n",
        "\n",
        "\n",
        "#Modelos No Supervisados\n",
        "from sklearn.cluster import KMeans\n",
        "#métricas de evaluacion de agrupamiento\n",
        "from sklearn.metrics import silhouette_score\n",
        "\n",
        "from sklearn.cluster import DBSCAN\n",
        "from sklearn.cluster import AgglomerativeClustering\n",
        "\n",
        "#dendogrma\n",
        "import scipy.cluster.hierarchy as sch\n",
        "\n",
        "#PCA\n",
        "from sklearn.preprocessing import LabelEncoder\n",
        "from sklearn.decomposition import PCA\n",
        "\n",
        "#Keras\n",
        "from tensorflow.keras.models import Sequential\n",
        "from tensorflow.keras.layers import Dense, Dropout, Flatten, Conv2D, MaxPooling2D, LSTM\n",
        "from tensorflow.keras.callbacks import EarlyStopping\n",
        "from tensorflow.keras.utils import to_categorical\n",
        "from tensorflow.keras.datasets import mnist\n",
        "from tensorflow.keras.preprocessing.sequence import TimeseriesGenerator\n",
        "from sklearn.preprocessing import MinMaxScaler\n",
        "\n",
        "\n"
      ]
    },
    {
      "cell_type": "markdown",
      "source": [
        "# **Segunda opción: conjunto de datos 2**\n",
        "\n",
        "**1) Fuente de datos**\n",
        "https://www.kaggle.com/datasets/aungpyaeap/supermarket-sales\n",
        "\n",
        "**2) Breve descripción de datos**\n",
        "\n",
        "El dataset contien las ventas históricas de la empresa de supermercados que ha registrado en 3 sucursales diferentes durante 3 meses."
      ],
      "metadata": {
        "id": "w92XH8ey8vNL"
      }
    },
    {
      "cell_type": "code",
      "source": [
        "df = pd.read_csv('/content/supermarket_sales - Sheet1.csv', index_col= 'Invoice ID')\n",
        "df.head()"
      ],
      "metadata": {
        "id": "rfHORLQ4c9lH",
        "colab": {
          "base_uri": "https://localhost:8080/",
          "height": 238
        },
        "outputId": "16d5ae42-265e-4196-fd76-b10e90657f41"
      },
      "execution_count": 141,
      "outputs": [
        {
          "output_type": "execute_result",
          "data": {
            "text/plain": [
              "            Branch       City Customer type  Gender            Product line  \\\n",
              "Invoice ID                                                                    \n",
              "750-67-8428      A     Yangon        Member  Female       Health and beauty   \n",
              "226-31-3081      C  Naypyitaw        Normal  Female  Electronic accessories   \n",
              "631-41-3108      A     Yangon        Normal    Male      Home and lifestyle   \n",
              "123-19-1176      A     Yangon        Member    Male       Health and beauty   \n",
              "373-73-7910      A     Yangon        Normal    Male       Sports and travel   \n",
              "\n",
              "             Unit price  Quantity   Tax 5%     Total       Date   Time  \\\n",
              "Invoice ID                                                               \n",
              "750-67-8428       74.69         7  26.1415  548.9715   1/5/2019  13:08   \n",
              "226-31-3081       15.28         5   3.8200   80.2200   3/8/2019  10:29   \n",
              "631-41-3108       46.33         7  16.2155  340.5255   3/3/2019  13:23   \n",
              "123-19-1176       58.22         8  23.2880  489.0480  1/27/2019  20:33   \n",
              "373-73-7910       86.31         7  30.2085  634.3785   2/8/2019  10:37   \n",
              "\n",
              "                 Payment    cogs  gross margin percentage  gross income  \\\n",
              "Invoice ID                                                                \n",
              "750-67-8428      Ewallet  522.83                 4.761905       26.1415   \n",
              "226-31-3081         Cash   76.40                 4.761905        3.8200   \n",
              "631-41-3108  Credit card  324.31                 4.761905       16.2155   \n",
              "123-19-1176      Ewallet  465.76                 4.761905       23.2880   \n",
              "373-73-7910      Ewallet  604.17                 4.761905       30.2085   \n",
              "\n",
              "             Rating  \n",
              "Invoice ID           \n",
              "750-67-8428     9.1  \n",
              "226-31-3081     9.6  \n",
              "631-41-3108     7.4  \n",
              "123-19-1176     8.4  \n",
              "373-73-7910     5.3  "
            ],
            "text/html": [
              "\n",
              "  <div id=\"df-8c475afb-60d4-4c9a-9f80-fa1a3e9edcb9\">\n",
              "    <div class=\"colab-df-container\">\n",
              "      <div>\n",
              "<style scoped>\n",
              "    .dataframe tbody tr th:only-of-type {\n",
              "        vertical-align: middle;\n",
              "    }\n",
              "\n",
              "    .dataframe tbody tr th {\n",
              "        vertical-align: top;\n",
              "    }\n",
              "\n",
              "    .dataframe thead th {\n",
              "        text-align: right;\n",
              "    }\n",
              "</style>\n",
              "<table border=\"1\" class=\"dataframe\">\n",
              "  <thead>\n",
              "    <tr style=\"text-align: right;\">\n",
              "      <th></th>\n",
              "      <th>Branch</th>\n",
              "      <th>City</th>\n",
              "      <th>Customer type</th>\n",
              "      <th>Gender</th>\n",
              "      <th>Product line</th>\n",
              "      <th>Unit price</th>\n",
              "      <th>Quantity</th>\n",
              "      <th>Tax 5%</th>\n",
              "      <th>Total</th>\n",
              "      <th>Date</th>\n",
              "      <th>Time</th>\n",
              "      <th>Payment</th>\n",
              "      <th>cogs</th>\n",
              "      <th>gross margin percentage</th>\n",
              "      <th>gross income</th>\n",
              "      <th>Rating</th>\n",
              "    </tr>\n",
              "    <tr>\n",
              "      <th>Invoice ID</th>\n",
              "      <th></th>\n",
              "      <th></th>\n",
              "      <th></th>\n",
              "      <th></th>\n",
              "      <th></th>\n",
              "      <th></th>\n",
              "      <th></th>\n",
              "      <th></th>\n",
              "      <th></th>\n",
              "      <th></th>\n",
              "      <th></th>\n",
              "      <th></th>\n",
              "      <th></th>\n",
              "      <th></th>\n",
              "      <th></th>\n",
              "      <th></th>\n",
              "    </tr>\n",
              "  </thead>\n",
              "  <tbody>\n",
              "    <tr>\n",
              "      <th>750-67-8428</th>\n",
              "      <td>A</td>\n",
              "      <td>Yangon</td>\n",
              "      <td>Member</td>\n",
              "      <td>Female</td>\n",
              "      <td>Health and beauty</td>\n",
              "      <td>74.69</td>\n",
              "      <td>7</td>\n",
              "      <td>26.1415</td>\n",
              "      <td>548.9715</td>\n",
              "      <td>1/5/2019</td>\n",
              "      <td>13:08</td>\n",
              "      <td>Ewallet</td>\n",
              "      <td>522.83</td>\n",
              "      <td>4.761905</td>\n",
              "      <td>26.1415</td>\n",
              "      <td>9.1</td>\n",
              "    </tr>\n",
              "    <tr>\n",
              "      <th>226-31-3081</th>\n",
              "      <td>C</td>\n",
              "      <td>Naypyitaw</td>\n",
              "      <td>Normal</td>\n",
              "      <td>Female</td>\n",
              "      <td>Electronic accessories</td>\n",
              "      <td>15.28</td>\n",
              "      <td>5</td>\n",
              "      <td>3.8200</td>\n",
              "      <td>80.2200</td>\n",
              "      <td>3/8/2019</td>\n",
              "      <td>10:29</td>\n",
              "      <td>Cash</td>\n",
              "      <td>76.40</td>\n",
              "      <td>4.761905</td>\n",
              "      <td>3.8200</td>\n",
              "      <td>9.6</td>\n",
              "    </tr>\n",
              "    <tr>\n",
              "      <th>631-41-3108</th>\n",
              "      <td>A</td>\n",
              "      <td>Yangon</td>\n",
              "      <td>Normal</td>\n",
              "      <td>Male</td>\n",
              "      <td>Home and lifestyle</td>\n",
              "      <td>46.33</td>\n",
              "      <td>7</td>\n",
              "      <td>16.2155</td>\n",
              "      <td>340.5255</td>\n",
              "      <td>3/3/2019</td>\n",
              "      <td>13:23</td>\n",
              "      <td>Credit card</td>\n",
              "      <td>324.31</td>\n",
              "      <td>4.761905</td>\n",
              "      <td>16.2155</td>\n",
              "      <td>7.4</td>\n",
              "    </tr>\n",
              "    <tr>\n",
              "      <th>123-19-1176</th>\n",
              "      <td>A</td>\n",
              "      <td>Yangon</td>\n",
              "      <td>Member</td>\n",
              "      <td>Male</td>\n",
              "      <td>Health and beauty</td>\n",
              "      <td>58.22</td>\n",
              "      <td>8</td>\n",
              "      <td>23.2880</td>\n",
              "      <td>489.0480</td>\n",
              "      <td>1/27/2019</td>\n",
              "      <td>20:33</td>\n",
              "      <td>Ewallet</td>\n",
              "      <td>465.76</td>\n",
              "      <td>4.761905</td>\n",
              "      <td>23.2880</td>\n",
              "      <td>8.4</td>\n",
              "    </tr>\n",
              "    <tr>\n",
              "      <th>373-73-7910</th>\n",
              "      <td>A</td>\n",
              "      <td>Yangon</td>\n",
              "      <td>Normal</td>\n",
              "      <td>Male</td>\n",
              "      <td>Sports and travel</td>\n",
              "      <td>86.31</td>\n",
              "      <td>7</td>\n",
              "      <td>30.2085</td>\n",
              "      <td>634.3785</td>\n",
              "      <td>2/8/2019</td>\n",
              "      <td>10:37</td>\n",
              "      <td>Ewallet</td>\n",
              "      <td>604.17</td>\n",
              "      <td>4.761905</td>\n",
              "      <td>30.2085</td>\n",
              "      <td>5.3</td>\n",
              "    </tr>\n",
              "  </tbody>\n",
              "</table>\n",
              "</div>\n",
              "      <button class=\"colab-df-convert\" onclick=\"convertToInteractive('df-8c475afb-60d4-4c9a-9f80-fa1a3e9edcb9')\"\n",
              "              title=\"Convert this dataframe to an interactive table.\"\n",
              "              style=\"display:none;\">\n",
              "        \n",
              "  <svg xmlns=\"http://www.w3.org/2000/svg\" height=\"24px\"viewBox=\"0 0 24 24\"\n",
              "       width=\"24px\">\n",
              "    <path d=\"M0 0h24v24H0V0z\" fill=\"none\"/>\n",
              "    <path d=\"M18.56 5.44l.94 2.06.94-2.06 2.06-.94-2.06-.94-.94-2.06-.94 2.06-2.06.94zm-11 1L8.5 8.5l.94-2.06 2.06-.94-2.06-.94L8.5 2.5l-.94 2.06-2.06.94zm10 10l.94 2.06.94-2.06 2.06-.94-2.06-.94-.94-2.06-.94 2.06-2.06.94z\"/><path d=\"M17.41 7.96l-1.37-1.37c-.4-.4-.92-.59-1.43-.59-.52 0-1.04.2-1.43.59L10.3 9.45l-7.72 7.72c-.78.78-.78 2.05 0 2.83L4 21.41c.39.39.9.59 1.41.59.51 0 1.02-.2 1.41-.59l7.78-7.78 2.81-2.81c.8-.78.8-2.07 0-2.86zM5.41 20L4 18.59l7.72-7.72 1.47 1.35L5.41 20z\"/>\n",
              "  </svg>\n",
              "      </button>\n",
              "      \n",
              "  <style>\n",
              "    .colab-df-container {\n",
              "      display:flex;\n",
              "      flex-wrap:wrap;\n",
              "      gap: 12px;\n",
              "    }\n",
              "\n",
              "    .colab-df-convert {\n",
              "      background-color: #E8F0FE;\n",
              "      border: none;\n",
              "      border-radius: 50%;\n",
              "      cursor: pointer;\n",
              "      display: none;\n",
              "      fill: #1967D2;\n",
              "      height: 32px;\n",
              "      padding: 0 0 0 0;\n",
              "      width: 32px;\n",
              "    }\n",
              "\n",
              "    .colab-df-convert:hover {\n",
              "      background-color: #E2EBFA;\n",
              "      box-shadow: 0px 1px 2px rgba(60, 64, 67, 0.3), 0px 1px 3px 1px rgba(60, 64, 67, 0.15);\n",
              "      fill: #174EA6;\n",
              "    }\n",
              "\n",
              "    [theme=dark] .colab-df-convert {\n",
              "      background-color: #3B4455;\n",
              "      fill: #D2E3FC;\n",
              "    }\n",
              "\n",
              "    [theme=dark] .colab-df-convert:hover {\n",
              "      background-color: #434B5C;\n",
              "      box-shadow: 0px 1px 3px 1px rgba(0, 0, 0, 0.15);\n",
              "      filter: drop-shadow(0px 1px 2px rgba(0, 0, 0, 0.3));\n",
              "      fill: #FFFFFF;\n",
              "    }\n",
              "  </style>\n",
              "\n",
              "      <script>\n",
              "        const buttonEl =\n",
              "          document.querySelector('#df-8c475afb-60d4-4c9a-9f80-fa1a3e9edcb9 button.colab-df-convert');\n",
              "        buttonEl.style.display =\n",
              "          google.colab.kernel.accessAllowed ? 'block' : 'none';\n",
              "\n",
              "        async function convertToInteractive(key) {\n",
              "          const element = document.querySelector('#df-8c475afb-60d4-4c9a-9f80-fa1a3e9edcb9');\n",
              "          const dataTable =\n",
              "            await google.colab.kernel.invokeFunction('convertToInteractive',\n",
              "                                                     [key], {});\n",
              "          if (!dataTable) return;\n",
              "\n",
              "          const docLinkHtml = 'Like what you see? Visit the ' +\n",
              "            '<a target=\"_blank\" href=https://colab.research.google.com/notebooks/data_table.ipynb>data table notebook</a>'\n",
              "            + ' to learn more about interactive tables.';\n",
              "          element.innerHTML = '';\n",
              "          dataTable['output_type'] = 'display_data';\n",
              "          await google.colab.output.renderOutput(dataTable, element);\n",
              "          const docLink = document.createElement('div');\n",
              "          docLink.innerHTML = docLinkHtml;\n",
              "          element.appendChild(docLink);\n",
              "        }\n",
              "      </script>\n",
              "    </div>\n",
              "  </div>\n",
              "  "
            ]
          },
          "metadata": {},
          "execution_count": 141
        }
      ]
    },
    {
      "cell_type": "markdown",
      "source": [
        "**3) ¿Cuál es el objetivo?**\n",
        "\n",
        "El desarrollo de modelos para la prediccion de los ingresos brutos e incluso la clasificacion teniendo en cuenta datos como el genero, la ciudad, el tipo de cliente, entre otros\n",
        "\n",
        "\n",
        "**4) ¿Este es un problema de clasificación o regresión?**\n",
        "\n",
        "Se puede enfocar como regresion si queremos predecir los posibles ingresos brutos. Como clasificacion si tenemos como target la columna de Branch o city"
      ],
      "metadata": {
        "id": "sb-cKMTZbnuR"
      }
    },
    {
      "cell_type": "code",
      "source": [
        "df.info()"
      ],
      "metadata": {
        "id": "9MQ4Jx4_-ORd",
        "colab": {
          "base_uri": "https://localhost:8080/"
        },
        "outputId": "fab95738-5d8b-4a52-ae6b-b272a9f8c14b"
      },
      "execution_count": 142,
      "outputs": [
        {
          "output_type": "stream",
          "name": "stdout",
          "text": [
            "<class 'pandas.core.frame.DataFrame'>\n",
            "Index: 1000 entries, 750-67-8428 to 849-09-3807\n",
            "Data columns (total 16 columns):\n",
            " #   Column                   Non-Null Count  Dtype  \n",
            "---  ------                   --------------  -----  \n",
            " 0   Branch                   1000 non-null   object \n",
            " 1   City                     1000 non-null   object \n",
            " 2   Customer type            1000 non-null   object \n",
            " 3   Gender                   1000 non-null   object \n",
            " 4   Product line             1000 non-null   object \n",
            " 5   Unit price               1000 non-null   float64\n",
            " 6   Quantity                 1000 non-null   int64  \n",
            " 7   Tax 5%                   1000 non-null   float64\n",
            " 8   Total                    1000 non-null   float64\n",
            " 9   Date                     1000 non-null   object \n",
            " 10  Time                     1000 non-null   object \n",
            " 11  Payment                  1000 non-null   object \n",
            " 12  cogs                     1000 non-null   float64\n",
            " 13  gross margin percentage  1000 non-null   float64\n",
            " 14  gross income             1000 non-null   float64\n",
            " 15  Rating                   1000 non-null   float64\n",
            "dtypes: float64(7), int64(1), object(8)\n",
            "memory usage: 132.8+ KB\n"
          ]
        }
      ]
    },
    {
      "cell_type": "markdown",
      "source": [
        "# **Introducción y antecedentes del conjunto de datos**"
      ],
      "metadata": {
        "id": "mtMD5sdTQPTm"
      }
    },
    {
      "cell_type": "markdown",
      "source": [
        "**Invoice id:** Número de identificación de factura/ comprobante de venta generado por computadora\n",
        "\n",
        "**Branch:**\n",
        "Sucursal de supercentro (se dispone de 3 sucursales identificadas por A, B y C).\n",
        "\n",
        "**City:** Ubicación de los supercentros\n",
        "\n",
        "**Customer type:** Tipo de clientes, registrada por socios para los clientes que usan tajeta de membresia y los que no usan\n",
        "\n",
        "**Gender:** Genero de cada cliente\n",
        "\n",
        "**Product line:** Grupos generales de categorización de artículos: accesorios electrónicos, accesorios de moda, alimentos y bebidas, salud y belleza, hogar y estilo de vida, deportes y viajes\n",
        "\n",
        "**Unit price:** Precio de cada producto en $\n",
        "\n",
        "**Quantity:** Número de productos comprados por el cliente\n",
        "\n",
        "**Tax:** Tasa de impuestos del 5% para la compra del cliente\n",
        "\n",
        "**Total:** Total del precio incluido el impuesto\n",
        "\n",
        "**Date:** Fecha de compra (Registro disponible desde enero 2019 hasta marzo 2019)\n",
        "\n",
        "**Time:** \n",
        "Hora de compra (10am a 9pm)\n",
        "\n",
        "**Payment:**Pago utilizado por el cliente para la compra (hay 3 métodos disponibles: efectivo, tarjeta de crédito y billetera electrónica)\n",
        "\n",
        "**COGS:** Costo de los bienes vendidos\n",
        "\n",
        "**Gross margin percentage:** Porcentaje de margen bruto\n",
        "\n",
        "**Gross income:** Ingresos brutos\n",
        "\n",
        "**Rating:** Calificación del cliente en su experiencia de compra (en una escala del 1 al 10)"
      ],
      "metadata": {
        "id": "uAhOcXx-VHTR"
      }
    },
    {
      "cell_type": "markdown",
      "source": [
        "\n",
        "\n",
        "**5) ¿Cuántas características hay?**\n",
        "Inicialmente tenemos 15 caracteristicas."
      ],
      "metadata": {
        "id": "FER8qmpm9Lw3"
      }
    },
    {
      "cell_type": "markdown",
      "source": [
        "**6) ¿Cuántas filas de datos hay?**\n",
        "Tenemos 1000 filas de datos.\n"
      ],
      "metadata": {
        "id": "6P53qvag-aY8"
      }
    },
    {
      "cell_type": "code",
      "source": [
        "df.describe()"
      ],
      "metadata": {
        "colab": {
          "base_uri": "https://localhost:8080/",
          "height": 300
        },
        "id": "FXL2TXcV-1_8",
        "outputId": "d5329049-21be-4aef-9d71-26d4762b7a90"
      },
      "execution_count": 143,
      "outputs": [
        {
          "output_type": "execute_result",
          "data": {
            "text/plain": [
              "        Unit price     Quantity       Tax 5%        Total        cogs  \\\n",
              "count  1000.000000  1000.000000  1000.000000  1000.000000  1000.00000   \n",
              "mean     55.672130     5.510000    15.379369   322.966749   307.58738   \n",
              "std      26.494628     2.923431    11.708825   245.885335   234.17651   \n",
              "min      10.080000     1.000000     0.508500    10.678500    10.17000   \n",
              "25%      32.875000     3.000000     5.924875   124.422375   118.49750   \n",
              "50%      55.230000     5.000000    12.088000   253.848000   241.76000   \n",
              "75%      77.935000     8.000000    22.445250   471.350250   448.90500   \n",
              "max      99.960000    10.000000    49.650000  1042.650000   993.00000   \n",
              "\n",
              "       gross margin percentage  gross income      Rating  \n",
              "count              1000.000000   1000.000000  1000.00000  \n",
              "mean                  4.761905     15.379369     6.97270  \n",
              "std                   0.000000     11.708825     1.71858  \n",
              "min                   4.761905      0.508500     4.00000  \n",
              "25%                   4.761905      5.924875     5.50000  \n",
              "50%                   4.761905     12.088000     7.00000  \n",
              "75%                   4.761905     22.445250     8.50000  \n",
              "max                   4.761905     49.650000    10.00000  "
            ],
            "text/html": [
              "\n",
              "  <div id=\"df-f1478278-3e9e-4e61-b5ad-871668c18777\">\n",
              "    <div class=\"colab-df-container\">\n",
              "      <div>\n",
              "<style scoped>\n",
              "    .dataframe tbody tr th:only-of-type {\n",
              "        vertical-align: middle;\n",
              "    }\n",
              "\n",
              "    .dataframe tbody tr th {\n",
              "        vertical-align: top;\n",
              "    }\n",
              "\n",
              "    .dataframe thead th {\n",
              "        text-align: right;\n",
              "    }\n",
              "</style>\n",
              "<table border=\"1\" class=\"dataframe\">\n",
              "  <thead>\n",
              "    <tr style=\"text-align: right;\">\n",
              "      <th></th>\n",
              "      <th>Unit price</th>\n",
              "      <th>Quantity</th>\n",
              "      <th>Tax 5%</th>\n",
              "      <th>Total</th>\n",
              "      <th>cogs</th>\n",
              "      <th>gross margin percentage</th>\n",
              "      <th>gross income</th>\n",
              "      <th>Rating</th>\n",
              "    </tr>\n",
              "  </thead>\n",
              "  <tbody>\n",
              "    <tr>\n",
              "      <th>count</th>\n",
              "      <td>1000.000000</td>\n",
              "      <td>1000.000000</td>\n",
              "      <td>1000.000000</td>\n",
              "      <td>1000.000000</td>\n",
              "      <td>1000.00000</td>\n",
              "      <td>1000.000000</td>\n",
              "      <td>1000.000000</td>\n",
              "      <td>1000.00000</td>\n",
              "    </tr>\n",
              "    <tr>\n",
              "      <th>mean</th>\n",
              "      <td>55.672130</td>\n",
              "      <td>5.510000</td>\n",
              "      <td>15.379369</td>\n",
              "      <td>322.966749</td>\n",
              "      <td>307.58738</td>\n",
              "      <td>4.761905</td>\n",
              "      <td>15.379369</td>\n",
              "      <td>6.97270</td>\n",
              "    </tr>\n",
              "    <tr>\n",
              "      <th>std</th>\n",
              "      <td>26.494628</td>\n",
              "      <td>2.923431</td>\n",
              "      <td>11.708825</td>\n",
              "      <td>245.885335</td>\n",
              "      <td>234.17651</td>\n",
              "      <td>0.000000</td>\n",
              "      <td>11.708825</td>\n",
              "      <td>1.71858</td>\n",
              "    </tr>\n",
              "    <tr>\n",
              "      <th>min</th>\n",
              "      <td>10.080000</td>\n",
              "      <td>1.000000</td>\n",
              "      <td>0.508500</td>\n",
              "      <td>10.678500</td>\n",
              "      <td>10.17000</td>\n",
              "      <td>4.761905</td>\n",
              "      <td>0.508500</td>\n",
              "      <td>4.00000</td>\n",
              "    </tr>\n",
              "    <tr>\n",
              "      <th>25%</th>\n",
              "      <td>32.875000</td>\n",
              "      <td>3.000000</td>\n",
              "      <td>5.924875</td>\n",
              "      <td>124.422375</td>\n",
              "      <td>118.49750</td>\n",
              "      <td>4.761905</td>\n",
              "      <td>5.924875</td>\n",
              "      <td>5.50000</td>\n",
              "    </tr>\n",
              "    <tr>\n",
              "      <th>50%</th>\n",
              "      <td>55.230000</td>\n",
              "      <td>5.000000</td>\n",
              "      <td>12.088000</td>\n",
              "      <td>253.848000</td>\n",
              "      <td>241.76000</td>\n",
              "      <td>4.761905</td>\n",
              "      <td>12.088000</td>\n",
              "      <td>7.00000</td>\n",
              "    </tr>\n",
              "    <tr>\n",
              "      <th>75%</th>\n",
              "      <td>77.935000</td>\n",
              "      <td>8.000000</td>\n",
              "      <td>22.445250</td>\n",
              "      <td>471.350250</td>\n",
              "      <td>448.90500</td>\n",
              "      <td>4.761905</td>\n",
              "      <td>22.445250</td>\n",
              "      <td>8.50000</td>\n",
              "    </tr>\n",
              "    <tr>\n",
              "      <th>max</th>\n",
              "      <td>99.960000</td>\n",
              "      <td>10.000000</td>\n",
              "      <td>49.650000</td>\n",
              "      <td>1042.650000</td>\n",
              "      <td>993.00000</td>\n",
              "      <td>4.761905</td>\n",
              "      <td>49.650000</td>\n",
              "      <td>10.00000</td>\n",
              "    </tr>\n",
              "  </tbody>\n",
              "</table>\n",
              "</div>\n",
              "      <button class=\"colab-df-convert\" onclick=\"convertToInteractive('df-f1478278-3e9e-4e61-b5ad-871668c18777')\"\n",
              "              title=\"Convert this dataframe to an interactive table.\"\n",
              "              style=\"display:none;\">\n",
              "        \n",
              "  <svg xmlns=\"http://www.w3.org/2000/svg\" height=\"24px\"viewBox=\"0 0 24 24\"\n",
              "       width=\"24px\">\n",
              "    <path d=\"M0 0h24v24H0V0z\" fill=\"none\"/>\n",
              "    <path d=\"M18.56 5.44l.94 2.06.94-2.06 2.06-.94-2.06-.94-.94-2.06-.94 2.06-2.06.94zm-11 1L8.5 8.5l.94-2.06 2.06-.94-2.06-.94L8.5 2.5l-.94 2.06-2.06.94zm10 10l.94 2.06.94-2.06 2.06-.94-2.06-.94-.94-2.06-.94 2.06-2.06.94z\"/><path d=\"M17.41 7.96l-1.37-1.37c-.4-.4-.92-.59-1.43-.59-.52 0-1.04.2-1.43.59L10.3 9.45l-7.72 7.72c-.78.78-.78 2.05 0 2.83L4 21.41c.39.39.9.59 1.41.59.51 0 1.02-.2 1.41-.59l7.78-7.78 2.81-2.81c.8-.78.8-2.07 0-2.86zM5.41 20L4 18.59l7.72-7.72 1.47 1.35L5.41 20z\"/>\n",
              "  </svg>\n",
              "      </button>\n",
              "      \n",
              "  <style>\n",
              "    .colab-df-container {\n",
              "      display:flex;\n",
              "      flex-wrap:wrap;\n",
              "      gap: 12px;\n",
              "    }\n",
              "\n",
              "    .colab-df-convert {\n",
              "      background-color: #E8F0FE;\n",
              "      border: none;\n",
              "      border-radius: 50%;\n",
              "      cursor: pointer;\n",
              "      display: none;\n",
              "      fill: #1967D2;\n",
              "      height: 32px;\n",
              "      padding: 0 0 0 0;\n",
              "      width: 32px;\n",
              "    }\n",
              "\n",
              "    .colab-df-convert:hover {\n",
              "      background-color: #E2EBFA;\n",
              "      box-shadow: 0px 1px 2px rgba(60, 64, 67, 0.3), 0px 1px 3px 1px rgba(60, 64, 67, 0.15);\n",
              "      fill: #174EA6;\n",
              "    }\n",
              "\n",
              "    [theme=dark] .colab-df-convert {\n",
              "      background-color: #3B4455;\n",
              "      fill: #D2E3FC;\n",
              "    }\n",
              "\n",
              "    [theme=dark] .colab-df-convert:hover {\n",
              "      background-color: #434B5C;\n",
              "      box-shadow: 0px 1px 3px 1px rgba(0, 0, 0, 0.15);\n",
              "      filter: drop-shadow(0px 1px 2px rgba(0, 0, 0, 0.3));\n",
              "      fill: #FFFFFF;\n",
              "    }\n",
              "  </style>\n",
              "\n",
              "      <script>\n",
              "        const buttonEl =\n",
              "          document.querySelector('#df-f1478278-3e9e-4e61-b5ad-871668c18777 button.colab-df-convert');\n",
              "        buttonEl.style.display =\n",
              "          google.colab.kernel.accessAllowed ? 'block' : 'none';\n",
              "\n",
              "        async function convertToInteractive(key) {\n",
              "          const element = document.querySelector('#df-f1478278-3e9e-4e61-b5ad-871668c18777');\n",
              "          const dataTable =\n",
              "            await google.colab.kernel.invokeFunction('convertToInteractive',\n",
              "                                                     [key], {});\n",
              "          if (!dataTable) return;\n",
              "\n",
              "          const docLinkHtml = 'Like what you see? Visit the ' +\n",
              "            '<a target=\"_blank\" href=https://colab.research.google.com/notebooks/data_table.ipynb>data table notebook</a>'\n",
              "            + ' to learn more about interactive tables.';\n",
              "          element.innerHTML = '';\n",
              "          dataTable['output_type'] = 'display_data';\n",
              "          await google.colab.output.renderOutput(dataTable, element);\n",
              "          const docLink = document.createElement('div');\n",
              "          docLink.innerHTML = docLinkHtml;\n",
              "          element.appendChild(docLink);\n",
              "        }\n",
              "      </script>\n",
              "    </div>\n",
              "  </div>\n",
              "  "
            ]
          },
          "metadata": {},
          "execution_count": 143
        }
      ]
    },
    {
      "cell_type": "markdown",
      "source": [
        "**7) ¿Qué retos, si es que hay alguno, prevén en la limpieza, exploración o modelización con este conjunto de datos?**\n",
        "\n",
        "En cuanto a la limpieza revisar sirealmente todas las caracteristicas presentes son relevantes. Afortunadamente no tenemis valores nulos ni en cero.\n",
        "\n",
        "Uno de los retos para modelar es la identificacion y transformacion de los datos."
      ],
      "metadata": {
        "id": "Hbur4Q75-gs3"
      }
    },
    {
      "cell_type": "code",
      "source": [
        "df.duplicated().sum()\n",
        "#No tenemos datos duplicados"
      ],
      "metadata": {
        "id": "4rC4KEiFC2JF",
        "colab": {
          "base_uri": "https://localhost:8080/"
        },
        "outputId": "0f721cfb-689d-42cd-9b54-d0954e9dfbd5"
      },
      "execution_count": 144,
      "outputs": [
        {
          "output_type": "execute_result",
          "data": {
            "text/plain": [
              "0"
            ]
          },
          "metadata": {},
          "execution_count": 144
        }
      ]
    },
    {
      "cell_type": "code",
      "source": [
        "df.nunique()"
      ],
      "metadata": {
        "id": "JaSP7ensf3TS",
        "colab": {
          "base_uri": "https://localhost:8080/"
        },
        "outputId": "1ed3e8cf-e13d-460a-a726-5dceb80022ba"
      },
      "execution_count": 145,
      "outputs": [
        {
          "output_type": "execute_result",
          "data": {
            "text/plain": [
              "Branch                       3\n",
              "City                         3\n",
              "Customer type                2\n",
              "Gender                       2\n",
              "Product line                 6\n",
              "Unit price                 943\n",
              "Quantity                    10\n",
              "Tax 5%                     990\n",
              "Total                      990\n",
              "Date                        89\n",
              "Time                       506\n",
              "Payment                      3\n",
              "cogs                       990\n",
              "gross margin percentage      1\n",
              "gross income               990\n",
              "Rating                      61\n",
              "dtype: int64"
            ]
          },
          "metadata": {},
          "execution_count": 145
        }
      ]
    },
    {
      "cell_type": "code",
      "source": [
        "df['Payment'].value_counts()"
      ],
      "metadata": {
        "colab": {
          "base_uri": "https://localhost:8080/"
        },
        "id": "Iw580vSHsgDu",
        "outputId": "63511e81-ca50-4a96-e54a-a7c9120926f5"
      },
      "execution_count": 146,
      "outputs": [
        {
          "output_type": "execute_result",
          "data": {
            "text/plain": [
              "Ewallet        345\n",
              "Cash           344\n",
              "Credit card    311\n",
              "Name: Payment, dtype: int64"
            ]
          },
          "metadata": {},
          "execution_count": 146
        }
      ]
    },
    {
      "cell_type": "code",
      "source": [
        "df['Product line'].value_counts()"
      ],
      "metadata": {
        "colab": {
          "base_uri": "https://localhost:8080/"
        },
        "id": "J35SxUrZsYOA",
        "outputId": "d7918894-59e6-4c36-ea3e-90c8e1852c71"
      },
      "execution_count": 147,
      "outputs": [
        {
          "output_type": "execute_result",
          "data": {
            "text/plain": [
              "Fashion accessories       178\n",
              "Food and beverages        174\n",
              "Electronic accessories    170\n",
              "Sports and travel         166\n",
              "Home and lifestyle        160\n",
              "Health and beauty         152\n",
              "Name: Product line, dtype: int64"
            ]
          },
          "metadata": {},
          "execution_count": 147
        }
      ]
    },
    {
      "cell_type": "code",
      "source": [
        "df['Gender'].value_counts()"
      ],
      "metadata": {
        "colab": {
          "base_uri": "https://localhost:8080/"
        },
        "id": "On4MWsqMrZog",
        "outputId": "3719790d-c230-4241-b790-724e84702db0"
      },
      "execution_count": 148,
      "outputs": [
        {
          "output_type": "execute_result",
          "data": {
            "text/plain": [
              "Female    501\n",
              "Male      499\n",
              "Name: Gender, dtype: int64"
            ]
          },
          "metadata": {},
          "execution_count": 148
        }
      ]
    },
    {
      "cell_type": "code",
      "source": [
        "df['Customer type'].value_counts()"
      ],
      "metadata": {
        "colab": {
          "base_uri": "https://localhost:8080/"
        },
        "id": "8QbqdgjnkDw7",
        "outputId": "ed9f99d1-fe13-4dd6-a6bf-7d8784a78485"
      },
      "execution_count": 149,
      "outputs": [
        {
          "output_type": "execute_result",
          "data": {
            "text/plain": [
              "Member    501\n",
              "Normal    499\n",
              "Name: Customer type, dtype: int64"
            ]
          },
          "metadata": {},
          "execution_count": 149
        }
      ]
    },
    {
      "cell_type": "code",
      "source": [
        "df['City'].value_counts()"
      ],
      "metadata": {
        "colab": {
          "base_uri": "https://localhost:8080/"
        },
        "id": "u08vhFOdj4x8",
        "outputId": "4b795c45-bdd9-4d17-9138-476571f6b143"
      },
      "execution_count": 150,
      "outputs": [
        {
          "output_type": "execute_result",
          "data": {
            "text/plain": [
              "Yangon       340\n",
              "Mandalay     332\n",
              "Naypyitaw    328\n",
              "Name: City, dtype: int64"
            ]
          },
          "metadata": {},
          "execution_count": 150
        }
      ]
    },
    {
      "cell_type": "code",
      "source": [
        "df['Branch'].value_counts()"
      ],
      "metadata": {
        "colab": {
          "base_uri": "https://localhost:8080/"
        },
        "id": "gHv2aQiFjqtz",
        "outputId": "45ef6863-917b-47a2-a3e4-9618b3716532"
      },
      "execution_count": 151,
      "outputs": [
        {
          "output_type": "execute_result",
          "data": {
            "text/plain": [
              "A    340\n",
              "B    332\n",
              "C    328\n",
              "Name: Branch, dtype: int64"
            ]
          },
          "metadata": {},
          "execution_count": 151
        }
      ]
    },
    {
      "cell_type": "code",
      "source": [
        "corr=df.corr()\n",
        "sns.heatmap(corr, cmap = 'Greens', annot = True)"
      ],
      "metadata": {
        "colab": {
          "base_uri": "https://localhost:8080/",
          "height": 401
        },
        "id": "tzdBL66fJDH1",
        "outputId": "7cdb6882-c324-4708-e64f-4fd866521cdd"
      },
      "execution_count": 152,
      "outputs": [
        {
          "output_type": "execute_result",
          "data": {
            "text/plain": [
              "<matplotlib.axes._subplots.AxesSubplot at 0x7f1f9a58d250>"
            ]
          },
          "metadata": {},
          "execution_count": 152
        },
        {
          "output_type": "display_data",
          "data": {
            "text/plain": [
              "<Figure size 432x288 with 2 Axes>"
            ],
            "image/png": "[encoded data removed]"
          },
          "metadata": {
            "needs_background": "light"
          }
        }
      ]
    },
    {
      "cell_type": "code",
      "source": [
        "df.hist(bins=20,figsize=(15,10))\n",
        "plt.tight_layout()\n",
        "plt.show()"
      ],
      "metadata": {
        "colab": {
          "base_uri": "https://localhost:8080/",
          "height": 729
        },
        "id": "1G3JIaBBxbqk",
        "outputId": "c2b96359-4fc0-4580-9da6-cdc3d3b3e3e4"
      },
      "execution_count": 153,
      "outputs": [
        {
          "output_type": "display_data",
          "data": {
            "text/plain": [
              "<Figure size 1080x720 with 9 Axes>"
            ],
            "image/png": "[encoded data removed]"
          },
          "metadata": {
            "needs_background": "light"
          }
        }
      ]
    },
    {
      "cell_type": "markdown",
      "source": [
        "\n",
        "# **Explicación de los pasos de limpieza requeridos y una breve explicación de cómo los abordaste en tu conjunto de datos.**"
      ],
      "metadata": {
        "id": "wPvN-a_ZQihq"
      }
    },
    {
      "cell_type": "markdown",
      "source": [
        "En cuanto a la limpieza, revise cada caracteristica presente intentando determinar su relevacia en el dataset. \n",
        "\n",
        "Afortunadamente no tenia valores nulos ni en cero.\n",
        "\n",
        "Tanto el diagrama de correlacion como las graficas anteriores muestran un relacion muy estrecha entre las variables.\n",
        "\n",
        "Teniendo en cuenta que la columna de \"Tax 5%\" y la de \"Gross Income\" tienen las mismas medidas estadisticas(media, mediana...) y por ende el mismo comportamiento, decicidí eliminar una de las columnas."
      ],
      "metadata": {
        "id": "RedKYBuDJPZ4"
      }
    },
    {
      "cell_type": "code",
      "source": [
        "df.columns.values"
      ],
      "metadata": {
        "colab": {
          "base_uri": "https://localhost:8080/"
        },
        "id": "R6LrmDGAQYm-",
        "outputId": "8a12337e-8bb5-4cea-d703-0ec9e0a5da66"
      },
      "execution_count": 154,
      "outputs": [
        {
          "output_type": "execute_result",
          "data": {
            "text/plain": [
              "array(['Branch', 'City', 'Customer type', 'Gender', 'Product line',\n",
              "       'Unit price', 'Quantity', 'Tax 5%', 'Total', 'Date', 'Time',\n",
              "       'Payment', 'cogs', 'gross margin percentage', 'gross income',\n",
              "       'Rating'], dtype=object)"
            ]
          },
          "metadata": {},
          "execution_count": 154
        }
      ]
    },
    {
      "cell_type": "code",
      "source": [
        "df=df.drop(columns='gross income')\n",
        "df.head()"
      ],
      "metadata": {
        "id": "YT1pSj--KBJK",
        "colab": {
          "base_uri": "https://localhost:8080/",
          "height": 238
        },
        "outputId": "fc2fa1b8-ad5c-4b7b-963f-da8e8fbcb885"
      },
      "execution_count": 155,
      "outputs": [
        {
          "output_type": "execute_result",
          "data": {
            "text/plain": [
              "            Branch       City Customer type  Gender            Product line  \\\n",
              "Invoice ID                                                                    \n",
              "750-67-8428      A     Yangon        Member  Female       Health and beauty   \n",
              "226-31-3081      C  Naypyitaw        Normal  Female  Electronic accessories   \n",
              "631-41-3108      A     Yangon        Normal    Male      Home and lifestyle   \n",
              "123-19-1176      A     Yangon        Member    Male       Health and beauty   \n",
              "373-73-7910      A     Yangon        Normal    Male       Sports and travel   \n",
              "\n",
              "             Unit price  Quantity   Tax 5%     Total       Date   Time  \\\n",
              "Invoice ID                                                               \n",
              "750-67-8428       74.69         7  26.1415  548.9715   1/5/2019  13:08   \n",
              "226-31-3081       15.28         5   3.8200   80.2200   3/8/2019  10:29   \n",
              "631-41-3108       46.33         7  16.2155  340.5255   3/3/2019  13:23   \n",
              "123-19-1176       58.22         8  23.2880  489.0480  1/27/2019  20:33   \n",
              "373-73-7910       86.31         7  30.2085  634.3785   2/8/2019  10:37   \n",
              "\n",
              "                 Payment    cogs  gross margin percentage  Rating  \n",
              "Invoice ID                                                         \n",
              "750-67-8428      Ewallet  522.83                 4.761905     9.1  \n",
              "226-31-3081         Cash   76.40                 4.761905     9.6  \n",
              "631-41-3108  Credit card  324.31                 4.761905     7.4  \n",
              "123-19-1176      Ewallet  465.76                 4.761905     8.4  \n",
              "373-73-7910      Ewallet  604.17                 4.761905     5.3  "
            ],
            "text/html": [
              "\n",
              "  <div id=\"df-6ed87c2d-4aba-443d-baad-e100e626e6aa\">\n",
              "    <div class=\"colab-df-container\">\n",
              "      <div>\n",
              "<style scoped>\n",
              "    .dataframe tbody tr th:only-of-type {\n",
              "        vertical-align: middle;\n",
              "    }\n",
              "\n",
              "    .dataframe tbody tr th {\n",
              "        vertical-align: top;\n",
              "    }\n",
              "\n",
              "    .dataframe thead th {\n",
              "        text-align: right;\n",
              "    }\n",
              "</style>\n",
              "<table border=\"1\" class=\"dataframe\">\n",
              "  <thead>\n",
              "    <tr style=\"text-align: right;\">\n",
              "      <th></th>\n",
              "      <th>Branch</th>\n",
              "      <th>City</th>\n",
              "      <th>Customer type</th>\n",
              "      <th>Gender</th>\n",
              "      <th>Product line</th>\n",
              "      <th>Unit price</th>\n",
              "      <th>Quantity</th>\n",
              "      <th>Tax 5%</th>\n",
              "      <th>Total</th>\n",
              "      <th>Date</th>\n",
              "      <th>Time</th>\n",
              "      <th>Payment</th>\n",
              "      <th>cogs</th>\n",
              "      <th>gross margin percentage</th>\n",
              "      <th>Rating</th>\n",
              "    </tr>\n",
              "    <tr>\n",
              "      <th>Invoice ID</th>\n",
              "      <th></th>\n",
              "      <th></th>\n",
              "      <th></th>\n",
              "      <th></th>\n",
              "      <th></th>\n",
              "      <th></th>\n",
              "      <th></th>\n",
              "      <th></th>\n",
              "      <th></th>\n",
              "      <th></th>\n",
              "      <th></th>\n",
              "      <th></th>\n",
              "      <th></th>\n",
              "      <th></th>\n",
              "      <th></th>\n",
              "    </tr>\n",
              "  </thead>\n",
              "  <tbody>\n",
              "    <tr>\n",
              "      <th>750-67-8428</th>\n",
              "      <td>A</td>\n",
              "      <td>Yangon</td>\n",
              "      <td>Member</td>\n",
              "      <td>Female</td>\n",
              "      <td>Health and beauty</td>\n",
              "      <td>74.69</td>\n",
              "      <td>7</td>\n",
              "      <td>26.1415</td>\n",
              "      <td>548.9715</td>\n",
              "      <td>1/5/2019</td>\n",
              "      <td>13:08</td>\n",
              "      <td>Ewallet</td>\n",
              "      <td>522.83</td>\n",
              "      <td>4.761905</td>\n",
              "      <td>9.1</td>\n",
              "    </tr>\n",
              "    <tr>\n",
              "      <th>226-31-3081</th>\n",
              "      <td>C</td>\n",
              "      <td>Naypyitaw</td>\n",
              "      <td>Normal</td>\n",
              "      <td>Female</td>\n",
              "      <td>Electronic accessories</td>\n",
              "      <td>15.28</td>\n",
              "      <td>5</td>\n",
              "      <td>3.8200</td>\n",
              "      <td>80.2200</td>\n",
              "      <td>3/8/2019</td>\n",
              "      <td>10:29</td>\n",
              "      <td>Cash</td>\n",
              "      <td>76.40</td>\n",
              "      <td>4.761905</td>\n",
              "      <td>9.6</td>\n",
              "    </tr>\n",
              "    <tr>\n",
              "      <th>631-41-3108</th>\n",
              "      <td>A</td>\n",
              "      <td>Yangon</td>\n",
              "      <td>Normal</td>\n",
              "      <td>Male</td>\n",
              "      <td>Home and lifestyle</td>\n",
              "      <td>46.33</td>\n",
              "      <td>7</td>\n",
              "      <td>16.2155</td>\n",
              "      <td>340.5255</td>\n",
              "      <td>3/3/2019</td>\n",
              "      <td>13:23</td>\n",
              "      <td>Credit card</td>\n",
              "      <td>324.31</td>\n",
              "      <td>4.761905</td>\n",
              "      <td>7.4</td>\n",
              "    </tr>\n",
              "    <tr>\n",
              "      <th>123-19-1176</th>\n",
              "      <td>A</td>\n",
              "      <td>Yangon</td>\n",
              "      <td>Member</td>\n",
              "      <td>Male</td>\n",
              "      <td>Health and beauty</td>\n",
              "      <td>58.22</td>\n",
              "      <td>8</td>\n",
              "      <td>23.2880</td>\n",
              "      <td>489.0480</td>\n",
              "      <td>1/27/2019</td>\n",
              "      <td>20:33</td>\n",
              "      <td>Ewallet</td>\n",
              "      <td>465.76</td>\n",
              "      <td>4.761905</td>\n",
              "      <td>8.4</td>\n",
              "    </tr>\n",
              "    <tr>\n",
              "      <th>373-73-7910</th>\n",
              "      <td>A</td>\n",
              "      <td>Yangon</td>\n",
              "      <td>Normal</td>\n",
              "      <td>Male</td>\n",
              "      <td>Sports and travel</td>\n",
              "      <td>86.31</td>\n",
              "      <td>7</td>\n",
              "      <td>30.2085</td>\n",
              "      <td>634.3785</td>\n",
              "      <td>2/8/2019</td>\n",
              "      <td>10:37</td>\n",
              "      <td>Ewallet</td>\n",
              "      <td>604.17</td>\n",
              "      <td>4.761905</td>\n",
              "      <td>5.3</td>\n",
              "    </tr>\n",
              "  </tbody>\n",
              "</table>\n",
              "</div>\n",
              "      <button class=\"colab-df-convert\" onclick=\"convertToInteractive('df-6ed87c2d-4aba-443d-baad-e100e626e6aa')\"\n",
              "              title=\"Convert this dataframe to an interactive table.\"\n",
              "              style=\"display:none;\">\n",
              "        \n",
              "  <svg xmlns=\"http://www.w3.org/2000/svg\" height=\"24px\"viewBox=\"0 0 24 24\"\n",
              "       width=\"24px\">\n",
              "    <path d=\"M0 0h24v24H0V0z\" fill=\"none\"/>\n",
              "    <path d=\"M18.56 5.44l.94 2.06.94-2.06 2.06-.94-2.06-.94-.94-2.06-.94 2.06-2.06.94zm-11 1L8.5 8.5l.94-2.06 2.06-.94-2.06-.94L8.5 2.5l-.94 2.06-2.06.94zm10 10l.94 2.06.94-2.06 2.06-.94-2.06-.94-.94-2.06-.94 2.06-2.06.94z\"/><path d=\"M17.41 7.96l-1.37-1.37c-.4-.4-.92-.59-1.43-.59-.52 0-1.04.2-1.43.59L10.3 9.45l-7.72 7.72c-.78.78-.78 2.05 0 2.83L4 21.41c.39.39.9.59 1.41.59.51 0 1.02-.2 1.41-.59l7.78-7.78 2.81-2.81c.8-.78.8-2.07 0-2.86zM5.41 20L4 18.59l7.72-7.72 1.47 1.35L5.41 20z\"/>\n",
              "  </svg>\n",
              "      </button>\n",
              "      \n",
              "  <style>\n",
              "    .colab-df-container {\n",
              "      display:flex;\n",
              "      flex-wrap:wrap;\n",
              "      gap: 12px;\n",
              "    }\n",
              "\n",
              "    .colab-df-convert {\n",
              "      background-color: #E8F0FE;\n",
              "      border: none;\n",
              "      border-radius: 50%;\n",
              "      cursor: pointer;\n",
              "      display: none;\n",
              "      fill: #1967D2;\n",
              "      height: 32px;\n",
              "      padding: 0 0 0 0;\n",
              "      width: 32px;\n",
              "    }\n",
              "\n",
              "    .colab-df-convert:hover {\n",
              "      background-color: #E2EBFA;\n",
              "      box-shadow: 0px 1px 2px rgba(60, 64, 67, 0.3), 0px 1px 3px 1px rgba(60, 64, 67, 0.15);\n",
              "      fill: #174EA6;\n",
              "    }\n",
              "\n",
              "    [theme=dark] .colab-df-convert {\n",
              "      background-color: #3B4455;\n",
              "      fill: #D2E3FC;\n",
              "    }\n",
              "\n",
              "    [theme=dark] .colab-df-convert:hover {\n",
              "      background-color: #434B5C;\n",
              "      box-shadow: 0px 1px 3px 1px rgba(0, 0, 0, 0.15);\n",
              "      filter: drop-shadow(0px 1px 2px rgba(0, 0, 0, 0.3));\n",
              "      fill: #FFFFFF;\n",
              "    }\n",
              "  </style>\n",
              "\n",
              "      <script>\n",
              "        const buttonEl =\n",
              "          document.querySelector('#df-6ed87c2d-4aba-443d-baad-e100e626e6aa button.colab-df-convert');\n",
              "        buttonEl.style.display =\n",
              "          google.colab.kernel.accessAllowed ? 'block' : 'none';\n",
              "\n",
              "        async function convertToInteractive(key) {\n",
              "          const element = document.querySelector('#df-6ed87c2d-4aba-443d-baad-e100e626e6aa');\n",
              "          const dataTable =\n",
              "            await google.colab.kernel.invokeFunction('convertToInteractive',\n",
              "                                                     [key], {});\n",
              "          if (!dataTable) return;\n",
              "\n",
              "          const docLinkHtml = 'Like what you see? Visit the ' +\n",
              "            '<a target=\"_blank\" href=https://colab.research.google.com/notebooks/data_table.ipynb>data table notebook</a>'\n",
              "            + ' to learn more about interactive tables.';\n",
              "          element.innerHTML = '';\n",
              "          dataTable['output_type'] = 'display_data';\n",
              "          await google.colab.output.renderOutput(dataTable, element);\n",
              "          const docLink = document.createElement('div');\n",
              "          docLink.innerHTML = docLinkHtml;\n",
              "          element.appendChild(docLink);\n",
              "        }\n",
              "      </script>\n",
              "    </div>\n",
              "  </div>\n",
              "  "
            ]
          },
          "metadata": {},
          "execution_count": 155
        }
      ]
    },
    {
      "cell_type": "code",
      "source": [
        "f1=df.groupby(by=['Branch','City']).mean()\n",
        "f1"
      ],
      "metadata": {
        "colab": {
          "base_uri": "https://localhost:8080/",
          "height": 175
        },
        "id": "8MXlGyvjGG6g",
        "outputId": "bd96c067-1a00-4d80-9814-62e59fff9bdc"
      },
      "execution_count": 156,
      "outputs": [
        {
          "output_type": "execute_result",
          "data": {
            "text/plain": [
              "                  Unit price  Quantity     Tax 5%       Total        cogs  \\\n",
              "Branch City                                                                 \n",
              "A      Yangon      54.780853  5.467647  14.874001  312.354031  297.480029   \n",
              "B      Mandalay    55.659277  5.481928  15.232024  319.872506  304.640482   \n",
              "C      Naypyitaw   56.609024  5.582317  16.052367  337.099715  321.047348   \n",
              "\n",
              "                  gross margin percentage    Rating  \n",
              "Branch City                                          \n",
              "A      Yangon                    4.761905  7.027059  \n",
              "B      Mandalay                  4.761905  6.818072  \n",
              "C      Naypyitaw                 4.761905  7.072866  "
            ],
            "text/html": [
              "\n",
              "  <div id=\"df-16a846a7-7a10-487c-9c52-7015dc43f19c\">\n",
              "    <div class=\"colab-df-container\">\n",
              "      <div>\n",
              "<style scoped>\n",
              "    .dataframe tbody tr th:only-of-type {\n",
              "        vertical-align: middle;\n",
              "    }\n",
              "\n",
              "    .dataframe tbody tr th {\n",
              "        vertical-align: top;\n",
              "    }\n",
              "\n",
              "    .dataframe thead th {\n",
              "        text-align: right;\n",
              "    }\n",
              "</style>\n",
              "<table border=\"1\" class=\"dataframe\">\n",
              "  <thead>\n",
              "    <tr style=\"text-align: right;\">\n",
              "      <th></th>\n",
              "      <th></th>\n",
              "      <th>Unit price</th>\n",
              "      <th>Quantity</th>\n",
              "      <th>Tax 5%</th>\n",
              "      <th>Total</th>\n",
              "      <th>cogs</th>\n",
              "      <th>gross margin percentage</th>\n",
              "      <th>Rating</th>\n",
              "    </tr>\n",
              "    <tr>\n",
              "      <th>Branch</th>\n",
              "      <th>City</th>\n",
              "      <th></th>\n",
              "      <th></th>\n",
              "      <th></th>\n",
              "      <th></th>\n",
              "      <th></th>\n",
              "      <th></th>\n",
              "      <th></th>\n",
              "    </tr>\n",
              "  </thead>\n",
              "  <tbody>\n",
              "    <tr>\n",
              "      <th>A</th>\n",
              "      <th>Yangon</th>\n",
              "      <td>54.780853</td>\n",
              "      <td>5.467647</td>\n",
              "      <td>14.874001</td>\n",
              "      <td>312.354031</td>\n",
              "      <td>297.480029</td>\n",
              "      <td>4.761905</td>\n",
              "      <td>7.027059</td>\n",
              "    </tr>\n",
              "    <tr>\n",
              "      <th>B</th>\n",
              "      <th>Mandalay</th>\n",
              "      <td>55.659277</td>\n",
              "      <td>5.481928</td>\n",
              "      <td>15.232024</td>\n",
              "      <td>319.872506</td>\n",
              "      <td>304.640482</td>\n",
              "      <td>4.761905</td>\n",
              "      <td>6.818072</td>\n",
              "    </tr>\n",
              "    <tr>\n",
              "      <th>C</th>\n",
              "      <th>Naypyitaw</th>\n",
              "      <td>56.609024</td>\n",
              "      <td>5.582317</td>\n",
              "      <td>16.052367</td>\n",
              "      <td>337.099715</td>\n",
              "      <td>321.047348</td>\n",
              "      <td>4.761905</td>\n",
              "      <td>7.072866</td>\n",
              "    </tr>\n",
              "  </tbody>\n",
              "</table>\n",
              "</div>\n",
              "      <button class=\"colab-df-convert\" onclick=\"convertToInteractive('df-16a846a7-7a10-487c-9c52-7015dc43f19c')\"\n",
              "              title=\"Convert this dataframe to an interactive table.\"\n",
              "              style=\"display:none;\">\n",
              "        \n",
              "  <svg xmlns=\"http://www.w3.org/2000/svg\" height=\"24px\"viewBox=\"0 0 24 24\"\n",
              "       width=\"24px\">\n",
              "    <path d=\"M0 0h24v24H0V0z\" fill=\"none\"/>\n",
              "    <path d=\"M18.56 5.44l.94 2.06.94-2.06 2.06-.94-2.06-.94-.94-2.06-.94 2.06-2.06.94zm-11 1L8.5 8.5l.94-2.06 2.06-.94-2.06-.94L8.5 2.5l-.94 2.06-2.06.94zm10 10l.94 2.06.94-2.06 2.06-.94-2.06-.94-.94-2.06-.94 2.06-2.06.94z\"/><path d=\"M17.41 7.96l-1.37-1.37c-.4-.4-.92-.59-1.43-.59-.52 0-1.04.2-1.43.59L10.3 9.45l-7.72 7.72c-.78.78-.78 2.05 0 2.83L4 21.41c.39.39.9.59 1.41.59.51 0 1.02-.2 1.41-.59l7.78-7.78 2.81-2.81c.8-.78.8-2.07 0-2.86zM5.41 20L4 18.59l7.72-7.72 1.47 1.35L5.41 20z\"/>\n",
              "  </svg>\n",
              "      </button>\n",
              "      \n",
              "  <style>\n",
              "    .colab-df-container {\n",
              "      display:flex;\n",
              "      flex-wrap:wrap;\n",
              "      gap: 12px;\n",
              "    }\n",
              "\n",
              "    .colab-df-convert {\n",
              "      background-color: #E8F0FE;\n",
              "      border: none;\n",
              "      border-radius: 50%;\n",
              "      cursor: pointer;\n",
              "      display: none;\n",
              "      fill: #1967D2;\n",
              "      height: 32px;\n",
              "      padding: 0 0 0 0;\n",
              "      width: 32px;\n",
              "    }\n",
              "\n",
              "    .colab-df-convert:hover {\n",
              "      background-color: #E2EBFA;\n",
              "      box-shadow: 0px 1px 2px rgba(60, 64, 67, 0.3), 0px 1px 3px 1px rgba(60, 64, 67, 0.15);\n",
              "      fill: #174EA6;\n",
              "    }\n",
              "\n",
              "    [theme=dark] .colab-df-convert {\n",
              "      background-color: #3B4455;\n",
              "      fill: #D2E3FC;\n",
              "    }\n",
              "\n",
              "    [theme=dark] .colab-df-convert:hover {\n",
              "      background-color: #434B5C;\n",
              "      box-shadow: 0px 1px 3px 1px rgba(0, 0, 0, 0.15);\n",
              "      filter: drop-shadow(0px 1px 2px rgba(0, 0, 0, 0.3));\n",
              "      fill: #FFFFFF;\n",
              "    }\n",
              "  </style>\n",
              "\n",
              "      <script>\n",
              "        const buttonEl =\n",
              "          document.querySelector('#df-16a846a7-7a10-487c-9c52-7015dc43f19c button.colab-df-convert');\n",
              "        buttonEl.style.display =\n",
              "          google.colab.kernel.accessAllowed ? 'block' : 'none';\n",
              "\n",
              "        async function convertToInteractive(key) {\n",
              "          const element = document.querySelector('#df-16a846a7-7a10-487c-9c52-7015dc43f19c');\n",
              "          const dataTable =\n",
              "            await google.colab.kernel.invokeFunction('convertToInteractive',\n",
              "                                                     [key], {});\n",
              "          if (!dataTable) return;\n",
              "\n",
              "          const docLinkHtml = 'Like what you see? Visit the ' +\n",
              "            '<a target=\"_blank\" href=https://colab.research.google.com/notebooks/data_table.ipynb>data table notebook</a>'\n",
              "            + ' to learn more about interactive tables.';\n",
              "          element.innerHTML = '';\n",
              "          dataTable['output_type'] = 'display_data';\n",
              "          await google.colab.output.renderOutput(dataTable, element);\n",
              "          const docLink = document.createElement('div');\n",
              "          docLink.innerHTML = docLinkHtml;\n",
              "          element.appendChild(docLink);\n",
              "        }\n",
              "      </script>\n",
              "    </div>\n",
              "  </div>\n",
              "  "
            ]
          },
          "metadata": {},
          "execution_count": 156
        }
      ]
    },
    {
      "cell_type": "code",
      "source": [
        "f1.Quantity.plot.pie(autopct='%1.1f%%');"
      ],
      "metadata": {
        "colab": {
          "base_uri": "https://localhost:8080/",
          "height": 248
        },
        "id": "rngvNMfXcPUO",
        "outputId": "c7fd65f6-f254-481c-b775-7b7a4eb4ba78"
      },
      "execution_count": 158,
      "outputs": [
        {
          "output_type": "display_data",
          "data": {
            "text/plain": [
              "<Figure size 432x288 with 1 Axes>"
            ],
            "image/png": "[encoded data removed]"
          },
          "metadata": {}
        }
      ]
    },
    {
      "cell_type": "code",
      "source": [
        "# fig, ax = plt.subplots()\n",
        "# fig.set_size_inches(8, 8)\n",
        "# pd.plotting.radviz(f1, f1.index['Branch'], ax = ax);\n",
        "ax = f1.unstack(level=0).plot(kind='bar', subplots=False, rot=0, figsize=(20, 10), layout=(5, 5))\n",
        "plt.tight_layout()"
      ],
      "metadata": {
        "colab": {
          "base_uri": "https://localhost:8080/",
          "height": 729
        },
        "id": "Dlh0FUt_4D_x",
        "outputId": "3f5743ed-b6eb-466b-ca28-0e76290902f7"
      },
      "execution_count": 231,
      "outputs": [
        {
          "output_type": "display_data",
          "data": {
            "text/plain": [
              "<Figure size 1440x720 with 1 Axes>"
            ],
            "image/png": "[encoded data removed]"
          },
          "metadata": {
            "needs_background": "light"
          }
        }
      ]
    },
    {
      "cell_type": "markdown",
      "source": [
        "El comportamiento del \"Branch\" entre las diferentes ciudades es muy similar.\n",
        "\n",
        "Cabe resaltar que aunque los precios en la ciudad de Naypaytaw son un poco mayores en comparacion con los otros, esta es la ciudad que registra más ventas, asi mismo podriamos afirmar que la diferencia radica en el servicio al cliente, lo anterior por supuesto validado con el Rating de cada Branch"
      ],
      "metadata": {
        "id": "ALw8fnqbK-aA"
      }
    },
    {
      "cell_type": "code",
      "source": [
        "f2=df.pivot_table(index = [\"Gender\", \"Customer type\"], columns = \"Quantity\", values = \"Total\")\n",
        "f2\n",
        "# sns.boxplot(x='Quantity', y='Total', data=f2)"
      ],
      "metadata": {
        "colab": {
          "base_uri": "https://localhost:8080/",
          "height": 206
        },
        "id": "Z13nfkrlxgL8",
        "outputId": "b8b9e88e-d156-4c98-96d7-5f77a1055157"
      },
      "execution_count": 212,
      "outputs": [
        {
          "output_type": "execute_result",
          "data": {
            "text/plain": [
              "Quantity                     1           2           3           4   \\\n",
              "Gender Customer type                                                  \n",
              "Female Member         58.116288  113.646000  185.977313  224.740600   \n",
              "       Normal         44.027053  122.608957  175.959000  243.564720   \n",
              "Male   Member         61.765742  118.819909  196.432425  236.422065   \n",
              "       Normal         60.557583  126.967680  162.009931  221.195739   \n",
              "\n",
              "Quantity                      5           6           7           8   \\\n",
              "Gender Customer type                                                   \n",
              "Female Member         253.851196  342.711783  448.195650  459.164000   \n",
              "       Normal         264.447273  380.622667  410.273132  528.300000   \n",
              "Male   Member         266.164500  383.656737  396.417000  501.110400   \n",
              "       Normal         277.712500  310.570448  440.588859  415.537043   \n",
              "\n",
              "Quantity                      9           10  \n",
              "Gender Customer type                          \n",
              "Female Member         550.358224  596.295000  \n",
              "       Normal         501.732000  536.524655  \n",
              "Male   Member         533.267795  560.949828  \n",
              "       Normal         538.886250  660.302222  "
            ],
            "text/html": [
              "\n",
              "  <div id=\"df-f5bdbf09-5bb8-4786-986f-c9a36731f321\">\n",
              "    <div class=\"colab-df-container\">\n",
              "      <div>\n",
              "<style scoped>\n",
              "    .dataframe tbody tr th:only-of-type {\n",
              "        vertical-align: middle;\n",
              "    }\n",
              "\n",
              "    .dataframe tbody tr th {\n",
              "        vertical-align: top;\n",
              "    }\n",
              "\n",
              "    .dataframe thead th {\n",
              "        text-align: right;\n",
              "    }\n",
              "</style>\n",
              "<table border=\"1\" class=\"dataframe\">\n",
              "  <thead>\n",
              "    <tr style=\"text-align: right;\">\n",
              "      <th></th>\n",
              "      <th>Quantity</th>\n",
              "      <th>1</th>\n",
              "      <th>2</th>\n",
              "      <th>3</th>\n",
              "      <th>4</th>\n",
              "      <th>5</th>\n",
              "      <th>6</th>\n",
              "      <th>7</th>\n",
              "      <th>8</th>\n",
              "      <th>9</th>\n",
              "      <th>10</th>\n",
              "    </tr>\n",
              "    <tr>\n",
              "      <th>Gender</th>\n",
              "      <th>Customer type</th>\n",
              "      <th></th>\n",
              "      <th></th>\n",
              "      <th></th>\n",
              "      <th></th>\n",
              "      <th></th>\n",
              "      <th></th>\n",
              "      <th></th>\n",
              "      <th></th>\n",
              "      <th></th>\n",
              "      <th></th>\n",
              "    </tr>\n",
              "  </thead>\n",
              "  <tbody>\n",
              "    <tr>\n",
              "      <th rowspan=\"2\" valign=\"top\">Female</th>\n",
              "      <th>Member</th>\n",
              "      <td>58.116288</td>\n",
              "      <td>113.646000</td>\n",
              "      <td>185.977313</td>\n",
              "      <td>224.740600</td>\n",
              "      <td>253.851196</td>\n",
              "      <td>342.711783</td>\n",
              "      <td>448.195650</td>\n",
              "      <td>459.164000</td>\n",
              "      <td>550.358224</td>\n",
              "      <td>596.295000</td>\n",
              "    </tr>\n",
              "    <tr>\n",
              "      <th>Normal</th>\n",
              "      <td>44.027053</td>\n",
              "      <td>122.608957</td>\n",
              "      <td>175.959000</td>\n",
              "      <td>243.564720</td>\n",
              "      <td>264.447273</td>\n",
              "      <td>380.622667</td>\n",
              "      <td>410.273132</td>\n",
              "      <td>528.300000</td>\n",
              "      <td>501.732000</td>\n",
              "      <td>536.524655</td>\n",
              "    </tr>\n",
              "    <tr>\n",
              "      <th rowspan=\"2\" valign=\"top\">Male</th>\n",
              "      <th>Member</th>\n",
              "      <td>61.765742</td>\n",
              "      <td>118.819909</td>\n",
              "      <td>196.432425</td>\n",
              "      <td>236.422065</td>\n",
              "      <td>266.164500</td>\n",
              "      <td>383.656737</td>\n",
              "      <td>396.417000</td>\n",
              "      <td>501.110400</td>\n",
              "      <td>533.267795</td>\n",
              "      <td>560.949828</td>\n",
              "    </tr>\n",
              "    <tr>\n",
              "      <th>Normal</th>\n",
              "      <td>60.557583</td>\n",
              "      <td>126.967680</td>\n",
              "      <td>162.009931</td>\n",
              "      <td>221.195739</td>\n",
              "      <td>277.712500</td>\n",
              "      <td>310.570448</td>\n",
              "      <td>440.588859</td>\n",
              "      <td>415.537043</td>\n",
              "      <td>538.886250</td>\n",
              "      <td>660.302222</td>\n",
              "    </tr>\n",
              "  </tbody>\n",
              "</table>\n",
              "</div>\n",
              "      <button class=\"colab-df-convert\" onclick=\"convertToInteractive('df-f5bdbf09-5bb8-4786-986f-c9a36731f321')\"\n",
              "              title=\"Convert this dataframe to an interactive table.\"\n",
              "              style=\"display:none;\">\n",
              "        \n",
              "  <svg xmlns=\"http://www.w3.org/2000/svg\" height=\"24px\"viewBox=\"0 0 24 24\"\n",
              "       width=\"24px\">\n",
              "    <path d=\"M0 0h24v24H0V0z\" fill=\"none\"/>\n",
              "    <path d=\"M18.56 5.44l.94 2.06.94-2.06 2.06-.94-2.06-.94-.94-2.06-.94 2.06-2.06.94zm-11 1L8.5 8.5l.94-2.06 2.06-.94-2.06-.94L8.5 2.5l-.94 2.06-2.06.94zm10 10l.94 2.06.94-2.06 2.06-.94-2.06-.94-.94-2.06-.94 2.06-2.06.94z\"/><path d=\"M17.41 7.96l-1.37-1.37c-.4-.4-.92-.59-1.43-.59-.52 0-1.04.2-1.43.59L10.3 9.45l-7.72 7.72c-.78.78-.78 2.05 0 2.83L4 21.41c.39.39.9.59 1.41.59.51 0 1.02-.2 1.41-.59l7.78-7.78 2.81-2.81c.8-.78.8-2.07 0-2.86zM5.41 20L4 18.59l7.72-7.72 1.47 1.35L5.41 20z\"/>\n",
              "  </svg>\n",
              "      </button>\n",
              "      \n",
              "  <style>\n",
              "    .colab-df-container {\n",
              "      display:flex;\n",
              "      flex-wrap:wrap;\n",
              "      gap: 12px;\n",
              "    }\n",
              "\n",
              "    .colab-df-convert {\n",
              "      background-color: #E8F0FE;\n",
              "      border: none;\n",
              "      border-radius: 50%;\n",
              "      cursor: pointer;\n",
              "      display: none;\n",
              "      fill: #1967D2;\n",
              "      height: 32px;\n",
              "      padding: 0 0 0 0;\n",
              "      width: 32px;\n",
              "    }\n",
              "\n",
              "    .colab-df-convert:hover {\n",
              "      background-color: #E2EBFA;\n",
              "      box-shadow: 0px 1px 2px rgba(60, 64, 67, 0.3), 0px 1px 3px 1px rgba(60, 64, 67, 0.15);\n",
              "      fill: #174EA6;\n",
              "    }\n",
              "\n",
              "    [theme=dark] .colab-df-convert {\n",
              "      background-color: #3B4455;\n",
              "      fill: #D2E3FC;\n",
              "    }\n",
              "\n",
              "    [theme=dark] .colab-df-convert:hover {\n",
              "      background-color: #434B5C;\n",
              "      box-shadow: 0px 1px 3px 1px rgba(0, 0, 0, 0.15);\n",
              "      filter: drop-shadow(0px 1px 2px rgba(0, 0, 0, 0.3));\n",
              "      fill: #FFFFFF;\n",
              "    }\n",
              "  </style>\n",
              "\n",
              "      <script>\n",
              "        const buttonEl =\n",
              "          document.querySelector('#df-f5bdbf09-5bb8-4786-986f-c9a36731f321 button.colab-df-convert');\n",
              "        buttonEl.style.display =\n",
              "          google.colab.kernel.accessAllowed ? 'block' : 'none';\n",
              "\n",
              "        async function convertToInteractive(key) {\n",
              "          const element = document.querySelector('#df-f5bdbf09-5bb8-4786-986f-c9a36731f321');\n",
              "          const dataTable =\n",
              "            await google.colab.kernel.invokeFunction('convertToInteractive',\n",
              "                                                     [key], {});\n",
              "          if (!dataTable) return;\n",
              "\n",
              "          const docLinkHtml = 'Like what you see? Visit the ' +\n",
              "            '<a target=\"_blank\" href=https://colab.research.google.com/notebooks/data_table.ipynb>data table notebook</a>'\n",
              "            + ' to learn more about interactive tables.';\n",
              "          element.innerHTML = '';\n",
              "          dataTable['output_type'] = 'display_data';\n",
              "          await google.colab.output.renderOutput(dataTable, element);\n",
              "          const docLink = document.createElement('div');\n",
              "          docLink.innerHTML = docLinkHtml;\n",
              "          element.appendChild(docLink);\n",
              "        }\n",
              "      </script>\n",
              "    </div>\n",
              "  </div>\n",
              "  "
            ]
          },
          "metadata": {},
          "execution_count": 212
        }
      ]
    },
    {
      "cell_type": "markdown",
      "source": [
        "# **Realizar una división train-test en tus datos**"
      ],
      "metadata": {
        "id": "Fv38dJ1kkrpg"
      }
    },
    {
      "cell_type": "code",
      "source": [
        "#Division de la validacion\n",
        "X = df.drop(columns='Branch', axis=1)\n",
        "y = df['Branch']\n",
        "X_train, X_test, y_train, y_test = train_test_split(X, y, random_state=42)\n",
        "X"
      ],
      "metadata": {
        "colab": {
          "base_uri": "https://localhost:8080/",
          "height": 455
        },
        "id": "EzHcg41HksDD",
        "outputId": "62b1c4e7-2d8e-48e3-f7e4-b16a435f4365"
      },
      "execution_count": 159,
      "outputs": [
        {
          "output_type": "execute_result",
          "data": {
            "text/plain": [
              "                  City Customer type  Gender            Product line  \\\n",
              "Invoice ID                                                             \n",
              "750-67-8428     Yangon        Member  Female       Health and beauty   \n",
              "226-31-3081  Naypyitaw        Normal  Female  Electronic accessories   \n",
              "631-41-3108     Yangon        Normal    Male      Home and lifestyle   \n",
              "123-19-1176     Yangon        Member    Male       Health and beauty   \n",
              "373-73-7910     Yangon        Normal    Male       Sports and travel   \n",
              "...                ...           ...     ...                     ...   \n",
              "233-67-5758  Naypyitaw        Normal    Male       Health and beauty   \n",
              "303-96-2227   Mandalay        Normal  Female      Home and lifestyle   \n",
              "727-02-1313     Yangon        Member    Male      Food and beverages   \n",
              "347-56-2442     Yangon        Normal    Male      Home and lifestyle   \n",
              "849-09-3807     Yangon        Member  Female     Fashion accessories   \n",
              "\n",
              "             Unit price  Quantity   Tax 5%      Total       Date   Time  \\\n",
              "Invoice ID                                                                \n",
              "750-67-8428       74.69         7  26.1415   548.9715   1/5/2019  13:08   \n",
              "226-31-3081       15.28         5   3.8200    80.2200   3/8/2019  10:29   \n",
              "631-41-3108       46.33         7  16.2155   340.5255   3/3/2019  13:23   \n",
              "123-19-1176       58.22         8  23.2880   489.0480  1/27/2019  20:33   \n",
              "373-73-7910       86.31         7  30.2085   634.3785   2/8/2019  10:37   \n",
              "...                 ...       ...      ...        ...        ...    ...   \n",
              "233-67-5758       40.35         1   2.0175    42.3675  1/29/2019  13:46   \n",
              "303-96-2227       97.38        10  48.6900  1022.4900   3/2/2019  17:16   \n",
              "727-02-1313       31.84         1   1.5920    33.4320   2/9/2019  13:22   \n",
              "347-56-2442       65.82         1   3.2910    69.1110  2/22/2019  15:33   \n",
              "849-09-3807       88.34         7  30.9190   649.2990  2/18/2019  13:28   \n",
              "\n",
              "                 Payment    cogs  gross margin percentage  Rating  \n",
              "Invoice ID                                                         \n",
              "750-67-8428      Ewallet  522.83                 4.761905     9.1  \n",
              "226-31-3081         Cash   76.40                 4.761905     9.6  \n",
              "631-41-3108  Credit card  324.31                 4.761905     7.4  \n",
              "123-19-1176      Ewallet  465.76                 4.761905     8.4  \n",
              "373-73-7910      Ewallet  604.17                 4.761905     5.3  \n",
              "...                  ...     ...                      ...     ...  \n",
              "233-67-5758      Ewallet   40.35                 4.761905     6.2  \n",
              "303-96-2227      Ewallet  973.80                 4.761905     4.4  \n",
              "727-02-1313         Cash   31.84                 4.761905     7.7  \n",
              "347-56-2442         Cash   65.82                 4.761905     4.1  \n",
              "849-09-3807         Cash  618.38                 4.761905     6.6  \n",
              "\n",
              "[1000 rows x 14 columns]"
            ],
            "text/html": [
              "\n",
              "  <div id=\"df-9543165c-7ad1-4e4f-b609-468009d043c5\">\n",
              "    <div class=\"colab-df-container\">\n",
              "      <div>\n",
              "<style scoped>\n",
              "    .dataframe tbody tr th:only-of-type {\n",
              "        vertical-align: middle;\n",
              "    }\n",
              "\n",
              "    .dataframe tbody tr th {\n",
              "        vertical-align: top;\n",
              "    }\n",
              "\n",
              "    .dataframe thead th {\n",
              "        text-align: right;\n",
              "    }\n",
              "</style>\n",
              "<table border=\"1\" class=\"dataframe\">\n",
              "  <thead>\n",
              "    <tr style=\"text-align: right;\">\n",
              "      <th></th>\n",
              "      <th>City</th>\n",
              "      <th>Customer type</th>\n",
              "      <th>Gender</th>\n",
              "      <th>Product line</th>\n",
              "      <th>Unit price</th>\n",
              "      <th>Quantity</th>\n",
              "      <th>Tax 5%</th>\n",
              "      <th>Total</th>\n",
              "      <th>Date</th>\n",
              "      <th>Time</th>\n",
              "      <th>Payment</th>\n",
              "      <th>cogs</th>\n",
              "      <th>gross margin percentage</th>\n",
              "      <th>Rating</th>\n",
              "    </tr>\n",
              "    <tr>\n",
              "      <th>Invoice ID</th>\n",
              "      <th></th>\n",
              "      <th></th>\n",
              "      <th></th>\n",
              "      <th></th>\n",
              "      <th></th>\n",
              "      <th></th>\n",
              "      <th></th>\n",
              "      <th></th>\n",
              "      <th></th>\n",
              "      <th></th>\n",
              "      <th></th>\n",
              "      <th></th>\n",
              "      <th></th>\n",
              "      <th></th>\n",
              "    </tr>\n",
              "  </thead>\n",
              "  <tbody>\n",
              "    <tr>\n",
              "      <th>750-67-8428</th>\n",
              "      <td>Yangon</td>\n",
              "      <td>Member</td>\n",
              "      <td>Female</td>\n",
              "      <td>Health and beauty</td>\n",
              "      <td>74.69</td>\n",
              "      <td>7</td>\n",
              "      <td>26.1415</td>\n",
              "      <td>548.9715</td>\n",
              "      <td>1/5/2019</td>\n",
              "      <td>13:08</td>\n",
              "      <td>Ewallet</td>\n",
              "      <td>522.83</td>\n",
              "      <td>4.761905</td>\n",
              "      <td>9.1</td>\n",
              "    </tr>\n",
              "    <tr>\n",
              "      <th>226-31-3081</th>\n",
              "      <td>Naypyitaw</td>\n",
              "      <td>Normal</td>\n",
              "      <td>Female</td>\n",
              "      <td>Electronic accessories</td>\n",
              "      <td>15.28</td>\n",
              "      <td>5</td>\n",
              "      <td>3.8200</td>\n",
              "      <td>80.2200</td>\n",
              "      <td>3/8/2019</td>\n",
              "      <td>10:29</td>\n",
              "      <td>Cash</td>\n",
              "      <td>76.40</td>\n",
              "      <td>4.761905</td>\n",
              "      <td>9.6</td>\n",
              "    </tr>\n",
              "    <tr>\n",
              "      <th>631-41-3108</th>\n",
              "      <td>Yangon</td>\n",
              "      <td>Normal</td>\n",
              "      <td>Male</td>\n",
              "      <td>Home and lifestyle</td>\n",
              "      <td>46.33</td>\n",
              "      <td>7</td>\n",
              "      <td>16.2155</td>\n",
              "      <td>340.5255</td>\n",
              "      <td>3/3/2019</td>\n",
              "      <td>13:23</td>\n",
              "      <td>Credit card</td>\n",
              "      <td>324.31</td>\n",
              "      <td>4.761905</td>\n",
              "      <td>7.4</td>\n",
              "    </tr>\n",
              "    <tr>\n",
              "      <th>123-19-1176</th>\n",
              "      <td>Yangon</td>\n",
              "      <td>Member</td>\n",
              "      <td>Male</td>\n",
              "      <td>Health and beauty</td>\n",
              "      <td>58.22</td>\n",
              "      <td>8</td>\n",
              "      <td>23.2880</td>\n",
              "      <td>489.0480</td>\n",
              "      <td>1/27/2019</td>\n",
              "      <td>20:33</td>\n",
              "      <td>Ewallet</td>\n",
              "      <td>465.76</td>\n",
              "      <td>4.761905</td>\n",
              "      <td>8.4</td>\n",
              "    </tr>\n",
              "    <tr>\n",
              "      <th>373-73-7910</th>\n",
              "      <td>Yangon</td>\n",
              "      <td>Normal</td>\n",
              "      <td>Male</td>\n",
              "      <td>Sports and travel</td>\n",
              "      <td>86.31</td>\n",
              "      <td>7</td>\n",
              "      <td>30.2085</td>\n",
              "      <td>634.3785</td>\n",
              "      <td>2/8/2019</td>\n",
              "      <td>10:37</td>\n",
              "      <td>Ewallet</td>\n",
              "      <td>604.17</td>\n",
              "      <td>4.761905</td>\n",
              "      <td>5.3</td>\n",
              "    </tr>\n",
              "    <tr>\n",
              "      <th>...</th>\n",
              "      <td>...</td>\n",
              "      <td>...</td>\n",
              "      <td>...</td>\n",
              "      <td>...</td>\n",
              "      <td>...</td>\n",
              "      <td>...</td>\n",
              "      <td>...</td>\n",
              "      <td>...</td>\n",
              "      <td>...</td>\n",
              "      <td>...</td>\n",
              "      <td>...</td>\n",
              "      <td>...</td>\n",
              "      <td>...</td>\n",
              "      <td>...</td>\n",
              "    </tr>\n",
              "    <tr>\n",
              "      <th>233-67-5758</th>\n",
              "      <td>Naypyitaw</td>\n",
              "      <td>Normal</td>\n",
              "      <td>Male</td>\n",
              "      <td>Health and beauty</td>\n",
              "      <td>40.35</td>\n",
              "      <td>1</td>\n",
              "      <td>2.0175</td>\n",
              "      <td>42.3675</td>\n",
              "      <td>1/29/2019</td>\n",
              "      <td>13:46</td>\n",
              "      <td>Ewallet</td>\n",
              "      <td>40.35</td>\n",
              "      <td>4.761905</td>\n",
              "      <td>6.2</td>\n",
              "    </tr>\n",
              "    <tr>\n",
              "      <th>303-96-2227</th>\n",
              "      <td>Mandalay</td>\n",
              "      <td>Normal</td>\n",
              "      <td>Female</td>\n",
              "      <td>Home and lifestyle</td>\n",
              "      <td>97.38</td>\n",
              "      <td>10</td>\n",
              "      <td>48.6900</td>\n",
              "      <td>1022.4900</td>\n",
              "      <td>3/2/2019</td>\n",
              "      <td>17:16</td>\n",
              "      <td>Ewallet</td>\n",
              "      <td>973.80</td>\n",
              "      <td>4.761905</td>\n",
              "      <td>4.4</td>\n",
              "    </tr>\n",
              "    <tr>\n",
              "      <th>727-02-1313</th>\n",
              "      <td>Yangon</td>\n",
              "      <td>Member</td>\n",
              "      <td>Male</td>\n",
              "      <td>Food and beverages</td>\n",
              "      <td>31.84</td>\n",
              "      <td>1</td>\n",
              "      <td>1.5920</td>\n",
              "      <td>33.4320</td>\n",
              "      <td>2/9/2019</td>\n",
              "      <td>13:22</td>\n",
              "      <td>Cash</td>\n",
              "      <td>31.84</td>\n",
              "      <td>4.761905</td>\n",
              "      <td>7.7</td>\n",
              "    </tr>\n",
              "    <tr>\n",
              "      <th>347-56-2442</th>\n",
              "      <td>Yangon</td>\n",
              "      <td>Normal</td>\n",
              "      <td>Male</td>\n",
              "      <td>Home and lifestyle</td>\n",
              "      <td>65.82</td>\n",
              "      <td>1</td>\n",
              "      <td>3.2910</td>\n",
              "      <td>69.1110</td>\n",
              "      <td>2/22/2019</td>\n",
              "      <td>15:33</td>\n",
              "      <td>Cash</td>\n",
              "      <td>65.82</td>\n",
              "      <td>4.761905</td>\n",
              "      <td>4.1</td>\n",
              "    </tr>\n",
              "    <tr>\n",
              "      <th>849-09-3807</th>\n",
              "      <td>Yangon</td>\n",
              "      <td>Member</td>\n",
              "      <td>Female</td>\n",
              "      <td>Fashion accessories</td>\n",
              "      <td>88.34</td>\n",
              "      <td>7</td>\n",
              "      <td>30.9190</td>\n",
              "      <td>649.2990</td>\n",
              "      <td>2/18/2019</td>\n",
              "      <td>13:28</td>\n",
              "      <td>Cash</td>\n",
              "      <td>618.38</td>\n",
              "      <td>4.761905</td>\n",
              "      <td>6.6</td>\n",
              "    </tr>\n",
              "  </tbody>\n",
              "</table>\n",
              "<p>1000 rows × 14 columns</p>\n",
              "</div>\n",
              "      <button class=\"colab-df-convert\" onclick=\"convertToInteractive('df-9543165c-7ad1-4e4f-b609-468009d043c5')\"\n",
              "              title=\"Convert this dataframe to an interactive table.\"\n",
              "              style=\"display:none;\">\n",
              "        \n",
              "  <svg xmlns=\"http://www.w3.org/2000/svg\" height=\"24px\"viewBox=\"0 0 24 24\"\n",
              "       width=\"24px\">\n",
              "    <path d=\"M0 0h24v24H0V0z\" fill=\"none\"/>\n",
              "    <path d=\"M18.56 5.44l.94 2.06.94-2.06 2.06-.94-2.06-.94-.94-2.06-.94 2.06-2.06.94zm-11 1L8.5 8.5l.94-2.06 2.06-.94-2.06-.94L8.5 2.5l-.94 2.06-2.06.94zm10 10l.94 2.06.94-2.06 2.06-.94-2.06-.94-.94-2.06-.94 2.06-2.06.94z\"/><path d=\"M17.41 7.96l-1.37-1.37c-.4-.4-.92-.59-1.43-.59-.52 0-1.04.2-1.43.59L10.3 9.45l-7.72 7.72c-.78.78-.78 2.05 0 2.83L4 21.41c.39.39.9.59 1.41.59.51 0 1.02-.2 1.41-.59l7.78-7.78 2.81-2.81c.8-.78.8-2.07 0-2.86zM5.41 20L4 18.59l7.72-7.72 1.47 1.35L5.41 20z\"/>\n",
              "  </svg>\n",
              "      </button>\n",
              "      \n",
              "  <style>\n",
              "    .colab-df-container {\n",
              "      display:flex;\n",
              "      flex-wrap:wrap;\n",
              "      gap: 12px;\n",
              "    }\n",
              "\n",
              "    .colab-df-convert {\n",
              "      background-color: #E8F0FE;\n",
              "      border: none;\n",
              "      border-radius: 50%;\n",
              "      cursor: pointer;\n",
              "      display: none;\n",
              "      fill: #1967D2;\n",
              "      height: 32px;\n",
              "      padding: 0 0 0 0;\n",
              "      width: 32px;\n",
              "    }\n",
              "\n",
              "    .colab-df-convert:hover {\n",
              "      background-color: #E2EBFA;\n",
              "      box-shadow: 0px 1px 2px rgba(60, 64, 67, 0.3), 0px 1px 3px 1px rgba(60, 64, 67, 0.15);\n",
              "      fill: #174EA6;\n",
              "    }\n",
              "\n",
              "    [theme=dark] .colab-df-convert {\n",
              "      background-color: #3B4455;\n",
              "      fill: #D2E3FC;\n",
              "    }\n",
              "\n",
              "    [theme=dark] .colab-df-convert:hover {\n",
              "      background-color: #434B5C;\n",
              "      box-shadow: 0px 1px 3px 1px rgba(0, 0, 0, 0.15);\n",
              "      filter: drop-shadow(0px 1px 2px rgba(0, 0, 0, 0.3));\n",
              "      fill: #FFFFFF;\n",
              "    }\n",
              "  </style>\n",
              "\n",
              "      <script>\n",
              "        const buttonEl =\n",
              "          document.querySelector('#df-9543165c-7ad1-4e4f-b609-468009d043c5 button.colab-df-convert');\n",
              "        buttonEl.style.display =\n",
              "          google.colab.kernel.accessAllowed ? 'block' : 'none';\n",
              "\n",
              "        async function convertToInteractive(key) {\n",
              "          const element = document.querySelector('#df-9543165c-7ad1-4e4f-b609-468009d043c5');\n",
              "          const dataTable =\n",
              "            await google.colab.kernel.invokeFunction('convertToInteractive',\n",
              "                                                     [key], {});\n",
              "          if (!dataTable) return;\n",
              "\n",
              "          const docLinkHtml = 'Like what you see? Visit the ' +\n",
              "            '<a target=\"_blank\" href=https://colab.research.google.com/notebooks/data_table.ipynb>data table notebook</a>'\n",
              "            + ' to learn more about interactive tables.';\n",
              "          element.innerHTML = '';\n",
              "          dataTable['output_type'] = 'display_data';\n",
              "          await google.colab.output.renderOutput(dataTable, element);\n",
              "          const docLink = document.createElement('div');\n",
              "          docLink.innerHTML = docLinkHtml;\n",
              "          element.appendChild(docLink);\n",
              "        }\n",
              "      </script>\n",
              "    </div>\n",
              "  </div>\n",
              "  "
            ]
          },
          "metadata": {},
          "execution_count": 159
        }
      ]
    },
    {
      "cell_type": "markdown",
      "source": [
        "# **Utilice un transformador de columna para escalar las características numéricas y realizar una codificación one-hot a las características categóricas.**\n"
      ],
      "metadata": {
        "id": "BJHid5pLluh5"
      }
    },
    {
      "cell_type": "code",
      "source": [
        "cat_selector = make_column_selector(dtype_include='object')\n",
        "num_selector = make_column_selector(dtype_include='number')"
      ],
      "metadata": {
        "id": "W4unB9ZBlu7g"
      },
      "execution_count": 160,
      "outputs": []
    },
    {
      "cell_type": "code",
      "source": [
        "# Scaler\n",
        "scaler = StandardScaler()\n",
        "# One-hot encoder\n",
        "ohe = OneHotEncoder(handle_unknown='ignore', sparse=False)"
      ],
      "metadata": {
        "id": "tP-2Bqgql1xi"
      },
      "execution_count": 161,
      "outputs": []
    },
    {
      "cell_type": "code",
      "source": [
        "numeric_pipe = make_pipeline(scaler)\n",
        "numeric_pipe"
      ],
      "metadata": {
        "colab": {
          "base_uri": "https://localhost:8080/",
          "height": 93
        },
        "id": "7AlRfLAAl4uh",
        "outputId": "3adfed4b-308e-4bc8-9f90-6c7cec014b98"
      },
      "execution_count": 162,
      "outputs": [
        {
          "output_type": "execute_result",
          "data": {
            "text/plain": [
              "Pipeline(steps=[('standardscaler', StandardScaler())])"
            ],
            "text/html": [
              "<style>#sk-c2ca4257-8b27-4e27-930c-33e61190047d {color: black;background-color: white;}#sk-c2ca4257-8b27-4e27-930c-33e61190047d pre{padding: 0;}#sk-c2ca4257-8b27-4e27-930c-33e61190047d div.sk-toggleable {background-color: white;}#sk-c2ca4257-8b27-4e27-930c-33e61190047d label.sk-toggleable__label {cursor: pointer;display: block;width: 100%;margin-bottom: 0;padding: 0.3em;box-sizing: border-box;text-align: center;}#sk-c2ca4257-8b27-4e27-930c-33e61190047d label.sk-toggleable__label-arrow:before {content: \"▸\";float: left;margin-right: 0.25em;color: #696969;}#sk-c2ca4257-8b27-4e27-930c-33e61190047d label.sk-toggleable__label-arrow:hover:before {color: black;}#sk-c2ca4257-8b27-4e27-930c-33e61190047d div.sk-estimator:hover label.sk-toggleable__label-arrow:before {color: black;}#sk-c2ca4257-8b27-4e27-930c-33e61190047d div.sk-toggleable__content {max-height: 0;max-width: 0;overflow: hidden;text-align: left;background-color: #f0f8ff;}#sk-c2ca4257-8b27-4e27-930c-33e61190047d div.sk-toggleable__content pre {margin: 0.2em;color: black;border-radius: 0.25em;background-color: #f0f8ff;}#sk-c2ca4257-8b27-4e27-930c-33e61190047d input.sk-toggleable__control:checked~div.sk-toggleable__content {max-height: 200px;max-width: 100%;overflow: auto;}#sk-c2ca4257-8b27-4e27-930c-33e61190047d input.sk-toggleable__control:checked~label.sk-toggleable__label-arrow:before {content: \"▾\";}#sk-c2ca4257-8b27-4e27-930c-33e61190047d div.sk-estimator input.sk-toggleable__control:checked~label.sk-toggleable__label {background-color: #d4ebff;}#sk-c2ca4257-8b27-4e27-930c-33e61190047d div.sk-label input.sk-toggleable__control:checked~label.sk-toggleable__label {background-color: #d4ebff;}#sk-c2ca4257-8b27-4e27-930c-33e61190047d input.sk-hidden--visually {border: 0;clip: rect(1px 1px 1px 1px);clip: rect(1px, 1px, 1px, 1px);height: 1px;margin: -1px;overflow: hidden;padding: 0;position: absolute;width: 1px;}#sk-c2ca4257-8b27-4e27-930c-33e61190047d div.sk-estimator {font-family: monospace;background-color: #f0f8ff;border: 1px dotted black;border-radius: 0.25em;box-sizing: border-box;margin-bottom: 0.5em;}#sk-c2ca4257-8b27-4e27-930c-33e61190047d div.sk-estimator:hover {background-color: #d4ebff;}#sk-c2ca4257-8b27-4e27-930c-33e61190047d div.sk-parallel-item::after {content: \"\";width: 100%;border-bottom: 1px solid gray;flex-grow: 1;}#sk-c2ca4257-8b27-4e27-930c-33e61190047d div.sk-label:hover label.sk-toggleable__label {background-color: #d4ebff;}#sk-c2ca4257-8b27-4e27-930c-33e61190047d div.sk-serial::before {content: \"\";position: absolute;border-left: 1px solid gray;box-sizing: border-box;top: 2em;bottom: 0;left: 50%;}#sk-c2ca4257-8b27-4e27-930c-33e61190047d div.sk-serial {display: flex;flex-direction: column;align-items: center;background-color: white;padding-right: 0.2em;padding-left: 0.2em;}#sk-c2ca4257-8b27-4e27-930c-33e61190047d div.sk-item {z-index: 1;}#sk-c2ca4257-8b27-4e27-930c-33e61190047d div.sk-parallel {display: flex;align-items: stretch;justify-content: center;background-color: white;}#sk-c2ca4257-8b27-4e27-930c-33e61190047d div.sk-parallel::before {content: \"\";position: absolute;border-left: 1px solid gray;box-sizing: border-box;top: 2em;bottom: 0;left: 50%;}#sk-c2ca4257-8b27-4e27-930c-33e61190047d div.sk-parallel-item {display: flex;flex-direction: column;position: relative;background-color: white;}#sk-c2ca4257-8b27-4e27-930c-33e61190047d div.sk-parallel-item:first-child::after {align-self: flex-end;width: 50%;}#sk-c2ca4257-8b27-4e27-930c-33e61190047d div.sk-parallel-item:last-child::after {align-self: flex-start;width: 50%;}#sk-c2ca4257-8b27-4e27-930c-33e61190047d div.sk-parallel-item:only-child::after {width: 0;}#sk-c2ca4257-8b27-4e27-930c-33e61190047d div.sk-dashed-wrapped {border: 1px dashed gray;margin: 0 0.4em 0.5em 0.4em;box-sizing: border-box;padding-bottom: 0.4em;background-color: white;position: relative;}#sk-c2ca4257-8b27-4e27-930c-33e61190047d div.sk-label label {font-family: monospace;font-weight: bold;background-color: white;display: inline-block;line-height: 1.2em;}#sk-c2ca4257-8b27-4e27-930c-33e61190047d div.sk-label-container {position: relative;z-index: 2;text-align: center;}#sk-c2ca4257-8b27-4e27-930c-33e61190047d div.sk-container {/* jupyter's `normalize.less` sets `[hidden] { display: none; }` but bootstrap.min.css set `[hidden] { display: none !important; }` so we also need the `!important` here to be able to override the default hidden behavior on the sphinx rendered scikit-learn.org. See: https://github.com/scikit-learn/scikit-learn/issues/21755 */display: inline-block !important;position: relative;}#sk-c2ca4257-8b27-4e27-930c-33e61190047d div.sk-text-repr-fallback {display: none;}</style><div id=\"sk-c2ca4257-8b27-4e27-930c-33e61190047d\" class=\"sk-top-container\"><div class=\"sk-text-repr-fallback\"><pre>Pipeline(steps=[(&#x27;standardscaler&#x27;, StandardScaler())])</pre><b>Please rerun this cell to show the HTML repr or trust the notebook.</b></div><div class=\"sk-container\" hidden><div class=\"sk-item sk-dashed-wrapped\"><div class=\"sk-label-container\"><div class=\"sk-label sk-toggleable\"><input class=\"sk-toggleable__control sk-hidden--visually\" id=\"22ca1c3c-28e2-4b9f-9b86-9593e1bb001a\" type=\"checkbox\" ><label for=\"22ca1c3c-28e2-4b9f-9b86-9593e1bb001a\" class=\"sk-toggleable__label sk-toggleable__label-arrow\">Pipeline</label><div class=\"sk-toggleable__content\"><pre>Pipeline(steps=[(&#x27;standardscaler&#x27;, StandardScaler())])</pre></div></div></div><div class=\"sk-serial\"><div class=\"sk-item\"><div class=\"sk-estimator sk-toggleable\"><input class=\"sk-toggleable__control sk-hidden--visually\" id=\"8dd36775-e33e-425c-9eff-02bacd293445\" type=\"checkbox\" ><label for=\"8dd36775-e33e-425c-9eff-02bacd293445\" class=\"sk-toggleable__label sk-toggleable__label-arrow\">StandardScaler</label><div class=\"sk-toggleable__content\"><pre>StandardScaler()</pre></div></div></div></div></div></div></div>"
            ]
          },
          "metadata": {},
          "execution_count": 162
        }
      ]
    },
    {
      "cell_type": "code",
      "source": [
        "categorical_pipe = make_pipeline(ohe)\n",
        "categorical_pipe"
      ],
      "metadata": {
        "colab": {
          "base_uri": "https://localhost:8080/",
          "height": 93
        },
        "id": "I-J8zjUDl6X0",
        "outputId": "3791f9f5-c9bd-422d-d202-fdd6f5ebbfaa"
      },
      "execution_count": 163,
      "outputs": [
        {
          "output_type": "execute_result",
          "data": {
            "text/plain": [
              "Pipeline(steps=[('onehotencoder',\n",
              "                 OneHotEncoder(handle_unknown='ignore', sparse=False))])"
            ],
            "text/html": [
              "<style>#sk-35b72c3d-3e6b-4d89-a583-bd1d7444095b {color: black;background-color: white;}#sk-35b72c3d-3e6b-4d89-a583-bd1d7444095b pre{padding: 0;}#sk-35b72c3d-3e6b-4d89-a583-bd1d7444095b div.sk-toggleable {background-color: white;}#sk-35b72c3d-3e6b-4d89-a583-bd1d7444095b label.sk-toggleable__label {cursor: pointer;display: block;width: 100%;margin-bottom: 0;padding: 0.3em;box-sizing: border-box;text-align: center;}#sk-35b72c3d-3e6b-4d89-a583-bd1d7444095b label.sk-toggleable__label-arrow:before {content: \"▸\";float: left;margin-right: 0.25em;color: #696969;}#sk-35b72c3d-3e6b-4d89-a583-bd1d7444095b label.sk-toggleable__label-arrow:hover:before {color: black;}#sk-35b72c3d-3e6b-4d89-a583-bd1d7444095b div.sk-estimator:hover label.sk-toggleable__label-arrow:before {color: black;}#sk-35b72c3d-3e6b-4d89-a583-bd1d7444095b div.sk-toggleable__content {max-height: 0;max-width: 0;overflow: hidden;text-align: left;background-color: #f0f8ff;}#sk-35b72c3d-3e6b-4d89-a583-bd1d7444095b div.sk-toggleable__content pre {margin: 0.2em;color: black;border-radius: 0.25em;background-color: #f0f8ff;}#sk-35b72c3d-3e6b-4d89-a583-bd1d7444095b input.sk-toggleable__control:checked~div.sk-toggleable__content {max-height: 200px;max-width: 100%;overflow: auto;}#sk-35b72c3d-3e6b-4d89-a583-bd1d7444095b input.sk-toggleable__control:checked~label.sk-toggleable__label-arrow:before {content: \"▾\";}#sk-35b72c3d-3e6b-4d89-a583-bd1d7444095b div.sk-estimator input.sk-toggleable__control:checked~label.sk-toggleable__label {background-color: #d4ebff;}#sk-35b72c3d-3e6b-4d89-a583-bd1d7444095b div.sk-label input.sk-toggleable__control:checked~label.sk-toggleable__label {background-color: #d4ebff;}#sk-35b72c3d-3e6b-4d89-a583-bd1d7444095b input.sk-hidden--visually {border: 0;clip: rect(1px 1px 1px 1px);clip: rect(1px, 1px, 1px, 1px);height: 1px;margin: -1px;overflow: hidden;padding: 0;position: absolute;width: 1px;}#sk-35b72c3d-3e6b-4d89-a583-bd1d7444095b div.sk-estimator {font-family: monospace;background-color: #f0f8ff;border: 1px dotted black;border-radius: 0.25em;box-sizing: border-box;margin-bottom: 0.5em;}#sk-35b72c3d-3e6b-4d89-a583-bd1d7444095b div.sk-estimator:hover {background-color: #d4ebff;}#sk-35b72c3d-3e6b-4d89-a583-bd1d7444095b div.sk-parallel-item::after {content: \"\";width: 100%;border-bottom: 1px solid gray;flex-grow: 1;}#sk-35b72c3d-3e6b-4d89-a583-bd1d7444095b div.sk-label:hover label.sk-toggleable__label {background-color: #d4ebff;}#sk-35b72c3d-3e6b-4d89-a583-bd1d7444095b div.sk-serial::before {content: \"\";position: absolute;border-left: 1px solid gray;box-sizing: border-box;top: 2em;bottom: 0;left: 50%;}#sk-35b72c3d-3e6b-4d89-a583-bd1d7444095b div.sk-serial {display: flex;flex-direction: column;align-items: center;background-color: white;padding-right: 0.2em;padding-left: 0.2em;}#sk-35b72c3d-3e6b-4d89-a583-bd1d7444095b div.sk-item {z-index: 1;}#sk-35b72c3d-3e6b-4d89-a583-bd1d7444095b div.sk-parallel {display: flex;align-items: stretch;justify-content: center;background-color: white;}#sk-35b72c3d-3e6b-4d89-a583-bd1d7444095b div.sk-parallel::before {content: \"\";position: absolute;border-left: 1px solid gray;box-sizing: border-box;top: 2em;bottom: 0;left: 50%;}#sk-35b72c3d-3e6b-4d89-a583-bd1d7444095b div.sk-parallel-item {display: flex;flex-direction: column;position: relative;background-color: white;}#sk-35b72c3d-3e6b-4d89-a583-bd1d7444095b div.sk-parallel-item:first-child::after {align-self: flex-end;width: 50%;}#sk-35b72c3d-3e6b-4d89-a583-bd1d7444095b div.sk-parallel-item:last-child::after {align-self: flex-start;width: 50%;}#sk-35b72c3d-3e6b-4d89-a583-bd1d7444095b div.sk-parallel-item:only-child::after {width: 0;}#sk-35b72c3d-3e6b-4d89-a583-bd1d7444095b div.sk-dashed-wrapped {border: 1px dashed gray;margin: 0 0.4em 0.5em 0.4em;box-sizing: border-box;padding-bottom: 0.4em;background-color: white;position: relative;}#sk-35b72c3d-3e6b-4d89-a583-bd1d7444095b div.sk-label label {font-family: monospace;font-weight: bold;background-color: white;display: inline-block;line-height: 1.2em;}#sk-35b72c3d-3e6b-4d89-a583-bd1d7444095b div.sk-label-container {position: relative;z-index: 2;text-align: center;}#sk-35b72c3d-3e6b-4d89-a583-bd1d7444095b div.sk-container {/* jupyter's `normalize.less` sets `[hidden] { display: none; }` but bootstrap.min.css set `[hidden] { display: none !important; }` so we also need the `!important` here to be able to override the default hidden behavior on the sphinx rendered scikit-learn.org. See: https://github.com/scikit-learn/scikit-learn/issues/21755 */display: inline-block !important;position: relative;}#sk-35b72c3d-3e6b-4d89-a583-bd1d7444095b div.sk-text-repr-fallback {display: none;}</style><div id=\"sk-35b72c3d-3e6b-4d89-a583-bd1d7444095b\" class=\"sk-top-container\"><div class=\"sk-text-repr-fallback\"><pre>Pipeline(steps=[(&#x27;onehotencoder&#x27;,\n",
              "                 OneHotEncoder(handle_unknown=&#x27;ignore&#x27;, sparse=False))])</pre><b>Please rerun this cell to show the HTML repr or trust the notebook.</b></div><div class=\"sk-container\" hidden><div class=\"sk-item sk-dashed-wrapped\"><div class=\"sk-label-container\"><div class=\"sk-label sk-toggleable\"><input class=\"sk-toggleable__control sk-hidden--visually\" id=\"2baa07ed-528f-41e8-a878-9b95b72b0696\" type=\"checkbox\" ><label for=\"2baa07ed-528f-41e8-a878-9b95b72b0696\" class=\"sk-toggleable__label sk-toggleable__label-arrow\">Pipeline</label><div class=\"sk-toggleable__content\"><pre>Pipeline(steps=[(&#x27;onehotencoder&#x27;,\n",
              "                 OneHotEncoder(handle_unknown=&#x27;ignore&#x27;, sparse=False))])</pre></div></div></div><div class=\"sk-serial\"><div class=\"sk-item\"><div class=\"sk-estimator sk-toggleable\"><input class=\"sk-toggleable__control sk-hidden--visually\" id=\"44e5f441-197c-4d9b-a419-59fc5394849e\" type=\"checkbox\" ><label for=\"44e5f441-197c-4d9b-a419-59fc5394849e\" class=\"sk-toggleable__label sk-toggleable__label-arrow\">OneHotEncoder</label><div class=\"sk-toggleable__content\"><pre>OneHotEncoder(handle_unknown=&#x27;ignore&#x27;, sparse=False)</pre></div></div></div></div></div></div></div>"
            ]
          },
          "metadata": {},
          "execution_count": 163
        }
      ]
    },
    {
      "cell_type": "code",
      "source": [
        "# Tuples para Column Transformer\n",
        "number_tuple = (numeric_pipe, num_selector)\n",
        "category_tuple = (categorical_pipe, cat_selector)\n",
        "# ColumnTransformer\n",
        "preprocessor = make_column_transformer(number_tuple, category_tuple)\n",
        "preprocessor"
      ],
      "metadata": {
        "colab": {
          "base_uri": "https://localhost:8080/",
          "height": 119
        },
        "id": "L0DIqsp2l8RQ",
        "outputId": "98cf099d-af25-4f8e-99fe-7a646f75e2ee"
      },
      "execution_count": 164,
      "outputs": [
        {
          "output_type": "execute_result",
          "data": {
            "text/plain": [
              "ColumnTransformer(transformers=[('pipeline-1',\n",
              "                                 Pipeline(steps=[('standardscaler',\n",
              "                                                  StandardScaler())]),\n",
              "                                 <sklearn.compose._column_transformer.make_column_selector object at 0x7f1f99c41340>),\n",
              "                                ('pipeline-2',\n",
              "                                 Pipeline(steps=[('onehotencoder',\n",
              "                                                  OneHotEncoder(handle_unknown='ignore',\n",
              "                                                                sparse=False))]),\n",
              "                                 <sklearn.compose._column_transformer.make_column_selector object at 0x7f1f99c41190>)])"
            ],
            "text/html": [
              "<style>#sk-e2427e1f-f2b4-466f-83eb-07062df76c43 {color: black;background-color: white;}#sk-e2427e1f-f2b4-466f-83eb-07062df76c43 pre{padding: 0;}#sk-e2427e1f-f2b4-466f-83eb-07062df76c43 div.sk-toggleable {background-color: white;}#sk-e2427e1f-f2b4-466f-83eb-07062df76c43 label.sk-toggleable__label {cursor: pointer;display: block;width: 100%;margin-bottom: 0;padding: 0.3em;box-sizing: border-box;text-align: center;}#sk-e2427e1f-f2b4-466f-83eb-07062df76c43 label.sk-toggleable__label-arrow:before {content: \"▸\";float: left;margin-right: 0.25em;color: #696969;}#sk-e2427e1f-f2b4-466f-83eb-07062df76c43 label.sk-toggleable__label-arrow:hover:before {color: black;}#sk-e2427e1f-f2b4-466f-83eb-07062df76c43 div.sk-estimator:hover label.sk-toggleable__label-arrow:before {color: black;}#sk-e2427e1f-f2b4-466f-83eb-07062df76c43 div.sk-toggleable__content {max-height: 0;max-width: 0;overflow: hidden;text-align: left;background-color: #f0f8ff;}#sk-e2427e1f-f2b4-466f-83eb-07062df76c43 div.sk-toggleable__content pre {margin: 0.2em;color: black;border-radius: 0.25em;background-color: #f0f8ff;}#sk-e2427e1f-f2b4-466f-83eb-07062df76c43 input.sk-toggleable__control:checked~div.sk-toggleable__content {max-height: 200px;max-width: 100%;overflow: auto;}#sk-e2427e1f-f2b4-466f-83eb-07062df76c43 input.sk-toggleable__control:checked~label.sk-toggleable__label-arrow:before {content: \"▾\";}#sk-e2427e1f-f2b4-466f-83eb-07062df76c43 div.sk-estimator input.sk-toggleable__control:checked~label.sk-toggleable__label {background-color: #d4ebff;}#sk-e2427e1f-f2b4-466f-83eb-07062df76c43 div.sk-label input.sk-toggleable__control:checked~label.sk-toggleable__label {background-color: #d4ebff;}#sk-e2427e1f-f2b4-466f-83eb-07062df76c43 input.sk-hidden--visually {border: 0;clip: rect(1px 1px 1px 1px);clip: rect(1px, 1px, 1px, 1px);height: 1px;margin: -1px;overflow: hidden;padding: 0;position: absolute;width: 1px;}#sk-e2427e1f-f2b4-466f-83eb-07062df76c43 div.sk-estimator {font-family: monospace;background-color: #f0f8ff;border: 1px dotted black;border-radius: 0.25em;box-sizing: border-box;margin-bottom: 0.5em;}#sk-e2427e1f-f2b4-466f-83eb-07062df76c43 div.sk-estimator:hover {background-color: #d4ebff;}#sk-e2427e1f-f2b4-466f-83eb-07062df76c43 div.sk-parallel-item::after {content: \"\";width: 100%;border-bottom: 1px solid gray;flex-grow: 1;}#sk-e2427e1f-f2b4-466f-83eb-07062df76c43 div.sk-label:hover label.sk-toggleable__label {background-color: #d4ebff;}#sk-e2427e1f-f2b4-466f-83eb-07062df76c43 div.sk-serial::before {content: \"\";position: absolute;border-left: 1px solid gray;box-sizing: border-box;top: 2em;bottom: 0;left: 50%;}#sk-e2427e1f-f2b4-466f-83eb-07062df76c43 div.sk-serial {display: flex;flex-direction: column;align-items: center;background-color: white;padding-right: 0.2em;padding-left: 0.2em;}#sk-e2427e1f-f2b4-466f-83eb-07062df76c43 div.sk-item {z-index: 1;}#sk-e2427e1f-f2b4-466f-83eb-07062df76c43 div.sk-parallel {display: flex;align-items: stretch;justify-content: center;background-color: white;}#sk-e2427e1f-f2b4-466f-83eb-07062df76c43 div.sk-parallel::before {content: \"\";position: absolute;border-left: 1px solid gray;box-sizing: border-box;top: 2em;bottom: 0;left: 50%;}#sk-e2427e1f-f2b4-466f-83eb-07062df76c43 div.sk-parallel-item {display: flex;flex-direction: column;position: relative;background-color: white;}#sk-e2427e1f-f2b4-466f-83eb-07062df76c43 div.sk-parallel-item:first-child::after {align-self: flex-end;width: 50%;}#sk-e2427e1f-f2b4-466f-83eb-07062df76c43 div.sk-parallel-item:last-child::after {align-self: flex-start;width: 50%;}#sk-e2427e1f-f2b4-466f-83eb-07062df76c43 div.sk-parallel-item:only-child::after {width: 0;}#sk-e2427e1f-f2b4-466f-83eb-07062df76c43 div.sk-dashed-wrapped {border: 1px dashed gray;margin: 0 0.4em 0.5em 0.4em;box-sizing: border-box;padding-bottom: 0.4em;background-color: white;position: relative;}#sk-e2427e1f-f2b4-466f-83eb-07062df76c43 div.sk-label label {font-family: monospace;font-weight: bold;background-color: white;display: inline-block;line-height: 1.2em;}#sk-e2427e1f-f2b4-466f-83eb-07062df76c43 div.sk-label-container {position: relative;z-index: 2;text-align: center;}#sk-e2427e1f-f2b4-466f-83eb-07062df76c43 div.sk-container {/* jupyter's `normalize.less` sets `[hidden] { display: none; }` but bootstrap.min.css set `[hidden] { display: none !important; }` so we also need the `!important` here to be able to override the default hidden behavior on the sphinx rendered scikit-learn.org. See: https://github.com/scikit-learn/scikit-learn/issues/21755 */display: inline-block !important;position: relative;}#sk-e2427e1f-f2b4-466f-83eb-07062df76c43 div.sk-text-repr-fallback {display: none;}</style><div id=\"sk-e2427e1f-f2b4-466f-83eb-07062df76c43\" class=\"sk-top-container\"><div class=\"sk-text-repr-fallback\"><pre>ColumnTransformer(transformers=[(&#x27;pipeline-1&#x27;,\n",
              "                                 Pipeline(steps=[(&#x27;standardscaler&#x27;,\n",
              "                                                  StandardScaler())]),\n",
              "                                 &lt;sklearn.compose._column_transformer.make_column_selector object at 0x7f1f99c41340&gt;),\n",
              "                                (&#x27;pipeline-2&#x27;,\n",
              "                                 Pipeline(steps=[(&#x27;onehotencoder&#x27;,\n",
              "                                                  OneHotEncoder(handle_unknown=&#x27;ignore&#x27;,\n",
              "                                                                sparse=False))]),\n",
              "                                 &lt;sklearn.compose._column_transformer.make_column_selector object at 0x7f1f99c41190&gt;)])</pre><b>Please rerun this cell to show the HTML repr or trust the notebook.</b></div><div class=\"sk-container\" hidden><div class=\"sk-item sk-dashed-wrapped\"><div class=\"sk-label-container\"><div class=\"sk-label sk-toggleable\"><input class=\"sk-toggleable__control sk-hidden--visually\" id=\"942ec1f6-c5ab-407a-a042-e0784c968d88\" type=\"checkbox\" ><label for=\"942ec1f6-c5ab-407a-a042-e0784c968d88\" class=\"sk-toggleable__label sk-toggleable__label-arrow\">ColumnTransformer</label><div class=\"sk-toggleable__content\"><pre>ColumnTransformer(transformers=[(&#x27;pipeline-1&#x27;,\n",
              "                                 Pipeline(steps=[(&#x27;standardscaler&#x27;,\n",
              "                                                  StandardScaler())]),\n",
              "                                 &lt;sklearn.compose._column_transformer.make_column_selector object at 0x7f1f99c41340&gt;),\n",
              "                                (&#x27;pipeline-2&#x27;,\n",
              "                                 Pipeline(steps=[(&#x27;onehotencoder&#x27;,\n",
              "                                                  OneHotEncoder(handle_unknown=&#x27;ignore&#x27;,\n",
              "                                                                sparse=False))]),\n",
              "                                 &lt;sklearn.compose._column_transformer.make_column_selector object at 0x7f1f99c41190&gt;)])</pre></div></div></div><div class=\"sk-parallel\"><div class=\"sk-parallel-item\"><div class=\"sk-item\"><div class=\"sk-label-container\"><div class=\"sk-label sk-toggleable\"><input class=\"sk-toggleable__control sk-hidden--visually\" id=\"f199df90-8d67-4ecc-8e09-e72f4f44b9b6\" type=\"checkbox\" ><label for=\"f199df90-8d67-4ecc-8e09-e72f4f44b9b6\" class=\"sk-toggleable__label sk-toggleable__label-arrow\">pipeline-1</label><div class=\"sk-toggleable__content\"><pre>&lt;sklearn.compose._column_transformer.make_column_selector object at 0x7f1f99c41340&gt;</pre></div></div></div><div class=\"sk-serial\"><div class=\"sk-item\"><div class=\"sk-serial\"><div class=\"sk-item\"><div class=\"sk-estimator sk-toggleable\"><input class=\"sk-toggleable__control sk-hidden--visually\" id=\"7047c1bc-d3af-411e-bcc1-63fdfadd949a\" type=\"checkbox\" ><label for=\"7047c1bc-d3af-411e-bcc1-63fdfadd949a\" class=\"sk-toggleable__label sk-toggleable__label-arrow\">StandardScaler</label><div class=\"sk-toggleable__content\"><pre>StandardScaler()</pre></div></div></div></div></div></div></div></div><div class=\"sk-parallel-item\"><div class=\"sk-item\"><div class=\"sk-label-container\"><div class=\"sk-label sk-toggleable\"><input class=\"sk-toggleable__control sk-hidden--visually\" id=\"8859471f-cb61-4088-a1ca-7a74a2d3ccdd\" type=\"checkbox\" ><label for=\"8859471f-cb61-4088-a1ca-7a74a2d3ccdd\" class=\"sk-toggleable__label sk-toggleable__label-arrow\">pipeline-2</label><div class=\"sk-toggleable__content\"><pre>&lt;sklearn.compose._column_transformer.make_column_selector object at 0x7f1f99c41190&gt;</pre></div></div></div><div class=\"sk-serial\"><div class=\"sk-item\"><div class=\"sk-serial\"><div class=\"sk-item\"><div class=\"sk-estimator sk-toggleable\"><input class=\"sk-toggleable__control sk-hidden--visually\" id=\"b83a480d-1d7b-4524-8215-75320b5decd8\" type=\"checkbox\" ><label for=\"b83a480d-1d7b-4524-8215-75320b5decd8\" class=\"sk-toggleable__label sk-toggleable__label-arrow\">OneHotEncoder</label><div class=\"sk-toggleable__content\"><pre>OneHotEncoder(handle_unknown=&#x27;ignore&#x27;, sparse=False)</pre></div></div></div></div></div></div></div></div></div></div></div></div>"
            ]
          },
          "metadata": {},
          "execution_count": 164
        }
      ]
    },
    {
      "cell_type": "code",
      "source": [
        "preprocessor.fit(X_train)"
      ],
      "metadata": {
        "colab": {
          "base_uri": "https://localhost:8080/",
          "height": 119
        },
        "id": "0UkJKxt1l-Tp",
        "outputId": "afb2df49-bf80-4208-8c0d-d96e98ad9c88"
      },
      "execution_count": 165,
      "outputs": [
        {
          "output_type": "execute_result",
          "data": {
            "text/plain": [
              "ColumnTransformer(transformers=[('pipeline-1',\n",
              "                                 Pipeline(steps=[('standardscaler',\n",
              "                                                  StandardScaler())]),\n",
              "                                 <sklearn.compose._column_transformer.make_column_selector object at 0x7f1f99c41340>),\n",
              "                                ('pipeline-2',\n",
              "                                 Pipeline(steps=[('onehotencoder',\n",
              "                                                  OneHotEncoder(handle_unknown='ignore',\n",
              "                                                                sparse=False))]),\n",
              "                                 <sklearn.compose._column_transformer.make_column_selector object at 0x7f1f99c41190>)])"
            ],
            "text/html": [
              "<style>#sk-fdcb5b43-ff5c-47c8-9f6d-5f2ae186aa36 {color: black;background-color: white;}#sk-fdcb5b43-ff5c-47c8-9f6d-5f2ae186aa36 pre{padding: 0;}#sk-fdcb5b43-ff5c-47c8-9f6d-5f2ae186aa36 div.sk-toggleable {background-color: white;}#sk-fdcb5b43-ff5c-47c8-9f6d-5f2ae186aa36 label.sk-toggleable__label {cursor: pointer;display: block;width: 100%;margin-bottom: 0;padding: 0.3em;box-sizing: border-box;text-align: center;}#sk-fdcb5b43-ff5c-47c8-9f6d-5f2ae186aa36 label.sk-toggleable__label-arrow:before {content: \"▸\";float: left;margin-right: 0.25em;color: #696969;}#sk-fdcb5b43-ff5c-47c8-9f6d-5f2ae186aa36 label.sk-toggleable__label-arrow:hover:before {color: black;}#sk-fdcb5b43-ff5c-47c8-9f6d-5f2ae186aa36 div.sk-estimator:hover label.sk-toggleable__label-arrow:before {color: black;}#sk-fdcb5b43-ff5c-47c8-9f6d-5f2ae186aa36 div.sk-toggleable__content {max-height: 0;max-width: 0;overflow: hidden;text-align: left;background-color: #f0f8ff;}#sk-fdcb5b43-ff5c-47c8-9f6d-5f2ae186aa36 div.sk-toggleable__content pre {margin: 0.2em;color: black;border-radius: 0.25em;background-color: #f0f8ff;}#sk-fdcb5b43-ff5c-47c8-9f6d-5f2ae186aa36 input.sk-toggleable__control:checked~div.sk-toggleable__content {max-height: 200px;max-width: 100%;overflow: auto;}#sk-fdcb5b43-ff5c-47c8-9f6d-5f2ae186aa36 input.sk-toggleable__control:checked~label.sk-toggleable__label-arrow:before {content: \"▾\";}#sk-fdcb5b43-ff5c-47c8-9f6d-5f2ae186aa36 div.sk-estimator input.sk-toggleable__control:checked~label.sk-toggleable__label {background-color: #d4ebff;}#sk-fdcb5b43-ff5c-47c8-9f6d-5f2ae186aa36 div.sk-label input.sk-toggleable__control:checked~label.sk-toggleable__label {background-color: #d4ebff;}#sk-fdcb5b43-ff5c-47c8-9f6d-5f2ae186aa36 input.sk-hidden--visually {border: 0;clip: rect(1px 1px 1px 1px);clip: rect(1px, 1px, 1px, 1px);height: 1px;margin: -1px;overflow: hidden;padding: 0;position: absolute;width: 1px;}#sk-fdcb5b43-ff5c-47c8-9f6d-5f2ae186aa36 div.sk-estimator {font-family: monospace;background-color: #f0f8ff;border: 1px dotted black;border-radius: 0.25em;box-sizing: border-box;margin-bottom: 0.5em;}#sk-fdcb5b43-ff5c-47c8-9f6d-5f2ae186aa36 div.sk-estimator:hover {background-color: #d4ebff;}#sk-fdcb5b43-ff5c-47c8-9f6d-5f2ae186aa36 div.sk-parallel-item::after {content: \"\";width: 100%;border-bottom: 1px solid gray;flex-grow: 1;}#sk-fdcb5b43-ff5c-47c8-9f6d-5f2ae186aa36 div.sk-label:hover label.sk-toggleable__label {background-color: #d4ebff;}#sk-fdcb5b43-ff5c-47c8-9f6d-5f2ae186aa36 div.sk-serial::before {content: \"\";position: absolute;border-left: 1px solid gray;box-sizing: border-box;top: 2em;bottom: 0;left: 50%;}#sk-fdcb5b43-ff5c-47c8-9f6d-5f2ae186aa36 div.sk-serial {display: flex;flex-direction: column;align-items: center;background-color: white;padding-right: 0.2em;padding-left: 0.2em;}#sk-fdcb5b43-ff5c-47c8-9f6d-5f2ae186aa36 div.sk-item {z-index: 1;}#sk-fdcb5b43-ff5c-47c8-9f6d-5f2ae186aa36 div.sk-parallel {display: flex;align-items: stretch;justify-content: center;background-color: white;}#sk-fdcb5b43-ff5c-47c8-9f6d-5f2ae186aa36 div.sk-parallel::before {content: \"\";position: absolute;border-left: 1px solid gray;box-sizing: border-box;top: 2em;bottom: 0;left: 50%;}#sk-fdcb5b43-ff5c-47c8-9f6d-5f2ae186aa36 div.sk-parallel-item {display: flex;flex-direction: column;position: relative;background-color: white;}#sk-fdcb5b43-ff5c-47c8-9f6d-5f2ae186aa36 div.sk-parallel-item:first-child::after {align-self: flex-end;width: 50%;}#sk-fdcb5b43-ff5c-47c8-9f6d-5f2ae186aa36 div.sk-parallel-item:last-child::after {align-self: flex-start;width: 50%;}#sk-fdcb5b43-ff5c-47c8-9f6d-5f2ae186aa36 div.sk-parallel-item:only-child::after {width: 0;}#sk-fdcb5b43-ff5c-47c8-9f6d-5f2ae186aa36 div.sk-dashed-wrapped {border: 1px dashed gray;margin: 0 0.4em 0.5em 0.4em;box-sizing: border-box;padding-bottom: 0.4em;background-color: white;position: relative;}#sk-fdcb5b43-ff5c-47c8-9f6d-5f2ae186aa36 div.sk-label label {font-family: monospace;font-weight: bold;background-color: white;display: inline-block;line-height: 1.2em;}#sk-fdcb5b43-ff5c-47c8-9f6d-5f2ae186aa36 div.sk-label-container {position: relative;z-index: 2;text-align: center;}#sk-fdcb5b43-ff5c-47c8-9f6d-5f2ae186aa36 div.sk-container {/* jupyter's `normalize.less` sets `[hidden] { display: none; }` but bootstrap.min.css set `[hidden] { display: none !important; }` so we also need the `!important` here to be able to override the default hidden behavior on the sphinx rendered scikit-learn.org. See: https://github.com/scikit-learn/scikit-learn/issues/21755 */display: inline-block !important;position: relative;}#sk-fdcb5b43-ff5c-47c8-9f6d-5f2ae186aa36 div.sk-text-repr-fallback {display: none;}</style><div id=\"sk-fdcb5b43-ff5c-47c8-9f6d-5f2ae186aa36\" class=\"sk-top-container\"><div class=\"sk-text-repr-fallback\"><pre>ColumnTransformer(transformers=[(&#x27;pipeline-1&#x27;,\n",
              "                                 Pipeline(steps=[(&#x27;standardscaler&#x27;,\n",
              "                                                  StandardScaler())]),\n",
              "                                 &lt;sklearn.compose._column_transformer.make_column_selector object at 0x7f1f99c41340&gt;),\n",
              "                                (&#x27;pipeline-2&#x27;,\n",
              "                                 Pipeline(steps=[(&#x27;onehotencoder&#x27;,\n",
              "                                                  OneHotEncoder(handle_unknown=&#x27;ignore&#x27;,\n",
              "                                                                sparse=False))]),\n",
              "                                 &lt;sklearn.compose._column_transformer.make_column_selector object at 0x7f1f99c41190&gt;)])</pre><b>Please rerun this cell to show the HTML repr or trust the notebook.</b></div><div class=\"sk-container\" hidden><div class=\"sk-item sk-dashed-wrapped\"><div class=\"sk-label-container\"><div class=\"sk-label sk-toggleable\"><input class=\"sk-toggleable__control sk-hidden--visually\" id=\"eafed8bb-f92e-488c-99ff-a1e494908965\" type=\"checkbox\" ><label for=\"eafed8bb-f92e-488c-99ff-a1e494908965\" class=\"sk-toggleable__label sk-toggleable__label-arrow\">ColumnTransformer</label><div class=\"sk-toggleable__content\"><pre>ColumnTransformer(transformers=[(&#x27;pipeline-1&#x27;,\n",
              "                                 Pipeline(steps=[(&#x27;standardscaler&#x27;,\n",
              "                                                  StandardScaler())]),\n",
              "                                 &lt;sklearn.compose._column_transformer.make_column_selector object at 0x7f1f99c41340&gt;),\n",
              "                                (&#x27;pipeline-2&#x27;,\n",
              "                                 Pipeline(steps=[(&#x27;onehotencoder&#x27;,\n",
              "                                                  OneHotEncoder(handle_unknown=&#x27;ignore&#x27;,\n",
              "                                                                sparse=False))]),\n",
              "                                 &lt;sklearn.compose._column_transformer.make_column_selector object at 0x7f1f99c41190&gt;)])</pre></div></div></div><div class=\"sk-parallel\"><div class=\"sk-parallel-item\"><div class=\"sk-item\"><div class=\"sk-label-container\"><div class=\"sk-label sk-toggleable\"><input class=\"sk-toggleable__control sk-hidden--visually\" id=\"5829f5fb-d259-4462-b956-1a2c98825382\" type=\"checkbox\" ><label for=\"5829f5fb-d259-4462-b956-1a2c98825382\" class=\"sk-toggleable__label sk-toggleable__label-arrow\">pipeline-1</label><div class=\"sk-toggleable__content\"><pre>&lt;sklearn.compose._column_transformer.make_column_selector object at 0x7f1f99c41340&gt;</pre></div></div></div><div class=\"sk-serial\"><div class=\"sk-item\"><div class=\"sk-serial\"><div class=\"sk-item\"><div class=\"sk-estimator sk-toggleable\"><input class=\"sk-toggleable__control sk-hidden--visually\" id=\"13f90de3-47ac-48e2-ac0e-5a062e0dfd4f\" type=\"checkbox\" ><label for=\"13f90de3-47ac-48e2-ac0e-5a062e0dfd4f\" class=\"sk-toggleable__label sk-toggleable__label-arrow\">StandardScaler</label><div class=\"sk-toggleable__content\"><pre>StandardScaler()</pre></div></div></div></div></div></div></div></div><div class=\"sk-parallel-item\"><div class=\"sk-item\"><div class=\"sk-label-container\"><div class=\"sk-label sk-toggleable\"><input class=\"sk-toggleable__control sk-hidden--visually\" id=\"28956856-d294-4912-9b82-15423667e1d2\" type=\"checkbox\" ><label for=\"28956856-d294-4912-9b82-15423667e1d2\" class=\"sk-toggleable__label sk-toggleable__label-arrow\">pipeline-2</label><div class=\"sk-toggleable__content\"><pre>&lt;sklearn.compose._column_transformer.make_column_selector object at 0x7f1f99c41190&gt;</pre></div></div></div><div class=\"sk-serial\"><div class=\"sk-item\"><div class=\"sk-serial\"><div class=\"sk-item\"><div class=\"sk-estimator sk-toggleable\"><input class=\"sk-toggleable__control sk-hidden--visually\" id=\"78edb736-ad70-4e07-a810-b76c8bd588cd\" type=\"checkbox\" ><label for=\"78edb736-ad70-4e07-a810-b76c8bd588cd\" class=\"sk-toggleable__label sk-toggleable__label-arrow\">OneHotEncoder</label><div class=\"sk-toggleable__content\"><pre>OneHotEncoder(handle_unknown=&#x27;ignore&#x27;, sparse=False)</pre></div></div></div></div></div></div></div></div></div></div></div></div>"
            ]
          },
          "metadata": {},
          "execution_count": 165
        }
      ]
    },
    {
      "cell_type": "code",
      "source": [
        "X_train_processed = preprocessor.transform(X_train)\n",
        "X_test_processed = preprocessor.transform(X_test)"
      ],
      "metadata": {
        "id": "jH2ESr_8l_8n"
      },
      "execution_count": 166,
      "outputs": []
    },
    {
      "cell_type": "code",
      "source": [
        "# Comprobar los valores faltantes y que los datos se escalen y tengan una codificación one-hot\n",
        "print(np.isnan(X_train_processed).sum().sum(), 'missing values in training data')\n",
        "print(np.isnan(X_test_processed).sum().sum(), 'missing values in testing data')\n",
        "print('\\n')\n",
        "print('All data in X_train_processed are', X_train_processed.dtype)\n",
        "print('All data in X_test_processed are', X_test_processed.dtype)\n",
        "print('\\n')\n",
        "print('shape of data is', X_train_processed.shape)\n",
        "print('\\n')\n",
        "X_train_processed"
      ],
      "metadata": {
        "id": "ZDUt727EmCIv",
        "colab": {
          "base_uri": "https://localhost:8080/"
        },
        "outputId": "5842d614-72b8-4408-aef7-bc5330ab8911"
      },
      "execution_count": 167,
      "outputs": [
        {
          "output_type": "stream",
          "name": "stdout",
          "text": [
            "0 missing values in training data\n",
            "0 missing values in testing data\n",
            "\n",
            "\n",
            "All data in X_train_processed are float64\n",
            "All data in X_test_processed are float64\n",
            "\n",
            "\n",
            "shape of data is (750, 560)\n",
            "\n",
            "\n"
          ]
        },
        {
          "output_type": "execute_result",
          "data": {
            "text/plain": [
              "array([[-1.37121173,  0.84832728, -0.64980886, ...,  0.        ,\n",
              "         0.        ,  1.        ],\n",
              "       [ 0.81571646,  1.5269891 ,  2.02198793, ...,  0.        ,\n",
              "         0.        ,  1.        ],\n",
              "       [ 0.14114349,  0.50899637,  0.47815215, ...,  0.        ,\n",
              "         0.        ,  1.        ],\n",
              "       ...,\n",
              "       [ 1.18446268, -1.5269891 , -0.94549644, ...,  0.        ,\n",
              "         0.        ,  1.        ],\n",
              "       [ 1.67904784,  1.18765819,  2.57712793, ...,  0.        ,\n",
              "         0.        ,  1.        ],\n",
              "       [-1.22554363,  1.18765819, -0.41567739, ...,  1.        ,\n",
              "         0.        ,  0.        ]])"
            ]
          },
          "metadata": {},
          "execution_count": 167
        }
      ]
    },
    {
      "cell_type": "code",
      "source": [
        "# Mantener los nombres de las columnas\n",
        "def get_feature_names(column_transformer):\n",
        "    \"\"\"Get feature names from all transformers.\n",
        "    Returns\n",
        "    -------\n",
        "    feature_names : list of strings\n",
        "        Names of the features produced by transform.\n",
        "    \"\"\"\n",
        "    # Remove the internal helper function\n",
        "    #check_is_fitted(column_transformer)\n",
        "    \n",
        "    # Turn loopkup into function for better handling with pipeline later\n",
        "    def get_names(trans):\n",
        "        # >> Original get_feature_names() method\n",
        "        if trans == 'drop' or (\n",
        "                hasattr(column, '__len__') and not len(column)):\n",
        "            return []\n",
        "        if trans == 'passthrough':\n",
        "            if hasattr(column_transformer, '_df_columns'):\n",
        "                if ((not isinstance(column, slice))\n",
        "                        and all(isinstance(col, str) for col in column)):\n",
        "                    return column\n",
        "                else:\n",
        "                    return column_transformer._df_columns[column]\n",
        "            else:\n",
        "                indices = np.arange(column_transformer._n_features)\n",
        "                return ['x%d' % i for i in indices[column]]\n",
        "        if not hasattr(trans, 'get_feature_names'):\n",
        "        # >>> Change: Return input column names if no method avaiable\n",
        "            # Turn error into a warning\n",
        "            warnings.warn(\"Transformer %s (type %s) does not \"\n",
        "                                 \"provide get_feature_names. \"\n",
        "                                 \"Will return input column names if available\"\n",
        "                                 % (str(name), type(trans).__name__))\n",
        "            # For transformers without a get_features_names method, use the input\n",
        "            # names to the column transformer\n",
        "            if column is None:\n",
        "                return []\n",
        "            else:\n",
        "                return [name + \"__\" + f for f in column]\n",
        "\n",
        "        return [name + \"__\" + f for f in trans.get_feature_names()]\n",
        "    \n",
        "    ### Start of processing\n",
        "    feature_names = []\n",
        "    \n",
        "    # Allow transformers to be pipelines. Pipeline steps are named differently, so preprocessing is needed\n",
        "    if type(column_transformer) == sklearn.pipeline.Pipeline:\n",
        "        l_transformers = [(name, trans, None, None) for step, name, trans in column_transformer._iter()]\n",
        "    else:\n",
        "        # For column transformers, follow the original method\n",
        "        l_transformers = list(column_transformer._iter(fitted=True))\n",
        "    \n",
        "    \n",
        "    for name, trans, column, _ in l_transformers: \n",
        "        if type(trans) == sklearn.pipeline.Pipeline:\n",
        "            # Recursive call on pipeline\n",
        "            _names = get_feature_names(trans)\n",
        "            # if pipeline has no transformer that returns names\n",
        "            if len(_names)==0:\n",
        "                _names = [name + \"__\" + f for f in column]\n",
        "            feature_names.extend(_names)\n",
        "        else:\n",
        "            feature_names.extend(get_names(trans))\n",
        "    \n",
        "    return feature_names"
      ],
      "metadata": {
        "id": "bl5tOOlzmHB-"
      },
      "execution_count": 168,
      "outputs": []
    },
    {
      "cell_type": "code",
      "source": [
        "preprocessor.get_feature_names_out"
      ],
      "metadata": {
        "colab": {
          "base_uri": "https://localhost:8080/"
        },
        "id": "l8TJ8qyImJL5",
        "outputId": "b614e8a5-030b-4012-eda7-28b1fd1655e4"
      },
      "execution_count": 169,
      "outputs": [
        {
          "output_type": "execute_result",
          "data": {
            "text/plain": [
              "<bound method ColumnTransformer.get_feature_names_out of ColumnTransformer(transformers=[('pipeline-1',\n",
              "                                 Pipeline(steps=[('standardscaler',\n",
              "                                                  StandardScaler())]),\n",
              "                                 <sklearn.compose._column_transformer.make_column_selector object at 0x7f1f99c41340>),\n",
              "                                ('pipeline-2',\n",
              "                                 Pipeline(steps=[('onehotencoder',\n",
              "                                                  OneHotEncoder(handle_unknown='ignore',\n",
              "                                                                sparse=False))]),\n",
              "                                 <sklearn.compose._column_transformer.make_column_selector object at 0x7f1f99c41190>)])>"
            ]
          },
          "metadata": {},
          "execution_count": 169
        }
      ]
    },
    {
      "cell_type": "code",
      "source": [
        "import warnings\n",
        "import sklearn\n",
        "column_name=get_feature_names(preprocessor)"
      ],
      "metadata": {
        "colab": {
          "base_uri": "https://localhost:8080/"
        },
        "id": "0V_C5lzCmKXV",
        "outputId": "985dd6b1-ef94-466d-a173-2bb31148cfdf"
      },
      "execution_count": 170,
      "outputs": [
        {
          "output_type": "stream",
          "name": "stderr",
          "text": [
            "<ipython-input-168-a1392b363bd8>:31: UserWarning: Transformer standardscaler (type StandardScaler) does not provide get_feature_names. Will return input column names if available\n",
            "  warnings.warn(\"Transformer %s (type %s) does not \"\n",
            "/usr/local/lib/python3.8/dist-packages/sklearn/utils/deprecation.py:87: FutureWarning: Function get_feature_names is deprecated; get_feature_names is deprecated in 1.0 and will be removed in 1.2. Please use get_feature_names_out instead.\n",
            "  warnings.warn(msg, category=FutureWarning)\n"
          ]
        }
      ]
    },
    {
      "cell_type": "code",
      "source": [
        "# Restablecer el índice para concatenar adecuadamente\n",
        "# aislen las columnas numéricas\n",
        "train_nums = X_train[num_selector(X_train)].reset_index(drop=True)\n",
        "test_nums = X_test[num_selector(X_test)].reset_index(drop=True)\n",
        "# recombinen los conjuntos de entrenamiento y de prueba en el eje 1 (columnas)\n",
        "X_train_processed_df = pd.DataFrame(X_train_processed, columns= column_name)\n",
        "X_test_processed_df =pd.DataFrame(X_test_processed, columns= column_name) \n",
        "X_train_processed_df"
      ],
      "metadata": {
        "colab": {
          "base_uri": "https://localhost:8080/",
          "height": 540
        },
        "id": "C9mmFECYmNIe",
        "outputId": "96944aa3-8c20-4bd6-c2d7-73b5c9301d5d"
      },
      "execution_count": 171,
      "outputs": [
        {
          "output_type": "execute_result",
          "data": {
            "text/plain": [
              "     pipeline-1__Unit price  pipeline-1__Quantity  pipeline-1__Tax 5%  \\\n",
              "0                 -1.371212              0.848327           -0.649809   \n",
              "1                  0.815716              1.526989            2.021988   \n",
              "2                  0.141143              0.508996            0.478152   \n",
              "3                 -0.181462              0.169665           -0.000632   \n",
              "4                 -0.539531              0.169665           -0.246595   \n",
              "..                      ...                   ...                 ...   \n",
              "745               -1.061190              0.169665           -0.604930   \n",
              "746                0.466037             -0.169665            0.149766   \n",
              "747                1.184463             -1.526989           -0.945496   \n",
              "748                1.679048              1.187658            2.577128   \n",
              "749               -1.225544              1.187658           -0.415677   \n",
              "\n",
              "     pipeline-1__Total  pipeline-1__cogs  pipeline-1__gross margin percentage  \\\n",
              "0            -0.649809         -0.649809                                  0.0   \n",
              "1             2.021988          2.021988                                  0.0   \n",
              "2             0.478152          0.478152                                  0.0   \n",
              "3            -0.000632         -0.000632                                  0.0   \n",
              "4            -0.246595         -0.246595                                  0.0   \n",
              "..                 ...               ...                                  ...   \n",
              "745          -0.604930         -0.604930                                  0.0   \n",
              "746           0.149766          0.149766                                  0.0   \n",
              "747          -0.945496         -0.945496                                  0.0   \n",
              "748           2.577128          2.577128                                  0.0   \n",
              "749          -0.415677         -0.415677                                  0.0   \n",
              "\n",
              "     pipeline-1__Rating  onehotencoder__x0_Mandalay  \\\n",
              "0             -0.231229                         0.0   \n",
              "1             -0.580752                         1.0   \n",
              "2              1.574639                         0.0   \n",
              "3              1.108609                         1.0   \n",
              "4              0.759086                         1.0   \n",
              "..                  ...                         ...   \n",
              "745            0.526071                         0.0   \n",
              "746           -0.405990                         1.0   \n",
              "747            0.001786                         0.0   \n",
              "748            1.166863                         0.0   \n",
              "749           -1.221544                         0.0   \n",
              "\n",
              "     onehotencoder__x0_Naypyitaw  onehotencoder__x0_Yangon  ...  \\\n",
              "0                            1.0                       0.0  ...   \n",
              "1                            0.0                       0.0  ...   \n",
              "2                            0.0                       1.0  ...   \n",
              "3                            0.0                       0.0  ...   \n",
              "4                            0.0                       0.0  ...   \n",
              "..                           ...                       ...  ...   \n",
              "745                          1.0                       0.0  ...   \n",
              "746                          0.0                       0.0  ...   \n",
              "747                          1.0                       0.0  ...   \n",
              "748                          1.0                       0.0  ...   \n",
              "749                          1.0                       0.0  ...   \n",
              "\n",
              "     onehotencoder__x5_20:47  onehotencoder__x5_20:48  \\\n",
              "0                        0.0                      0.0   \n",
              "1                        0.0                      0.0   \n",
              "2                        0.0                      0.0   \n",
              "3                        0.0                      0.0   \n",
              "4                        0.0                      0.0   \n",
              "..                       ...                      ...   \n",
              "745                      0.0                      0.0   \n",
              "746                      0.0                      0.0   \n",
              "747                      0.0                      0.0   \n",
              "748                      0.0                      0.0   \n",
              "749                      0.0                      0.0   \n",
              "\n",
              "     onehotencoder__x5_20:50  onehotencoder__x5_20:51  \\\n",
              "0                        0.0                      0.0   \n",
              "1                        0.0                      0.0   \n",
              "2                        0.0                      0.0   \n",
              "3                        0.0                      0.0   \n",
              "4                        0.0                      0.0   \n",
              "..                       ...                      ...   \n",
              "745                      0.0                      0.0   \n",
              "746                      0.0                      0.0   \n",
              "747                      0.0                      0.0   \n",
              "748                      0.0                      0.0   \n",
              "749                      0.0                      0.0   \n",
              "\n",
              "     onehotencoder__x5_20:54  onehotencoder__x5_20:55  \\\n",
              "0                        0.0                      0.0   \n",
              "1                        0.0                      0.0   \n",
              "2                        0.0                      0.0   \n",
              "3                        0.0                      0.0   \n",
              "4                        0.0                      0.0   \n",
              "..                       ...                      ...   \n",
              "745                      1.0                      0.0   \n",
              "746                      0.0                      0.0   \n",
              "747                      0.0                      0.0   \n",
              "748                      0.0                      0.0   \n",
              "749                      0.0                      0.0   \n",
              "\n",
              "     onehotencoder__x5_20:59  onehotencoder__x6_Cash  \\\n",
              "0                        0.0                     0.0   \n",
              "1                        0.0                     0.0   \n",
              "2                        0.0                     0.0   \n",
              "3                        0.0                     0.0   \n",
              "4                        0.0                     0.0   \n",
              "..                       ...                     ...   \n",
              "745                      0.0                     0.0   \n",
              "746                      0.0                     0.0   \n",
              "747                      0.0                     0.0   \n",
              "748                      0.0                     0.0   \n",
              "749                      0.0                     1.0   \n",
              "\n",
              "     onehotencoder__x6_Credit card  onehotencoder__x6_Ewallet  \n",
              "0                              0.0                        1.0  \n",
              "1                              0.0                        1.0  \n",
              "2                              0.0                        1.0  \n",
              "3                              1.0                        0.0  \n",
              "4                              1.0                        0.0  \n",
              "..                             ...                        ...  \n",
              "745                            1.0                        0.0  \n",
              "746                            0.0                        1.0  \n",
              "747                            0.0                        1.0  \n",
              "748                            0.0                        1.0  \n",
              "749                            0.0                        0.0  \n",
              "\n",
              "[750 rows x 560 columns]"
            ],
            "text/html": [
              "\n",
              "  <div id=\"df-b6b623f5-27d8-449a-aa3c-38354cc69b73\">\n",
              "    <div class=\"colab-df-container\">\n",
              "      <div>\n",
              "<style scoped>\n",
              "    .dataframe tbody tr th:only-of-type {\n",
              "        vertical-align: middle;\n",
              "    }\n",
              "\n",
              "    .dataframe tbody tr th {\n",
              "        vertical-align: top;\n",
              "    }\n",
              "\n",
              "    .dataframe thead th {\n",
              "        text-align: right;\n",
              "    }\n",
              "</style>\n",
              "<table border=\"1\" class=\"dataframe\">\n",
              "  <thead>\n",
              "    <tr style=\"text-align: right;\">\n",
              "      <th></th>\n",
              "      <th>pipeline-1__Unit price</th>\n",
              "      <th>pipeline-1__Quantity</th>\n",
              "      <th>pipeline-1__Tax 5%</th>\n",
              "      <th>pipeline-1__Total</th>\n",
              "      <th>pipeline-1__cogs</th>\n",
              "      <th>pipeline-1__gross margin percentage</th>\n",
              "      <th>pipeline-1__Rating</th>\n",
              "      <th>onehotencoder__x0_Mandalay</th>\n",
              "      <th>onehotencoder__x0_Naypyitaw</th>\n",
              "      <th>onehotencoder__x0_Yangon</th>\n",
              "      <th>...</th>\n",
              "      <th>onehotencoder__x5_20:47</th>\n",
              "      <th>onehotencoder__x5_20:48</th>\n",
              "      <th>onehotencoder__x5_20:50</th>\n",
              "      <th>onehotencoder__x5_20:51</th>\n",
              "      <th>onehotencoder__x5_20:54</th>\n",
              "      <th>onehotencoder__x5_20:55</th>\n",
              "      <th>onehotencoder__x5_20:59</th>\n",
              "      <th>onehotencoder__x6_Cash</th>\n",
              "      <th>onehotencoder__x6_Credit card</th>\n",
              "      <th>onehotencoder__x6_Ewallet</th>\n",
              "    </tr>\n",
              "  </thead>\n",
              "  <tbody>\n",
              "    <tr>\n",
              "      <th>0</th>\n",
              "      <td>-1.371212</td>\n",
              "      <td>0.848327</td>\n",
              "      <td>-0.649809</td>\n",
              "      <td>-0.649809</td>\n",
              "      <td>-0.649809</td>\n",
              "      <td>0.0</td>\n",
              "      <td>-0.231229</td>\n",
              "      <td>0.0</td>\n",
              "      <td>1.0</td>\n",
              "      <td>0.0</td>\n",
              "      <td>...</td>\n",
              "      <td>0.0</td>\n",
              "      <td>0.0</td>\n",
              "      <td>0.0</td>\n",
              "      <td>0.0</td>\n",
              "      <td>0.0</td>\n",
              "      <td>0.0</td>\n",
              "      <td>0.0</td>\n",
              "      <td>0.0</td>\n",
              "      <td>0.0</td>\n",
              "      <td>1.0</td>\n",
              "    </tr>\n",
              "    <tr>\n",
              "      <th>1</th>\n",
              "      <td>0.815716</td>\n",
              "      <td>1.526989</td>\n",
              "      <td>2.021988</td>\n",
              "      <td>2.021988</td>\n",
              "      <td>2.021988</td>\n",
              "      <td>0.0</td>\n",
              "      <td>-0.580752</td>\n",
              "      <td>1.0</td>\n",
              "      <td>0.0</td>\n",
              "      <td>0.0</td>\n",
              "      <td>...</td>\n",
              "      <td>0.0</td>\n",
              "      <td>0.0</td>\n",
              "      <td>0.0</td>\n",
              "      <td>0.0</td>\n",
              "      <td>0.0</td>\n",
              "      <td>0.0</td>\n",
              "      <td>0.0</td>\n",
              "      <td>0.0</td>\n",
              "      <td>0.0</td>\n",
              "      <td>1.0</td>\n",
              "    </tr>\n",
              "    <tr>\n",
              "      <th>2</th>\n",
              "      <td>0.141143</td>\n",
              "      <td>0.508996</td>\n",
              "      <td>0.478152</td>\n",
              "      <td>0.478152</td>\n",
              "      <td>0.478152</td>\n",
              "      <td>0.0</td>\n",
              "      <td>1.574639</td>\n",
              "      <td>0.0</td>\n",
              "      <td>0.0</td>\n",
              "      <td>1.0</td>\n",
              "      <td>...</td>\n",
              "      <td>0.0</td>\n",
              "      <td>0.0</td>\n",
              "      <td>0.0</td>\n",
              "      <td>0.0</td>\n",
              "      <td>0.0</td>\n",
              "      <td>0.0</td>\n",
              "      <td>0.0</td>\n",
              "      <td>0.0</td>\n",
              "      <td>0.0</td>\n",
              "      <td>1.0</td>\n",
              "    </tr>\n",
              "    <tr>\n",
              "      <th>3</th>\n",
              "      <td>-0.181462</td>\n",
              "      <td>0.169665</td>\n",
              "      <td>-0.000632</td>\n",
              "      <td>-0.000632</td>\n",
              "      <td>-0.000632</td>\n",
              "      <td>0.0</td>\n",
              "      <td>1.108609</td>\n",
              "      <td>1.0</td>\n",
              "      <td>0.0</td>\n",
              "      <td>0.0</td>\n",
              "      <td>...</td>\n",
              "      <td>0.0</td>\n",
              "      <td>0.0</td>\n",
              "      <td>0.0</td>\n",
              "      <td>0.0</td>\n",
              "      <td>0.0</td>\n",
              "      <td>0.0</td>\n",
              "      <td>0.0</td>\n",
              "      <td>0.0</td>\n",
              "      <td>1.0</td>\n",
              "      <td>0.0</td>\n",
              "    </tr>\n",
              "    <tr>\n",
              "      <th>4</th>\n",
              "      <td>-0.539531</td>\n",
              "      <td>0.169665</td>\n",
              "      <td>-0.246595</td>\n",
              "      <td>-0.246595</td>\n",
              "      <td>-0.246595</td>\n",
              "      <td>0.0</td>\n",
              "      <td>0.759086</td>\n",
              "      <td>1.0</td>\n",
              "      <td>0.0</td>\n",
              "      <td>0.0</td>\n",
              "      <td>...</td>\n",
              "      <td>0.0</td>\n",
              "      <td>0.0</td>\n",
              "      <td>0.0</td>\n",
              "      <td>0.0</td>\n",
              "      <td>0.0</td>\n",
              "      <td>0.0</td>\n",
              "      <td>0.0</td>\n",
              "      <td>0.0</td>\n",
              "      <td>1.0</td>\n",
              "      <td>0.0</td>\n",
              "    </tr>\n",
              "    <tr>\n",
              "      <th>...</th>\n",
              "      <td>...</td>\n",
              "      <td>...</td>\n",
              "      <td>...</td>\n",
              "      <td>...</td>\n",
              "      <td>...</td>\n",
              "      <td>...</td>\n",
              "      <td>...</td>\n",
              "      <td>...</td>\n",
              "      <td>...</td>\n",
              "      <td>...</td>\n",
              "      <td>...</td>\n",
              "      <td>...</td>\n",
              "      <td>...</td>\n",
              "      <td>...</td>\n",
              "      <td>...</td>\n",
              "      <td>...</td>\n",
              "      <td>...</td>\n",
              "      <td>...</td>\n",
              "      <td>...</td>\n",
              "      <td>...</td>\n",
              "      <td>...</td>\n",
              "    </tr>\n",
              "    <tr>\n",
              "      <th>745</th>\n",
              "      <td>-1.061190</td>\n",
              "      <td>0.169665</td>\n",
              "      <td>-0.604930</td>\n",
              "      <td>-0.604930</td>\n",
              "      <td>-0.604930</td>\n",
              "      <td>0.0</td>\n",
              "      <td>0.526071</td>\n",
              "      <td>0.0</td>\n",
              "      <td>1.0</td>\n",
              "      <td>0.0</td>\n",
              "      <td>...</td>\n",
              "      <td>0.0</td>\n",
              "      <td>0.0</td>\n",
              "      <td>0.0</td>\n",
              "      <td>0.0</td>\n",
              "      <td>1.0</td>\n",
              "      <td>0.0</td>\n",
              "      <td>0.0</td>\n",
              "      <td>0.0</td>\n",
              "      <td>1.0</td>\n",
              "      <td>0.0</td>\n",
              "    </tr>\n",
              "    <tr>\n",
              "      <th>746</th>\n",
              "      <td>0.466037</td>\n",
              "      <td>-0.169665</td>\n",
              "      <td>0.149766</td>\n",
              "      <td>0.149766</td>\n",
              "      <td>0.149766</td>\n",
              "      <td>0.0</td>\n",
              "      <td>-0.405990</td>\n",
              "      <td>1.0</td>\n",
              "      <td>0.0</td>\n",
              "      <td>0.0</td>\n",
              "      <td>...</td>\n",
              "      <td>0.0</td>\n",
              "      <td>0.0</td>\n",
              "      <td>0.0</td>\n",
              "      <td>0.0</td>\n",
              "      <td>0.0</td>\n",
              "      <td>0.0</td>\n",
              "      <td>0.0</td>\n",
              "      <td>0.0</td>\n",
              "      <td>0.0</td>\n",
              "      <td>1.0</td>\n",
              "    </tr>\n",
              "    <tr>\n",
              "      <th>747</th>\n",
              "      <td>1.184463</td>\n",
              "      <td>-1.526989</td>\n",
              "      <td>-0.945496</td>\n",
              "      <td>-0.945496</td>\n",
              "      <td>-0.945496</td>\n",
              "      <td>0.0</td>\n",
              "      <td>0.001786</td>\n",
              "      <td>0.0</td>\n",
              "      <td>1.0</td>\n",
              "      <td>0.0</td>\n",
              "      <td>...</td>\n",
              "      <td>0.0</td>\n",
              "      <td>0.0</td>\n",
              "      <td>0.0</td>\n",
              "      <td>0.0</td>\n",
              "      <td>0.0</td>\n",
              "      <td>0.0</td>\n",
              "      <td>0.0</td>\n",
              "      <td>0.0</td>\n",
              "      <td>0.0</td>\n",
              "      <td>1.0</td>\n",
              "    </tr>\n",
              "    <tr>\n",
              "      <th>748</th>\n",
              "      <td>1.679048</td>\n",
              "      <td>1.187658</td>\n",
              "      <td>2.577128</td>\n",
              "      <td>2.577128</td>\n",
              "      <td>2.577128</td>\n",
              "      <td>0.0</td>\n",
              "      <td>1.166863</td>\n",
              "      <td>0.0</td>\n",
              "      <td>1.0</td>\n",
              "      <td>0.0</td>\n",
              "      <td>...</td>\n",
              "      <td>0.0</td>\n",
              "      <td>0.0</td>\n",
              "      <td>0.0</td>\n",
              "      <td>0.0</td>\n",
              "      <td>0.0</td>\n",
              "      <td>0.0</td>\n",
              "      <td>0.0</td>\n",
              "      <td>0.0</td>\n",
              "      <td>0.0</td>\n",
              "      <td>1.0</td>\n",
              "    </tr>\n",
              "    <tr>\n",
              "      <th>749</th>\n",
              "      <td>-1.225544</td>\n",
              "      <td>1.187658</td>\n",
              "      <td>-0.415677</td>\n",
              "      <td>-0.415677</td>\n",
              "      <td>-0.415677</td>\n",
              "      <td>0.0</td>\n",
              "      <td>-1.221544</td>\n",
              "      <td>0.0</td>\n",
              "      <td>1.0</td>\n",
              "      <td>0.0</td>\n",
              "      <td>...</td>\n",
              "      <td>0.0</td>\n",
              "      <td>0.0</td>\n",
              "      <td>0.0</td>\n",
              "      <td>0.0</td>\n",
              "      <td>0.0</td>\n",
              "      <td>0.0</td>\n",
              "      <td>0.0</td>\n",
              "      <td>1.0</td>\n",
              "      <td>0.0</td>\n",
              "      <td>0.0</td>\n",
              "    </tr>\n",
              "  </tbody>\n",
              "</table>\n",
              "<p>750 rows × 560 columns</p>\n",
              "</div>\n",
              "      <button class=\"colab-df-convert\" onclick=\"convertToInteractive('df-b6b623f5-27d8-449a-aa3c-38354cc69b73')\"\n",
              "              title=\"Convert this dataframe to an interactive table.\"\n",
              "              style=\"display:none;\">\n",
              "        \n",
              "  <svg xmlns=\"http://www.w3.org/2000/svg\" height=\"24px\"viewBox=\"0 0 24 24\"\n",
              "       width=\"24px\">\n",
              "    <path d=\"M0 0h24v24H0V0z\" fill=\"none\"/>\n",
              "    <path d=\"M18.56 5.44l.94 2.06.94-2.06 2.06-.94-2.06-.94-.94-2.06-.94 2.06-2.06.94zm-11 1L8.5 8.5l.94-2.06 2.06-.94-2.06-.94L8.5 2.5l-.94 2.06-2.06.94zm10 10l.94 2.06.94-2.06 2.06-.94-2.06-.94-.94-2.06-.94 2.06-2.06.94z\"/><path d=\"M17.41 7.96l-1.37-1.37c-.4-.4-.92-.59-1.43-.59-.52 0-1.04.2-1.43.59L10.3 9.45l-7.72 7.72c-.78.78-.78 2.05 0 2.83L4 21.41c.39.39.9.59 1.41.59.51 0 1.02-.2 1.41-.59l7.78-7.78 2.81-2.81c.8-.78.8-2.07 0-2.86zM5.41 20L4 18.59l7.72-7.72 1.47 1.35L5.41 20z\"/>\n",
              "  </svg>\n",
              "      </button>\n",
              "      \n",
              "  <style>\n",
              "    .colab-df-container {\n",
              "      display:flex;\n",
              "      flex-wrap:wrap;\n",
              "      gap: 12px;\n",
              "    }\n",
              "\n",
              "    .colab-df-convert {\n",
              "      background-color: #E8F0FE;\n",
              "      border: none;\n",
              "      border-radius: 50%;\n",
              "      cursor: pointer;\n",
              "      display: none;\n",
              "      fill: #1967D2;\n",
              "      height: 32px;\n",
              "      padding: 0 0 0 0;\n",
              "      width: 32px;\n",
              "    }\n",
              "\n",
              "    .colab-df-convert:hover {\n",
              "      background-color: #E2EBFA;\n",
              "      box-shadow: 0px 1px 2px rgba(60, 64, 67, 0.3), 0px 1px 3px 1px rgba(60, 64, 67, 0.15);\n",
              "      fill: #174EA6;\n",
              "    }\n",
              "\n",
              "    [theme=dark] .colab-df-convert {\n",
              "      background-color: #3B4455;\n",
              "      fill: #D2E3FC;\n",
              "    }\n",
              "\n",
              "    [theme=dark] .colab-df-convert:hover {\n",
              "      background-color: #434B5C;\n",
              "      box-shadow: 0px 1px 3px 1px rgba(0, 0, 0, 0.15);\n",
              "      filter: drop-shadow(0px 1px 2px rgba(0, 0, 0, 0.3));\n",
              "      fill: #FFFFFF;\n",
              "    }\n",
              "  </style>\n",
              "\n",
              "      <script>\n",
              "        const buttonEl =\n",
              "          document.querySelector('#df-b6b623f5-27d8-449a-aa3c-38354cc69b73 button.colab-df-convert');\n",
              "        buttonEl.style.display =\n",
              "          google.colab.kernel.accessAllowed ? 'block' : 'none';\n",
              "\n",
              "        async function convertToInteractive(key) {\n",
              "          const element = document.querySelector('#df-b6b623f5-27d8-449a-aa3c-38354cc69b73');\n",
              "          const dataTable =\n",
              "            await google.colab.kernel.invokeFunction('convertToInteractive',\n",
              "                                                     [key], {});\n",
              "          if (!dataTable) return;\n",
              "\n",
              "          const docLinkHtml = 'Like what you see? Visit the ' +\n",
              "            '<a target=\"_blank\" href=https://colab.research.google.com/notebooks/data_table.ipynb>data table notebook</a>'\n",
              "            + ' to learn more about interactive tables.';\n",
              "          element.innerHTML = '';\n",
              "          dataTable['output_type'] = 'display_data';\n",
              "          await google.colab.output.renderOutput(dataTable, element);\n",
              "          const docLink = document.createElement('div');\n",
              "          docLink.innerHTML = docLinkHtml;\n",
              "          element.appendChild(docLink);\n",
              "        }\n",
              "      </script>\n",
              "    </div>\n",
              "  </div>\n",
              "  "
            ]
          },
          "metadata": {},
          "execution_count": 171
        }
      ]
    },
    {
      "cell_type": "markdown",
      "source": [
        "# **1.Clasificador del árbol de decisión**"
      ],
      "metadata": {
        "id": "KPhZcX3o4v0E"
      }
    },
    {
      "cell_type": "code",
      "source": [
        "rf = RandomForestClassifier(random_state = 42)"
      ],
      "metadata": {
        "id": "l7kfABD5qP47"
      },
      "execution_count": 172,
      "outputs": []
    },
    {
      "cell_type": "code",
      "source": [
        "# Paso 1: importar el modelo que quieran usar. OK\n",
        "# Paso 2: hacer una instancia del modelo\n",
        "dec_tree = DecisionTreeClassifier(random_state = 42, max_depth=2)"
      ],
      "metadata": {
        "id": "etyuE2O34xQA"
      },
      "execution_count": 173,
      "outputs": []
    },
    {
      "cell_type": "code",
      "source": [
        "# Paso 3: entrenar el modelo en los datos, almacenando la información aprendida de los datos.\n",
        "dec_tree.fit(X_train_processed, y_train)"
      ],
      "metadata": {
        "colab": {
          "base_uri": "https://localhost:8080/",
          "height": 75
        },
        "id": "Qnwq4-Ug42Ph",
        "outputId": "7cbb355a-df52-4806-fe0c-3af0a4d63092"
      },
      "execution_count": 174,
      "outputs": [
        {
          "output_type": "execute_result",
          "data": {
            "text/plain": [
              "DecisionTreeClassifier(max_depth=2, random_state=42)"
            ],
            "text/html": [
              "<style>#sk-b49d59a8-e3a9-4387-8948-f8dfc6310ecb {color: black;background-color: white;}#sk-b49d59a8-e3a9-4387-8948-f8dfc6310ecb pre{padding: 0;}#sk-b49d59a8-e3a9-4387-8948-f8dfc6310ecb div.sk-toggleable {background-color: white;}#sk-b49d59a8-e3a9-4387-8948-f8dfc6310ecb label.sk-toggleable__label {cursor: pointer;display: block;width: 100%;margin-bottom: 0;padding: 0.3em;box-sizing: border-box;text-align: center;}#sk-b49d59a8-e3a9-4387-8948-f8dfc6310ecb label.sk-toggleable__label-arrow:before {content: \"▸\";float: left;margin-right: 0.25em;color: #696969;}#sk-b49d59a8-e3a9-4387-8948-f8dfc6310ecb label.sk-toggleable__label-arrow:hover:before {color: black;}#sk-b49d59a8-e3a9-4387-8948-f8dfc6310ecb div.sk-estimator:hover label.sk-toggleable__label-arrow:before {color: black;}#sk-b49d59a8-e3a9-4387-8948-f8dfc6310ecb div.sk-toggleable__content {max-height: 0;max-width: 0;overflow: hidden;text-align: left;background-color: #f0f8ff;}#sk-b49d59a8-e3a9-4387-8948-f8dfc6310ecb div.sk-toggleable__content pre {margin: 0.2em;color: black;border-radius: 0.25em;background-color: #f0f8ff;}#sk-b49d59a8-e3a9-4387-8948-f8dfc6310ecb input.sk-toggleable__control:checked~div.sk-toggleable__content {max-height: 200px;max-width: 100%;overflow: auto;}#sk-b49d59a8-e3a9-4387-8948-f8dfc6310ecb input.sk-toggleable__control:checked~label.sk-toggleable__label-arrow:before {content: \"▾\";}#sk-b49d59a8-e3a9-4387-8948-f8dfc6310ecb div.sk-estimator input.sk-toggleable__control:checked~label.sk-toggleable__label {background-color: #d4ebff;}#sk-b49d59a8-e3a9-4387-8948-f8dfc6310ecb div.sk-label input.sk-toggleable__control:checked~label.sk-toggleable__label {background-color: #d4ebff;}#sk-b49d59a8-e3a9-4387-8948-f8dfc6310ecb input.sk-hidden--visually {border: 0;clip: rect(1px 1px 1px 1px);clip: rect(1px, 1px, 1px, 1px);height: 1px;margin: -1px;overflow: hidden;padding: 0;position: absolute;width: 1px;}#sk-b49d59a8-e3a9-4387-8948-f8dfc6310ecb div.sk-estimator {font-family: monospace;background-color: #f0f8ff;border: 1px dotted black;border-radius: 0.25em;box-sizing: border-box;margin-bottom: 0.5em;}#sk-b49d59a8-e3a9-4387-8948-f8dfc6310ecb div.sk-estimator:hover {background-color: #d4ebff;}#sk-b49d59a8-e3a9-4387-8948-f8dfc6310ecb div.sk-parallel-item::after {content: \"\";width: 100%;border-bottom: 1px solid gray;flex-grow: 1;}#sk-b49d59a8-e3a9-4387-8948-f8dfc6310ecb div.sk-label:hover label.sk-toggleable__label {background-color: #d4ebff;}#sk-b49d59a8-e3a9-4387-8948-f8dfc6310ecb div.sk-serial::before {content: \"\";position: absolute;border-left: 1px solid gray;box-sizing: border-box;top: 2em;bottom: 0;left: 50%;}#sk-b49d59a8-e3a9-4387-8948-f8dfc6310ecb div.sk-serial {display: flex;flex-direction: column;align-items: center;background-color: white;padding-right: 0.2em;padding-left: 0.2em;}#sk-b49d59a8-e3a9-4387-8948-f8dfc6310ecb div.sk-item {z-index: 1;}#sk-b49d59a8-e3a9-4387-8948-f8dfc6310ecb div.sk-parallel {display: flex;align-items: stretch;justify-content: center;background-color: white;}#sk-b49d59a8-e3a9-4387-8948-f8dfc6310ecb div.sk-parallel::before {content: \"\";position: absolute;border-left: 1px solid gray;box-sizing: border-box;top: 2em;bottom: 0;left: 50%;}#sk-b49d59a8-e3a9-4387-8948-f8dfc6310ecb div.sk-parallel-item {display: flex;flex-direction: column;position: relative;background-color: white;}#sk-b49d59a8-e3a9-4387-8948-f8dfc6310ecb div.sk-parallel-item:first-child::after {align-self: flex-end;width: 50%;}#sk-b49d59a8-e3a9-4387-8948-f8dfc6310ecb div.sk-parallel-item:last-child::after {align-self: flex-start;width: 50%;}#sk-b49d59a8-e3a9-4387-8948-f8dfc6310ecb div.sk-parallel-item:only-child::after {width: 0;}#sk-b49d59a8-e3a9-4387-8948-f8dfc6310ecb div.sk-dashed-wrapped {border: 1px dashed gray;margin: 0 0.4em 0.5em 0.4em;box-sizing: border-box;padding-bottom: 0.4em;background-color: white;position: relative;}#sk-b49d59a8-e3a9-4387-8948-f8dfc6310ecb div.sk-label label {font-family: monospace;font-weight: bold;background-color: white;display: inline-block;line-height: 1.2em;}#sk-b49d59a8-e3a9-4387-8948-f8dfc6310ecb div.sk-label-container {position: relative;z-index: 2;text-align: center;}#sk-b49d59a8-e3a9-4387-8948-f8dfc6310ecb div.sk-container {/* jupyter's `normalize.less` sets `[hidden] { display: none; }` but bootstrap.min.css set `[hidden] { display: none !important; }` so we also need the `!important` here to be able to override the default hidden behavior on the sphinx rendered scikit-learn.org. See: https://github.com/scikit-learn/scikit-learn/issues/21755 */display: inline-block !important;position: relative;}#sk-b49d59a8-e3a9-4387-8948-f8dfc6310ecb div.sk-text-repr-fallback {display: none;}</style><div id=\"sk-b49d59a8-e3a9-4387-8948-f8dfc6310ecb\" class=\"sk-top-container\"><div class=\"sk-text-repr-fallback\"><pre>DecisionTreeClassifier(max_depth=2, random_state=42)</pre><b>Please rerun this cell to show the HTML repr or trust the notebook.</b></div><div class=\"sk-container\" hidden><div class=\"sk-item\"><div class=\"sk-estimator sk-toggleable\"><input class=\"sk-toggleable__control sk-hidden--visually\" id=\"04f14e05-ac59-4b12-ad32-40e32bd3a770\" type=\"checkbox\" checked><label for=\"04f14e05-ac59-4b12-ad32-40e32bd3a770\" class=\"sk-toggleable__label sk-toggleable__label-arrow\">DecisionTreeClassifier</label><div class=\"sk-toggleable__content\"><pre>DecisionTreeClassifier(max_depth=2, random_state=42)</pre></div></div></div></div></div>"
            ]
          },
          "metadata": {},
          "execution_count": 174
        }
      ]
    },
    {
      "cell_type": "code",
      "source": [
        "# Paso 4: predecir las etiquetas de los datos nuevos (nuevas flores)\n",
        "dec_tree.predict(X_test_processed)"
      ],
      "metadata": {
        "colab": {
          "base_uri": "https://localhost:8080/"
        },
        "id": "8bzWz9sj5A0w",
        "outputId": "50afe795-e995-4b7f-8939-759fa0f7bc99"
      },
      "execution_count": 175,
      "outputs": [
        {
          "output_type": "execute_result",
          "data": {
            "text/plain": [
              "array(['C', 'C', 'C', 'B', 'B', 'C', 'A', 'A', 'A', 'A', 'A', 'C', 'A',\n",
              "       'A', 'A', 'A', 'A', 'A', 'B', 'C', 'A', 'B', 'B', 'B', 'A', 'A',\n",
              "       'C', 'B', 'A', 'B', 'A', 'A', 'A', 'A', 'B', 'C', 'A', 'B', 'B',\n",
              "       'C', 'B', 'B', 'A', 'C', 'C', 'C', 'C', 'C', 'C', 'B', 'B', 'B',\n",
              "       'C', 'A', 'A', 'B', 'C', 'B', 'B', 'B', 'C', 'B', 'B', 'B', 'C',\n",
              "       'A', 'B', 'B', 'C', 'C', 'A', 'C', 'C', 'C', 'A', 'A', 'A', 'B',\n",
              "       'A', 'A', 'A', 'C', 'B', 'B', 'C', 'B', 'A', 'C', 'B', 'C', 'B',\n",
              "       'B', 'A', 'B', 'C', 'C', 'A', 'A', 'A', 'B', 'A', 'A', 'C', 'A',\n",
              "       'B', 'C', 'A', 'A', 'A', 'A', 'B', 'A', 'B', 'C', 'C', 'A', 'A',\n",
              "       'B', 'A', 'B', 'C', 'B', 'C', 'A', 'C', 'A', 'B', 'B', 'C', 'B',\n",
              "       'A', 'A', 'A', 'C', 'A', 'C', 'A', 'A', 'A', 'B', 'C', 'A', 'C',\n",
              "       'C', 'B', 'A', 'B', 'B', 'C', 'C', 'C', 'B', 'B', 'A', 'C', 'C',\n",
              "       'A', 'B', 'C', 'A', 'B', 'B', 'C', 'B', 'C', 'C', 'A', 'A', 'C',\n",
              "       'B', 'C', 'A', 'B', 'B', 'B', 'A', 'A', 'C', 'C', 'A', 'B', 'A',\n",
              "       'C', 'B', 'A', 'A', 'B', 'C', 'A', 'C', 'C', 'A', 'C', 'C', 'B',\n",
              "       'A', 'A', 'B', 'C', 'C', 'A', 'C', 'A', 'C', 'A', 'A', 'B', 'B',\n",
              "       'B', 'B', 'A', 'C', 'B', 'A', 'A', 'A', 'C', 'B', 'B', 'C', 'A',\n",
              "       'B', 'B', 'C', 'C', 'A', 'B', 'C', 'C', 'B', 'A', 'C', 'C', 'B',\n",
              "       'A', 'B', 'B', 'C', 'C', 'A', 'A', 'B', 'C', 'C', 'A', 'C', 'B',\n",
              "       'A', 'C', 'C'], dtype=object)"
            ]
          },
          "metadata": {},
          "execution_count": 175
        }
      ]
    },
    {
      "cell_type": "code",
      "source": [
        "# Paso 5: evaluar el rendimiento del modelo\n",
        "# calculen la exactitud de la clasificación\n",
        "train_score = dec_tree.score(X_train_processed, y_train)\n",
        "test_score = dec_tree.score(X_test_processed, y_test)\n",
        "print(train_score)\n",
        "print(test_score)"
      ],
      "metadata": {
        "colab": {
          "base_uri": "https://localhost:8080/"
        },
        "id": "rchiQYob5FrH",
        "outputId": "9bb6b84d-309c-44a3-c05c-3a33cac83b6c"
      },
      "execution_count": 176,
      "outputs": [
        {
          "output_type": "stream",
          "name": "stdout",
          "text": [
            "1.0\n",
            "1.0\n"
          ]
        }
      ]
    },
    {
      "cell_type": "markdown",
      "source": [
        "# **2) clasificador bagging**"
      ],
      "metadata": {
        "id": "J0QxEUZ75Mzo"
      }
    },
    {
      "cell_type": "code",
      "source": [
        "# Paso 2: hacer una instancia del modelo\n",
        "bagclas = BaggingClassifier(random_state = 42)"
      ],
      "metadata": {
        "id": "-1nryeO05PJW"
      },
      "execution_count": 177,
      "outputs": []
    },
    {
      "cell_type": "code",
      "source": [
        "# Mirar los hiperparámetros\n",
        "bagclas.get_params()"
      ],
      "metadata": {
        "colab": {
          "base_uri": "https://localhost:8080/"
        },
        "id": "Kdq6VLq95RRI",
        "outputId": "93763a2f-da24-4c59-dd1f-a95ac6cf3261"
      },
      "execution_count": 178,
      "outputs": [
        {
          "output_type": "execute_result",
          "data": {
            "text/plain": [
              "{'base_estimator': None,\n",
              " 'bootstrap': True,\n",
              " 'bootstrap_features': False,\n",
              " 'max_features': 1.0,\n",
              " 'max_samples': 1.0,\n",
              " 'n_estimators': 10,\n",
              " 'n_jobs': None,\n",
              " 'oob_score': False,\n",
              " 'random_state': 42,\n",
              " 'verbose': 0,\n",
              " 'warm_start': False}"
            ]
          },
          "metadata": {},
          "execution_count": 178
        }
      ]
    },
    {
      "cell_type": "code",
      "source": [
        "# Paso 3: entrenar el modelo en los datos, almacenando la información aprendida de los datos.\n",
        "bagclas.fit(X_train_processed, y_train)"
      ],
      "metadata": {
        "colab": {
          "base_uri": "https://localhost:8080/",
          "height": 75
        },
        "id": "plm9VL3Q5TI1",
        "outputId": "1655af54-5a97-4ed9-e44d-2a6b949ab15b"
      },
      "execution_count": 179,
      "outputs": [
        {
          "output_type": "execute_result",
          "data": {
            "text/plain": [
              "BaggingClassifier(random_state=42)"
            ],
            "text/html": [
              "<style>#sk-ad7886ca-e5dd-4cbf-97cc-c1b8a0b507ca {color: black;background-color: white;}#sk-ad7886ca-e5dd-4cbf-97cc-c1b8a0b507ca pre{padding: 0;}#sk-ad7886ca-e5dd-4cbf-97cc-c1b8a0b507ca div.sk-toggleable {background-color: white;}#sk-ad7886ca-e5dd-4cbf-97cc-c1b8a0b507ca label.sk-toggleable__label {cursor: pointer;display: block;width: 100%;margin-bottom: 0;padding: 0.3em;box-sizing: border-box;text-align: center;}#sk-ad7886ca-e5dd-4cbf-97cc-c1b8a0b507ca label.sk-toggleable__label-arrow:before {content: \"▸\";float: left;margin-right: 0.25em;color: #696969;}#sk-ad7886ca-e5dd-4cbf-97cc-c1b8a0b507ca label.sk-toggleable__label-arrow:hover:before {color: black;}#sk-ad7886ca-e5dd-4cbf-97cc-c1b8a0b507ca div.sk-estimator:hover label.sk-toggleable__label-arrow:before {color: black;}#sk-ad7886ca-e5dd-4cbf-97cc-c1b8a0b507ca div.sk-toggleable__content {max-height: 0;max-width: 0;overflow: hidden;text-align: left;background-color: #f0f8ff;}#sk-ad7886ca-e5dd-4cbf-97cc-c1b8a0b507ca div.sk-toggleable__content pre {margin: 0.2em;color: black;border-radius: 0.25em;background-color: #f0f8ff;}#sk-ad7886ca-e5dd-4cbf-97cc-c1b8a0b507ca input.sk-toggleable__control:checked~div.sk-toggleable__content {max-height: 200px;max-width: 100%;overflow: auto;}#sk-ad7886ca-e5dd-4cbf-97cc-c1b8a0b507ca input.sk-toggleable__control:checked~label.sk-toggleable__label-arrow:before {content: \"▾\";}#sk-ad7886ca-e5dd-4cbf-97cc-c1b8a0b507ca div.sk-estimator input.sk-toggleable__control:checked~label.sk-toggleable__label {background-color: #d4ebff;}#sk-ad7886ca-e5dd-4cbf-97cc-c1b8a0b507ca div.sk-label input.sk-toggleable__control:checked~label.sk-toggleable__label {background-color: #d4ebff;}#sk-ad7886ca-e5dd-4cbf-97cc-c1b8a0b507ca input.sk-hidden--visually {border: 0;clip: rect(1px 1px 1px 1px);clip: rect(1px, 1px, 1px, 1px);height: 1px;margin: -1px;overflow: hidden;padding: 0;position: absolute;width: 1px;}#sk-ad7886ca-e5dd-4cbf-97cc-c1b8a0b507ca div.sk-estimator {font-family: monospace;background-color: #f0f8ff;border: 1px dotted black;border-radius: 0.25em;box-sizing: border-box;margin-bottom: 0.5em;}#sk-ad7886ca-e5dd-4cbf-97cc-c1b8a0b507ca div.sk-estimator:hover {background-color: #d4ebff;}#sk-ad7886ca-e5dd-4cbf-97cc-c1b8a0b507ca div.sk-parallel-item::after {content: \"\";width: 100%;border-bottom: 1px solid gray;flex-grow: 1;}#sk-ad7886ca-e5dd-4cbf-97cc-c1b8a0b507ca div.sk-label:hover label.sk-toggleable__label {background-color: #d4ebff;}#sk-ad7886ca-e5dd-4cbf-97cc-c1b8a0b507ca div.sk-serial::before {content: \"\";position: absolute;border-left: 1px solid gray;box-sizing: border-box;top: 2em;bottom: 0;left: 50%;}#sk-ad7886ca-e5dd-4cbf-97cc-c1b8a0b507ca div.sk-serial {display: flex;flex-direction: column;align-items: center;background-color: white;padding-right: 0.2em;padding-left: 0.2em;}#sk-ad7886ca-e5dd-4cbf-97cc-c1b8a0b507ca div.sk-item {z-index: 1;}#sk-ad7886ca-e5dd-4cbf-97cc-c1b8a0b507ca div.sk-parallel {display: flex;align-items: stretch;justify-content: center;background-color: white;}#sk-ad7886ca-e5dd-4cbf-97cc-c1b8a0b507ca div.sk-parallel::before {content: \"\";position: absolute;border-left: 1px solid gray;box-sizing: border-box;top: 2em;bottom: 0;left: 50%;}#sk-ad7886ca-e5dd-4cbf-97cc-c1b8a0b507ca div.sk-parallel-item {display: flex;flex-direction: column;position: relative;background-color: white;}#sk-ad7886ca-e5dd-4cbf-97cc-c1b8a0b507ca div.sk-parallel-item:first-child::after {align-self: flex-end;width: 50%;}#sk-ad7886ca-e5dd-4cbf-97cc-c1b8a0b507ca div.sk-parallel-item:last-child::after {align-self: flex-start;width: 50%;}#sk-ad7886ca-e5dd-4cbf-97cc-c1b8a0b507ca div.sk-parallel-item:only-child::after {width: 0;}#sk-ad7886ca-e5dd-4cbf-97cc-c1b8a0b507ca div.sk-dashed-wrapped {border: 1px dashed gray;margin: 0 0.4em 0.5em 0.4em;box-sizing: border-box;padding-bottom: 0.4em;background-color: white;position: relative;}#sk-ad7886ca-e5dd-4cbf-97cc-c1b8a0b507ca div.sk-label label {font-family: monospace;font-weight: bold;background-color: white;display: inline-block;line-height: 1.2em;}#sk-ad7886ca-e5dd-4cbf-97cc-c1b8a0b507ca div.sk-label-container {position: relative;z-index: 2;text-align: center;}#sk-ad7886ca-e5dd-4cbf-97cc-c1b8a0b507ca div.sk-container {/* jupyter's `normalize.less` sets `[hidden] { display: none; }` but bootstrap.min.css set `[hidden] { display: none !important; }` so we also need the `!important` here to be able to override the default hidden behavior on the sphinx rendered scikit-learn.org. See: https://github.com/scikit-learn/scikit-learn/issues/21755 */display: inline-block !important;position: relative;}#sk-ad7886ca-e5dd-4cbf-97cc-c1b8a0b507ca div.sk-text-repr-fallback {display: none;}</style><div id=\"sk-ad7886ca-e5dd-4cbf-97cc-c1b8a0b507ca\" class=\"sk-top-container\"><div class=\"sk-text-repr-fallback\"><pre>BaggingClassifier(random_state=42)</pre><b>Please rerun this cell to show the HTML repr or trust the notebook.</b></div><div class=\"sk-container\" hidden><div class=\"sk-item\"><div class=\"sk-estimator sk-toggleable\"><input class=\"sk-toggleable__control sk-hidden--visually\" id=\"3ca2bc2a-080b-4132-98fa-59629c84bdeb\" type=\"checkbox\" checked><label for=\"3ca2bc2a-080b-4132-98fa-59629c84bdeb\" class=\"sk-toggleable__label sk-toggleable__label-arrow\">BaggingClassifier</label><div class=\"sk-toggleable__content\"><pre>BaggingClassifier(random_state=42)</pre></div></div></div></div></div>"
            ]
          },
          "metadata": {},
          "execution_count": 179
        }
      ]
    },
    {
      "cell_type": "code",
      "source": [
        "# Paso 4: predecir los valores para y (este paso permite ver las predicciones reales, pero no es necesario para evaluar o afinar el modelo).\n",
        "bagclas.predict(X_test_processed)"
      ],
      "metadata": {
        "colab": {
          "base_uri": "https://localhost:8080/"
        },
        "id": "HZm6uEcw5Yj_",
        "outputId": "ffe0f2ed-01f2-432f-c6ab-8511785bf096"
      },
      "execution_count": 180,
      "outputs": [
        {
          "output_type": "execute_result",
          "data": {
            "text/plain": [
              "array(['C', 'C', 'C', 'B', 'B', 'C', 'A', 'A', 'A', 'A', 'A', 'C', 'A',\n",
              "       'A', 'A', 'A', 'A', 'A', 'B', 'C', 'A', 'B', 'B', 'B', 'A', 'A',\n",
              "       'C', 'B', 'A', 'B', 'A', 'A', 'A', 'A', 'B', 'C', 'A', 'B', 'B',\n",
              "       'C', 'B', 'B', 'A', 'C', 'C', 'C', 'C', 'C', 'C', 'B', 'B', 'B',\n",
              "       'C', 'A', 'A', 'B', 'C', 'B', 'B', 'B', 'C', 'B', 'B', 'B', 'C',\n",
              "       'A', 'B', 'B', 'C', 'C', 'A', 'C', 'C', 'C', 'A', 'A', 'A', 'B',\n",
              "       'A', 'A', 'A', 'C', 'B', 'B', 'C', 'B', 'A', 'C', 'B', 'C', 'B',\n",
              "       'B', 'A', 'B', 'C', 'C', 'A', 'A', 'A', 'B', 'A', 'A', 'C', 'A',\n",
              "       'B', 'C', 'A', 'A', 'A', 'A', 'B', 'A', 'B', 'C', 'C', 'A', 'A',\n",
              "       'B', 'A', 'B', 'C', 'B', 'C', 'A', 'C', 'A', 'B', 'B', 'C', 'B',\n",
              "       'A', 'A', 'A', 'C', 'A', 'C', 'A', 'A', 'A', 'B', 'C', 'A', 'C',\n",
              "       'C', 'B', 'A', 'B', 'B', 'C', 'C', 'C', 'B', 'B', 'A', 'C', 'C',\n",
              "       'A', 'B', 'C', 'A', 'B', 'B', 'C', 'B', 'C', 'C', 'A', 'A', 'C',\n",
              "       'B', 'C', 'A', 'B', 'B', 'B', 'A', 'A', 'C', 'C', 'A', 'B', 'A',\n",
              "       'C', 'B', 'A', 'A', 'B', 'C', 'A', 'C', 'C', 'A', 'C', 'C', 'B',\n",
              "       'A', 'A', 'B', 'C', 'C', 'A', 'C', 'A', 'C', 'A', 'A', 'B', 'B',\n",
              "       'B', 'B', 'A', 'C', 'B', 'A', 'A', 'A', 'C', 'B', 'B', 'C', 'A',\n",
              "       'B', 'B', 'C', 'C', 'A', 'B', 'C', 'C', 'B', 'A', 'C', 'C', 'B',\n",
              "       'A', 'B', 'B', 'C', 'C', 'A', 'A', 'B', 'C', 'C', 'A', 'C', 'B',\n",
              "       'A', 'C', 'C'], dtype=object)"
            ]
          },
          "metadata": {},
          "execution_count": 180
        }
      ]
    },
    {
      "cell_type": "code",
      "source": [
        "bagclas_train_score = bagclas.score(X_train_processed, y_train)\n",
        "bagclas_test_score = bagclas.score(X_test_processed, y_test)\n",
        "print(bagclas_train_score)\n",
        "print(bagclas_test_score) "
      ],
      "metadata": {
        "colab": {
          "base_uri": "https://localhost:8080/"
        },
        "id": "AhpSIgc75crS",
        "outputId": "05929290-1ad1-467c-fb54-7c53496cefed"
      },
      "execution_count": 181,
      "outputs": [
        {
          "output_type": "stream",
          "name": "stdout",
          "text": [
            "1.0\n",
            "1.0\n"
          ]
        }
      ]
    },
    {
      "cell_type": "markdown",
      "source": [
        "# **3) clasificador de bosque aleatorio**"
      ],
      "metadata": {
        "id": "bxklTbd_5iS5"
      }
    },
    {
      "cell_type": "code",
      "source": [
        "rf.fit(X_train_processed, y_train)"
      ],
      "metadata": {
        "colab": {
          "base_uri": "https://localhost:8080/",
          "height": 75
        },
        "id": "W-YQbOejqa4V",
        "outputId": "3a1945af-d82d-46a2-a044-cd5d9f3b5985"
      },
      "execution_count": 182,
      "outputs": [
        {
          "output_type": "execute_result",
          "data": {
            "text/plain": [
              "RandomForestClassifier(random_state=42)"
            ],
            "text/html": [
              "<style>#sk-38cb33dd-547a-4fd7-a970-84e0ac7ee4ed {color: black;background-color: white;}#sk-38cb33dd-547a-4fd7-a970-84e0ac7ee4ed pre{padding: 0;}#sk-38cb33dd-547a-4fd7-a970-84e0ac7ee4ed div.sk-toggleable {background-color: white;}#sk-38cb33dd-547a-4fd7-a970-84e0ac7ee4ed label.sk-toggleable__label {cursor: pointer;display: block;width: 100%;margin-bottom: 0;padding: 0.3em;box-sizing: border-box;text-align: center;}#sk-38cb33dd-547a-4fd7-a970-84e0ac7ee4ed label.sk-toggleable__label-arrow:before {content: \"▸\";float: left;margin-right: 0.25em;color: #696969;}#sk-38cb33dd-547a-4fd7-a970-84e0ac7ee4ed label.sk-toggleable__label-arrow:hover:before {color: black;}#sk-38cb33dd-547a-4fd7-a970-84e0ac7ee4ed div.sk-estimator:hover label.sk-toggleable__label-arrow:before {color: black;}#sk-38cb33dd-547a-4fd7-a970-84e0ac7ee4ed div.sk-toggleable__content {max-height: 0;max-width: 0;overflow: hidden;text-align: left;background-color: #f0f8ff;}#sk-38cb33dd-547a-4fd7-a970-84e0ac7ee4ed div.sk-toggleable__content pre {margin: 0.2em;color: black;border-radius: 0.25em;background-color: #f0f8ff;}#sk-38cb33dd-547a-4fd7-a970-84e0ac7ee4ed input.sk-toggleable__control:checked~div.sk-toggleable__content {max-height: 200px;max-width: 100%;overflow: auto;}#sk-38cb33dd-547a-4fd7-a970-84e0ac7ee4ed input.sk-toggleable__control:checked~label.sk-toggleable__label-arrow:before {content: \"▾\";}#sk-38cb33dd-547a-4fd7-a970-84e0ac7ee4ed div.sk-estimator input.sk-toggleable__control:checked~label.sk-toggleable__label {background-color: #d4ebff;}#sk-38cb33dd-547a-4fd7-a970-84e0ac7ee4ed div.sk-label input.sk-toggleable__control:checked~label.sk-toggleable__label {background-color: #d4ebff;}#sk-38cb33dd-547a-4fd7-a970-84e0ac7ee4ed input.sk-hidden--visually {border: 0;clip: rect(1px 1px 1px 1px);clip: rect(1px, 1px, 1px, 1px);height: 1px;margin: -1px;overflow: hidden;padding: 0;position: absolute;width: 1px;}#sk-38cb33dd-547a-4fd7-a970-84e0ac7ee4ed div.sk-estimator {font-family: monospace;background-color: #f0f8ff;border: 1px dotted black;border-radius: 0.25em;box-sizing: border-box;margin-bottom: 0.5em;}#sk-38cb33dd-547a-4fd7-a970-84e0ac7ee4ed div.sk-estimator:hover {background-color: #d4ebff;}#sk-38cb33dd-547a-4fd7-a970-84e0ac7ee4ed div.sk-parallel-item::after {content: \"\";width: 100%;border-bottom: 1px solid gray;flex-grow: 1;}#sk-38cb33dd-547a-4fd7-a970-84e0ac7ee4ed div.sk-label:hover label.sk-toggleable__label {background-color: #d4ebff;}#sk-38cb33dd-547a-4fd7-a970-84e0ac7ee4ed div.sk-serial::before {content: \"\";position: absolute;border-left: 1px solid gray;box-sizing: border-box;top: 2em;bottom: 0;left: 50%;}#sk-38cb33dd-547a-4fd7-a970-84e0ac7ee4ed div.sk-serial {display: flex;flex-direction: column;align-items: center;background-color: white;padding-right: 0.2em;padding-left: 0.2em;}#sk-38cb33dd-547a-4fd7-a970-84e0ac7ee4ed div.sk-item {z-index: 1;}#sk-38cb33dd-547a-4fd7-a970-84e0ac7ee4ed div.sk-parallel {display: flex;align-items: stretch;justify-content: center;background-color: white;}#sk-38cb33dd-547a-4fd7-a970-84e0ac7ee4ed div.sk-parallel::before {content: \"\";position: absolute;border-left: 1px solid gray;box-sizing: border-box;top: 2em;bottom: 0;left: 50%;}#sk-38cb33dd-547a-4fd7-a970-84e0ac7ee4ed div.sk-parallel-item {display: flex;flex-direction: column;position: relative;background-color: white;}#sk-38cb33dd-547a-4fd7-a970-84e0ac7ee4ed div.sk-parallel-item:first-child::after {align-self: flex-end;width: 50%;}#sk-38cb33dd-547a-4fd7-a970-84e0ac7ee4ed div.sk-parallel-item:last-child::after {align-self: flex-start;width: 50%;}#sk-38cb33dd-547a-4fd7-a970-84e0ac7ee4ed div.sk-parallel-item:only-child::after {width: 0;}#sk-38cb33dd-547a-4fd7-a970-84e0ac7ee4ed div.sk-dashed-wrapped {border: 1px dashed gray;margin: 0 0.4em 0.5em 0.4em;box-sizing: border-box;padding-bottom: 0.4em;background-color: white;position: relative;}#sk-38cb33dd-547a-4fd7-a970-84e0ac7ee4ed div.sk-label label {font-family: monospace;font-weight: bold;background-color: white;display: inline-block;line-height: 1.2em;}#sk-38cb33dd-547a-4fd7-a970-84e0ac7ee4ed div.sk-label-container {position: relative;z-index: 2;text-align: center;}#sk-38cb33dd-547a-4fd7-a970-84e0ac7ee4ed div.sk-container {/* jupyter's `normalize.less` sets `[hidden] { display: none; }` but bootstrap.min.css set `[hidden] { display: none !important; }` so we also need the `!important` here to be able to override the default hidden behavior on the sphinx rendered scikit-learn.org. See: https://github.com/scikit-learn/scikit-learn/issues/21755 */display: inline-block !important;position: relative;}#sk-38cb33dd-547a-4fd7-a970-84e0ac7ee4ed div.sk-text-repr-fallback {display: none;}</style><div id=\"sk-38cb33dd-547a-4fd7-a970-84e0ac7ee4ed\" class=\"sk-top-container\"><div class=\"sk-text-repr-fallback\"><pre>RandomForestClassifier(random_state=42)</pre><b>Please rerun this cell to show the HTML repr or trust the notebook.</b></div><div class=\"sk-container\" hidden><div class=\"sk-item\"><div class=\"sk-estimator sk-toggleable\"><input class=\"sk-toggleable__control sk-hidden--visually\" id=\"8a1e90fc-8407-47c1-94cf-59fd995e67aa\" type=\"checkbox\" checked><label for=\"8a1e90fc-8407-47c1-94cf-59fd995e67aa\" class=\"sk-toggleable__label sk-toggleable__label-arrow\">RandomForestClassifier</label><div class=\"sk-toggleable__content\"><pre>RandomForestClassifier(random_state=42)</pre></div></div></div></div></div>"
            ]
          },
          "metadata": {},
          "execution_count": 182
        }
      ]
    },
    {
      "cell_type": "code",
      "source": [
        "# Looking at some hyperparameters that seem tunable\n",
        "rf.get_params()"
      ],
      "metadata": {
        "id": "yZDOP3ZdqRir",
        "colab": {
          "base_uri": "https://localhost:8080/"
        },
        "outputId": "bf964242-6d24-4fae-c06e-8e17f036c271"
      },
      "execution_count": 183,
      "outputs": [
        {
          "output_type": "execute_result",
          "data": {
            "text/plain": [
              "{'bootstrap': True,\n",
              " 'ccp_alpha': 0.0,\n",
              " 'class_weight': None,\n",
              " 'criterion': 'gini',\n",
              " 'max_depth': None,\n",
              " 'max_features': 'auto',\n",
              " 'max_leaf_nodes': None,\n",
              " 'max_samples': None,\n",
              " 'min_impurity_decrease': 0.0,\n",
              " 'min_samples_leaf': 1,\n",
              " 'min_samples_split': 2,\n",
              " 'min_weight_fraction_leaf': 0.0,\n",
              " 'n_estimators': 100,\n",
              " 'n_jobs': None,\n",
              " 'oob_score': False,\n",
              " 'random_state': 42,\n",
              " 'verbose': 0,\n",
              " 'warm_start': False}"
            ]
          },
          "metadata": {},
          "execution_count": 183
        }
      ]
    },
    {
      "cell_type": "code",
      "source": [
        "y_pred=rf.predict(X_test_processed)"
      ],
      "metadata": {
        "id": "VLey4S77qu40"
      },
      "execution_count": 184,
      "outputs": []
    },
    {
      "cell_type": "code",
      "source": [
        "# evaluar el rendimiento del modelo\n",
        "rf_train_score = rf.score(X_train_processed, y_train)\n",
        "rf_test_score = rf.score(X_test_processed, y_test)\n",
        "print(rf_train_score)\n",
        "print(rf_test_score)"
      ],
      "metadata": {
        "colab": {
          "base_uri": "https://localhost:8080/"
        },
        "id": "Bub39seZq5OC",
        "outputId": "96d8e74a-fc41-442a-ed15-38153274dece"
      },
      "execution_count": 185,
      "outputs": [
        {
          "output_type": "stream",
          "name": "stdout",
          "text": [
            "1.0\n",
            "1.0\n"
          ]
        }
      ]
    },
    {
      "cell_type": "code",
      "source": [
        "plt.figure(figsize=(30,30))\n",
        "tree.plot_tree(\n",
        "    dec_tree,\n",
        "    rounded=True,\n",
        "    filled=True)"
      ],
      "metadata": {
        "colab": {
          "base_uri": "https://localhost:8080/",
          "height": 1000
        },
        "id": "EKJzb5WC-gyz",
        "outputId": "f0119050-c94f-4a30-fc27-73bd41f89ee5"
      },
      "execution_count": 186,
      "outputs": [
        {
          "output_type": "execute_result",
          "data": {
            "text/plain": [
              "[Text(0.6, 0.8333333333333334, 'X[7] <= 0.5\\ngini = 0.667\\nsamples = 750\\nvalue = [250, 254, 246]'),\n",
              " Text(0.4, 0.5, 'X[8] <= 0.5\\ngini = 0.5\\nsamples = 496\\nvalue = [250, 0, 246]'),\n",
              " Text(0.2, 0.16666666666666666, 'gini = 0.0\\nsamples = 250\\nvalue = [250, 0, 0]'),\n",
              " Text(0.6, 0.16666666666666666, 'gini = 0.0\\nsamples = 246\\nvalue = [0, 0, 246]'),\n",
              " Text(0.8, 0.5, 'gini = 0.0\\nsamples = 254\\nvalue = [0, 254, 0]')]"
            ]
          },
          "metadata": {},
          "execution_count": 186
        },
        {
          "output_type": "display_data",
          "data": {
            "text/plain": [
              "<Figure size 2160x2160 with 1 Axes>"
            ],
            "image/png": "[encoded data removed]"
          },
          "metadata": {
            "needs_background": "light"
          }
        }
      ]
    },
    {
      "cell_type": "code",
      "source": [
        "cm = metrics.confusion_matrix(y_test, y_pred)\n",
        "print(cm)\n",
        "print(cm.ravel())\n",
        "tn, fp, fn, tp = cm.ravel()\n",
        "print(tn, fp, fn, tp)"
      ],
      "metadata": {
        "id": "UDP0vyyI-jgR",
        "colab": {
          "base_uri": "https://localhost:8080/",
          "height": 290
        },
        "outputId": "1dfed650-4012-4192-c4a1-709514dde7ff"
      },
      "execution_count": 187,
      "outputs": [
        {
          "output_type": "stream",
          "name": "stdout",
          "text": [
            "[[90  0  0]\n",
            " [ 0 78  0]\n",
            " [ 0  0 82]]\n",
            "[90  0  0  0 78  0  0  0 82]\n"
          ]
        },
        {
          "output_type": "error",
          "ename": "ValueError",
          "evalue": "ignored",
          "traceback": [
            "\u001b[0;31m---------------------------------------------------------------------------\u001b[0m",
            "\u001b[0;31mValueError\u001b[0m                                Traceback (most recent call last)",
            "\u001b[0;32m<ipython-input-187-bcb969c57ac0>\u001b[0m in \u001b[0;36m<module>\u001b[0;34m\u001b[0m\n\u001b[1;32m      2\u001b[0m \u001b[0mprint\u001b[0m\u001b[0;34m(\u001b[0m\u001b[0mcm\u001b[0m\u001b[0;34m)\u001b[0m\u001b[0;34m\u001b[0m\u001b[0;34m\u001b[0m\u001b[0m\n\u001b[1;32m      3\u001b[0m \u001b[0mprint\u001b[0m\u001b[0;34m(\u001b[0m\u001b[0mcm\u001b[0m\u001b[0;34m.\u001b[0m\u001b[0mravel\u001b[0m\u001b[0;34m(\u001b[0m\u001b[0;34m)\u001b[0m\u001b[0;34m)\u001b[0m\u001b[0;34m\u001b[0m\u001b[0;34m\u001b[0m\u001b[0m\n\u001b[0;32m----> 4\u001b[0;31m \u001b[0mtn\u001b[0m\u001b[0;34m,\u001b[0m \u001b[0mfp\u001b[0m\u001b[0;34m,\u001b[0m \u001b[0mfn\u001b[0m\u001b[0;34m,\u001b[0m \u001b[0mtp\u001b[0m \u001b[0;34m=\u001b[0m \u001b[0mcm\u001b[0m\u001b[0;34m.\u001b[0m\u001b[0mravel\u001b[0m\u001b[0;34m(\u001b[0m\u001b[0;34m)\u001b[0m\u001b[0;34m\u001b[0m\u001b[0;34m\u001b[0m\u001b[0m\n\u001b[0m\u001b[1;32m      5\u001b[0m \u001b[0mprint\u001b[0m\u001b[0;34m(\u001b[0m\u001b[0mtn\u001b[0m\u001b[0;34m,\u001b[0m \u001b[0mfp\u001b[0m\u001b[0;34m,\u001b[0m \u001b[0mfn\u001b[0m\u001b[0;34m,\u001b[0m \u001b[0mtp\u001b[0m\u001b[0;34m)\u001b[0m\u001b[0;34m\u001b[0m\u001b[0;34m\u001b[0m\u001b[0m\n",
            "\u001b[0;31mValueError\u001b[0m: too many values to unpack (expected 4)"
          ]
        }
      ]
    },
    {
      "cell_type": "code",
      "source": [
        "f = sns.heatmap(cm, annot=True)"
      ],
      "metadata": {
        "colab": {
          "base_uri": "https://localhost:8080/",
          "height": 269
        },
        "id": "PpJmy9O2-vp4",
        "outputId": "2964ed40-c9b9-4a68-8ed3-01f7eb489299"
      },
      "execution_count": 188,
      "outputs": [
        {
          "output_type": "display_data",
          "data": {
            "text/plain": [
              "<Figure size 432x288 with 2 Axes>"
            ],
            "image/png": "[encoded data removed]"
          },
          "metadata": {
            "needs_background": "light"
          }
        }
      ]
    },
    {
      "cell_type": "code",
      "source": [
        "print(classification_report(y_test, y_pred))"
      ],
      "metadata": {
        "colab": {
          "base_uri": "https://localhost:8080/"
        },
        "id": "Mw48GaDmCc5K",
        "outputId": "8b60c69f-6334-4c9d-d147-500e281a929f"
      },
      "execution_count": 232,
      "outputs": [
        {
          "output_type": "stream",
          "name": "stdout",
          "text": [
            "              precision    recall  f1-score   support\n",
            "\n",
            "           A       1.00      1.00      1.00        90\n",
            "           B       1.00      1.00      1.00        78\n",
            "           C       1.00      1.00      1.00        82\n",
            "\n",
            "    accuracy                           1.00       250\n",
            "   macro avg       1.00      1.00      1.00       250\n",
            "weighted avg       1.00      1.00      1.00       250\n",
            "\n"
          ]
        }
      ]
    }
  ]
}